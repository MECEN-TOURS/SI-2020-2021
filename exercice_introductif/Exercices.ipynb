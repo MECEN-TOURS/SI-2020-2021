{
 "cells": [
  {
   "cell_type": "markdown",
   "id": "seventh-aviation",
   "metadata": {},
   "source": [
    "# Exercice\n",
    "\n",
    "Résoudre le programme\n",
    "\n",
    "$$\n",
    "\\underset{g_1(x,y)\\geq 0, g_2(x,y)\\geq 0}{\\sup} f(x,y)\n",
    "$$\n",
    "Avec "
   ]
  },
  {
   "cell_type": "markdown",
   "id": "powerful-shareware",
   "metadata": {},
   "source": [
    "## Premier cas\n",
    "\n",
    "$$\n",
    "f(x,y)= 1 + 2x-x^2-y^2\n",
    "$$\n",
    "\n",
    "$$\n",
    "g_1(x,y) = 2+2x-2y-x^2-y^2\n",
    "$$\n",
    "\n",
    "$$\n",
    "g_2(x,y)=2+2x+2y-x^2-y^2\n",
    "$$"
   ]
  },
  {
   "cell_type": "markdown",
   "id": "unknown-dodge",
   "metadata": {},
   "source": [
    "## Second cas\n",
    "\n",
    "$$\n",
    "f(x,y)= 1 + 2x-x^2-y^2\n",
    "$$\n",
    "\n",
    "$$\n",
    "g_1(x,y) = 2+2x-2y-x^2-y^2\n",
    "$$\n",
    "\n",
    "$$\n",
    "g_2(x,y)=2+2x+2y-x^2-y^2\n",
    "$$"
   ]
  },
  {
   "cell_type": "code",
   "execution_count": null,
   "id": "fifty-nutrition",
   "metadata": {},
   "outputs": [],
   "source": []
  }
 ],
 "metadata": {
  "kernelspec": {
   "display_name": "Python 3",
   "language": "python",
   "name": "python3"
  },
  "language_info": {
   "codemirror_mode": {
    "name": "ipython",
    "version": 3
   },
   "file_extension": ".py",
   "mimetype": "text/x-python",
   "name": "python",
   "nbconvert_exporter": "python",
   "pygments_lexer": "ipython3",
   "version": "3.8.3"
  }
 },
 "nbformat": 4,
 "nbformat_minor": 5
}
