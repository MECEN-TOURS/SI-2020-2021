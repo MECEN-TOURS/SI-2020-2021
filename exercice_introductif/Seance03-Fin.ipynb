{
 "cells": [
  {
   "cell_type": "markdown",
   "id": "noticed-cedar",
   "metadata": {},
   "source": [
    "## Import et configuration générale"
   ]
  },
  {
   "cell_type": "code",
   "execution_count": 1,
   "id": "seven-lover",
   "metadata": {},
   "outputs": [],
   "source": [
    "import sympy as sp\n",
    "import matplotlib.pyplot as plt\n",
    "import numpy as np"
   ]
  },
  {
   "cell_type": "code",
   "execution_count": 2,
   "id": "nuclear-opera",
   "metadata": {},
   "outputs": [],
   "source": [
    "from IPython.display import display, Math"
   ]
  },
  {
   "cell_type": "code",
   "execution_count": 3,
   "id": "adult-institution",
   "metadata": {},
   "outputs": [],
   "source": [
    "sp.init_printing()\n",
    "\n",
    "%matplotlib inline\n",
    "plt.rcParams[\"figure.figsize\"] = (12, 8)"
   ]
  },
  {
   "cell_type": "markdown",
   "id": "spread-board",
   "metadata": {},
   "source": [
    "# Enoncé\n",
    "\n",
    "Consider a monopoly market in which consumers’ opportunity cost $x$ is uniformly distributed on the unit interval; i.e.,$x\\in [0, 1]$. \n",
    "A consumer’s utility of consuming one unit of the good offered by the monopolist relative to the outside option is $\\frac{1}{4} + \\frac{n^e}{2} -p - x$, where \n",
    "- $p$ is the price set by the monopolist \n",
    "- $n^e$ is the expected number of fellow buyers of the good. \n",
    "There is mass one of consumers. \n",
    "The monopolist’s marginal costs are zero."
   ]
  },
  {
   "cell_type": "markdown",
   "id": "shared-lodge",
   "metadata": {},
   "source": [
    "## Introduction des symboles et expressions correspondantes"
   ]
  },
  {
   "cell_type": "code",
   "execution_count": 4,
   "id": "natural-latin",
   "metadata": {},
   "outputs": [
    {
     "data": {
      "image/png": "[encoded data removed]",
      "text/latex": [
       "$\\displaystyle \\left( n^{e}, \\  p, \\  x\\right)$"
      ],
      "text/plain": [
       "(n__e, p, x)"
      ]
     },
     "execution_count": 4,
     "metadata": {},
     "output_type": "execute_result"
    }
   ],
   "source": [
    "ne, p, x = sp.symbols(\"n^e p x\")\n",
    "ne, p, x"
   ]
  },
  {
   "cell_type": "code",
   "execution_count": 5,
   "id": "formed-jason",
   "metadata": {},
   "outputs": [
    {
     "data": {
      "text/latex": [
       "$\\displaystyle U=\\frac{n^{e}}{2} - p - x + \\frac{1}{4}$"
      ],
      "text/plain": [
       "<IPython.core.display.Math object>"
      ]
     },
     "metadata": {},
     "output_type": "display_data"
    }
   ],
   "source": [
    "utilite_consommateur = sp.S(1) / 4 + ne / 2 - p - x\n",
    "display(Math(f\"U={sp.latex(utilite_consommateur)}\"))"
   ]
  },
  {
   "cell_type": "markdown",
   "id": "productive-environment",
   "metadata": {},
   "source": [
    "# Question 1\n",
    "\n",
    "Suppose that consumers believe that $n^e = 1$.\n",
    "Determine the monopoly solution under these consumer believes."
   ]
  },
  {
   "cell_type": "markdown",
   "id": "beginning-paint",
   "metadata": {},
   "source": [
    "## Récupération de la demande\n",
    "\n",
    "\n",
    "**A FAIRE** Pourquoi résout-on $\\text{utilite_consommateur} = 0$?"
   ]
  },
  {
   "cell_type": "code",
   "execution_count": 6,
   "id": "limiting-management",
   "metadata": {},
   "outputs": [
    {
     "data": {
      "image/png": "[encoded data removed]",
      "text/latex": [
       "$\\displaystyle - p - x + \\frac{3}{4} = 0$"
      ],
      "text/plain": [
       "-p - x + 3/4 = 0"
      ]
     },
     "execution_count": 6,
     "metadata": {},
     "output_type": "execute_result"
    }
   ],
   "source": [
    "equation = sp.Eq(utilite_consommateur.subs(ne, 1), 0)\n",
    "equation"
   ]
  },
  {
   "cell_type": "code",
   "execution_count": 7,
   "id": "chicken-voluntary",
   "metadata": {},
   "outputs": [
    {
     "data": {
      "image/png": "[encoded data removed]",
      "text/latex": [
       "$\\displaystyle \\frac{3}{4} - p$"
      ],
      "text/plain": [
       "3/4 - p"
      ]
     },
     "execution_count": 7,
     "metadata": {},
     "output_type": "execute_result"
    }
   ],
   "source": [
    "x1, = sp.solve(equation, x)\n",
    "x1"
   ]
  },
  {
   "cell_type": "markdown",
   "id": "helpful-rocket",
   "metadata": {},
   "source": [
    "## Expression du programme"
   ]
  },
  {
   "cell_type": "code",
   "execution_count": 8,
   "id": "interesting-heritage",
   "metadata": {},
   "outputs": [
    {
     "data": {
      "image/png": "[encoded data removed]",
      "text/latex": [
       "$\\displaystyle p \\left(\\frac{3}{4} - p\\right)$"
      ],
      "text/plain": [
       "p⋅(3/4 - p)"
      ]
     },
     "execution_count": 8,
     "metadata": {},
     "output_type": "execute_result"
    }
   ],
   "source": [
    "profit = p * x1\n",
    "profit"
   ]
  },
  {
   "cell_type": "markdown",
   "id": "efficient-checkout",
   "metadata": {},
   "source": [
    "On cherche alors\n",
    "$$ \\underset{p\\in \\mathbb{R}^+}{\\sup} \\mathrm{profit}$$"
   ]
  },
  {
   "cell_type": "markdown",
   "id": "removable-aside",
   "metadata": {},
   "source": [
    "## Existence\n",
    "\n",
    "Comme on a "
   ]
  },
  {
   "cell_type": "code",
   "execution_count": 9,
   "id": "exposed-stream",
   "metadata": {},
   "outputs": [
    {
     "data": {
      "image/png": "[encoded data removed]",
      "text/latex": [
       "$\\displaystyle -\\infty$"
      ],
      "text/plain": [
       "-∞"
      ]
     },
     "execution_count": 9,
     "metadata": {},
     "output_type": "execute_result"
    }
   ],
   "source": [
    "sp.limit(profit, p, +sp.oo)"
   ]
  },
  {
   "cell_type": "markdown",
   "id": "stretch-omaha",
   "metadata": {},
   "source": [
    "On en déduit que le $\\sup$ est un $\\max$."
   ]
  },
  {
   "cell_type": "markdown",
   "id": "through-screen",
   "metadata": {},
   "source": [
    "## Calcul des points critiques\n",
    "\n",
    "Si il est atteint à l'intérieur on a"
   ]
  },
  {
   "cell_type": "code",
   "execution_count": 10,
   "id": "controlled-controversy",
   "metadata": {},
   "outputs": [
    {
     "data": {
      "image/png": "[encoded data removed]",
      "text/latex": [
       "$\\displaystyle \\frac{3}{8}$"
      ],
      "text/plain": [
       "3/8"
      ]
     },
     "execution_count": 10,
     "metadata": {},
     "output_type": "execute_result"
    }
   ],
   "source": [
    "pm, = sp.solve(sp.diff(profit, p), p)\n",
    "pm"
   ]
  },
  {
   "cell_type": "code",
   "execution_count": 11,
   "id": "resident-tattoo",
   "metadata": {},
   "outputs": [
    {
     "data": {
      "image/png": "[encoded data removed]",
      "text/latex": [
       "$\\displaystyle \\frac{3}{8}$"
      ],
      "text/plain": [
       "3/8"
      ]
     },
     "execution_count": 11,
     "metadata": {},
     "output_type": "execute_result"
    }
   ],
   "source": [
    "nm, = sp.solve(utilite_consommateur.subs({ne: 1, p: pm}), x)\n",
    "nm"
   ]
  },
  {
   "cell_type": "code",
   "execution_count": 12,
   "id": "trying-desperate",
   "metadata": {},
   "outputs": [
    {
     "data": {
      "image/png": "[encoded data removed]",
      "text/latex": [
       "$\\displaystyle \\frac{9}{64}$"
      ],
      "text/plain": [
       "9/64"
      ]
     },
     "execution_count": 12,
     "metadata": {},
     "output_type": "execute_result"
    }
   ],
   "source": [
    "profitm = profit.subs(p, pm)\n",
    "profitm"
   ]
  },
  {
   "cell_type": "markdown",
   "id": "driving-trader",
   "metadata": {},
   "source": [
    "## Gestion du bord\n",
    "\n",
    "Le profit est une fonction concave, on en déduit donc qu'un point critique est un maximum global."
   ]
  },
  {
   "cell_type": "code",
   "execution_count": 13,
   "id": "outer-lucas",
   "metadata": {},
   "outputs": [
    {
     "data": {
      "image/png": "[encoded data removed]",
      "text/latex": [
       "$\\displaystyle -2$"
      ],
      "text/plain": [
       "-2"
      ]
     },
     "execution_count": 13,
     "metadata": {},
     "output_type": "execute_result"
    }
   ],
   "source": [
    "sp.diff(profit, p, p)"
   ]
  },
  {
   "cell_type": "markdown",
   "id": "narrative-mambo",
   "metadata": {},
   "source": [
    "**REMARQUE** on aurait pu comparer la valeur en ce point avec la valeur au bord et prendre la plus grande des deux."
   ]
  },
  {
   "cell_type": "code",
   "execution_count": 14,
   "id": "direct-volunteer",
   "metadata": {},
   "outputs": [
    {
     "data": {
      "text/latex": [
       "$\\displaystyle \\text{True}$"
      ],
      "text/plain": [
       "True"
      ]
     },
     "execution_count": 14,
     "metadata": {},
     "output_type": "execute_result"
    }
   ],
   "source": [
    "sp.Lt(profit.subs(p, 0), profitm)"
   ]
  },
  {
   "cell_type": "markdown",
   "id": "perfect-boulder",
   "metadata": {},
   "source": [
    "**A FAIRE** résumé toutes les données de cette question qu'on utilisera à l'extérieur dans un objet réponse."
   ]
  },
  {
   "cell_type": "code",
   "execution_count": 16,
   "id": "structural-jason",
   "metadata": {},
   "outputs": [],
   "source": [
    "resultat_1 = {\n",
    "    \"prix\": pm,\n",
    "    \"demande\": nm,\n",
    "    \"profit\": profitm,\n",
    "}"
   ]
  },
  {
   "cell_type": "markdown",
   "id": "romance-preservation",
   "metadata": {},
   "source": [
    "# Question 2\n",
    "\n",
    "Suppose that consumers form beliefs $n^e$ before observing price $p$ and that these beliefs are confirmed in equilibrium; i.e. \n",
    "$$n^e=n^∗.$$ \n",
    "Determine the monopoly solution under these consumer beliefs."
   ]
  },
  {
   "cell_type": "markdown",
   "id": "color-tunnel",
   "metadata": {},
   "source": [
    "## Récupération de la demande"
   ]
  },
  {
   "cell_type": "code",
   "execution_count": 17,
   "id": "durable-italian",
   "metadata": {},
   "outputs": [
    {
     "data": {
      "image/png": "[encoded data removed]",
      "text/latex": [
       "$\\displaystyle \\frac{n^{e}}{2} - p - x + \\frac{1}{4} = 0$"
      ],
      "text/plain": [
       "n__e           1    \n",
       "──── - p - x + ─ = 0\n",
       " 2             4    "
      ]
     },
     "execution_count": 17,
     "metadata": {},
     "output_type": "execute_result"
    }
   ],
   "source": [
    "equation = sp.Eq(utilite_consommateur, 0)\n",
    "equation"
   ]
  },
  {
   "cell_type": "code",
   "execution_count": 19,
   "id": "informational-progress",
   "metadata": {},
   "outputs": [
    {
     "data": {
      "image/png": "[encoded data removed]",
      "text/latex": [
       "$\\displaystyle \\frac{n^{e}}{2} - p + \\frac{1}{4}$"
      ],
      "text/plain": [
       "n__e       1\n",
       "──── - p + ─\n",
       " 2         4"
      ]
     },
     "execution_count": 19,
     "metadata": {},
     "output_type": "execute_result"
    }
   ],
   "source": [
    "x, = sp.solve(equation, x)\n",
    "x"
   ]
  },
  {
   "cell_type": "markdown",
   "id": "romantic-requirement",
   "metadata": {},
   "source": [
    "## Expression du programme"
   ]
  },
  {
   "cell_type": "code",
   "execution_count": 20,
   "id": "portuguese-printing",
   "metadata": {},
   "outputs": [
    {
     "data": {
      "image/png": "[encoded data removed]",
      "text/latex": [
       "$\\displaystyle p \\left(\\frac{n^{e}}{2} - p + \\frac{1}{4}\\right)$"
      ],
      "text/plain": [
       "  ⎛n__e       1⎞\n",
       "p⋅⎜──── - p + ─⎟\n",
       "  ⎝ 2         4⎠"
      ]
     },
     "execution_count": 20,
     "metadata": {},
     "output_type": "execute_result"
    }
   ],
   "source": [
    "profit = p * x\n",
    "profit"
   ]
  },
  {
   "cell_type": "code",
   "execution_count": 21,
   "id": "irish-seeking",
   "metadata": {},
   "outputs": [
    {
     "data": {
      "text/plain": [
       "'p \\\\left(\\\\frac{n^{e}}{2} - p + \\\\frac{1}{4}\\\\right)'"
      ]
     },
     "execution_count": 21,
     "metadata": {},
     "output_type": "execute_result"
    }
   ],
   "source": [
    "sp.latex(profit)"
   ]
  },
  {
   "cell_type": "markdown",
   "id": "miniature-premiere",
   "metadata": {},
   "source": [
    "On cherche donc à résoudre\n",
    "\n",
    "$$\n",
    "\\underset{p\\geq 0}{\\sup} p \\left(\\frac{n^{e}}{2} - p + \\frac{1}{4}\\right)\n",
    "$$\n"
   ]
  },
  {
   "cell_type": "markdown",
   "id": "alive-symposium",
   "metadata": {},
   "source": [
    "## Existence\n",
    "\n",
    "Comme"
   ]
  },
  {
   "cell_type": "code",
   "execution_count": 22,
   "id": "ordered-purchase",
   "metadata": {},
   "outputs": [
    {
     "data": {
      "image/png": "[encoded data removed]",
      "text/latex": [
       "$\\displaystyle -\\infty$"
      ],
      "text/plain": [
       "-∞"
      ]
     },
     "execution_count": 22,
     "metadata": {},
     "output_type": "execute_result"
    }
   ],
   "source": [
    "sp.limit(profit, p, + sp.oo)"
   ]
  },
  {
   "cell_type": "markdown",
   "id": "recovered-salvation",
   "metadata": {},
   "source": [
    "La fonction est coercive, le $\\sup$ est atteint, et on a un $\\max$."
   ]
  },
  {
   "cell_type": "markdown",
   "id": "varying-consumption",
   "metadata": {},
   "source": [
    "## Recherche des points critiques"
   ]
  },
  {
   "cell_type": "markdown",
   "id": "intermediate-massage",
   "metadata": {},
   "source": [
    "Si il est atteint en un point intérieur on a forcément un point critique:"
   ]
  },
  {
   "cell_type": "code",
   "execution_count": 23,
   "id": "accessible-container",
   "metadata": {},
   "outputs": [
    {
     "data": {
      "image/png": "[encoded data removed]",
      "text/latex": [
       "$\\displaystyle \\frac{n^{e}}{4} + \\frac{1}{8}$"
      ],
      "text/plain": [
       "n__e   1\n",
       "──── + ─\n",
       " 4     8"
      ]
     },
     "execution_count": 23,
     "metadata": {},
     "output_type": "execute_result"
    }
   ],
   "source": [
    "pm, = sp.solve(sp.diff(profit, p), p)\n",
    "pm"
   ]
  },
  {
   "cell_type": "code",
   "execution_count": 24,
   "id": "rocky-dividend",
   "metadata": {},
   "outputs": [
    {
     "ename": "ValueError",
     "evalue": "not enough values to unpack (expected 1, got 0)",
     "output_type": "error",
     "traceback": [
      "\u001b[0;31m---------------------------------------------------------------------------\u001b[0m",
      "\u001b[0;31mValueError\u001b[0m                                Traceback (most recent call last)",
      "\u001b[0;32m<ipython-input-24-99408933838e>\u001b[0m in \u001b[0;36m<module>\u001b[0;34m\u001b[0m\n\u001b[0;32m----> 1\u001b[0;31m \u001b[0mn\u001b[0m\u001b[0;34m,\u001b[0m \u001b[0;34m=\u001b[0m \u001b[0msp\u001b[0m\u001b[0;34m.\u001b[0m\u001b[0msolve\u001b[0m\u001b[0;34m(\u001b[0m\u001b[0mutilite_consommateur\u001b[0m\u001b[0;34m.\u001b[0m\u001b[0msubs\u001b[0m\u001b[0;34m(\u001b[0m\u001b[0;34m{\u001b[0m\u001b[0mp\u001b[0m\u001b[0;34m:\u001b[0m \u001b[0mpm\u001b[0m\u001b[0;34m}\u001b[0m\u001b[0;34m)\u001b[0m\u001b[0;34m,\u001b[0m \u001b[0mx\u001b[0m\u001b[0;34m)\u001b[0m\u001b[0;34m\u001b[0m\u001b[0;34m\u001b[0m\u001b[0m\n\u001b[0m\u001b[1;32m      2\u001b[0m \u001b[0mn\u001b[0m\u001b[0;34m\u001b[0m\u001b[0;34m\u001b[0m\u001b[0m\n",
      "\u001b[0;31mValueError\u001b[0m: not enough values to unpack (expected 1, got 0)"
     ]
    }
   ],
   "source": [
    "n, = sp.solve(utilite_consommateur.subs({p: pm}), x)\n",
    "n"
   ]
  },
  {
   "cell_type": "markdown",
   "id": "falling-engineering",
   "metadata": {},
   "source": [
    "## Gestion du bord\n",
    "\n",
    "Comme on a"
   ]
  },
  {
   "cell_type": "code",
   "execution_count": 22,
   "id": "greenhouse-belfast",
   "metadata": {},
   "outputs": [
    {
     "data": {
      "image/png": "[encoded data removed]",
      "text/latex": [
       "$\\displaystyle -2$"
      ],
      "text/plain": [
       "-2"
      ]
     },
     "execution_count": 22,
     "metadata": {},
     "output_type": "execute_result"
    }
   ],
   "source": [
    "sp.diff(profit, p, p)"
   ]
  },
  {
   "cell_type": "markdown",
   "id": "engaging-merchant",
   "metadata": {},
   "source": [
    "Le profit est concave par rapport à $p$ et un point critique est forcément un maximum global."
   ]
  },
  {
   "cell_type": "markdown",
   "id": "hispanic-terminology",
   "metadata": {},
   "source": [
    "## ??\n",
    "\n",
    "Comme par hypothèse $n^* = n^e$ on a "
   ]
  },
  {
   "cell_type": "code",
   "execution_count": 23,
   "id": "ancient-marble",
   "metadata": {},
   "outputs": [
    {
     "data": {
      "image/png": "[encoded data removed]",
      "text/latex": [
       "$\\displaystyle \\frac{n^{e}}{4} + \\frac{1}{8} = n^{e}$"
      ],
      "text/plain": [
       "n__e   1       \n",
       "──── + ─ = n__e\n",
       " 4     8       "
      ]
     },
     "execution_count": 23,
     "metadata": {},
     "output_type": "execute_result"
    }
   ],
   "source": [
    "equation2b = sp.Eq(ns, ne)\n",
    "equation2b"
   ]
  },
  {
   "cell_type": "code",
   "execution_count": 24,
   "id": "industrial-motorcycle",
   "metadata": {},
   "outputs": [
    {
     "data": {
      "image/png": "[encoded data removed]",
      "text/latex": [
       "$\\displaystyle \\frac{1}{6}$"
      ],
      "text/plain": [
       "1/6"
      ]
     },
     "execution_count": 24,
     "metadata": {},
     "output_type": "execute_result"
    }
   ],
   "source": [
    "ne2, = sp.solve(equation2b, ne)\n",
    "ne2"
   ]
  },
  {
   "cell_type": "code",
   "execution_count": 25,
   "id": "assumed-hierarchy",
   "metadata": {},
   "outputs": [
    {
     "data": {
      "image/png": "[encoded data removed]",
      "text/latex": [
       "$\\displaystyle p \\left(\\frac{1}{3} - p\\right)$"
      ],
      "text/plain": [
       "p⋅(1/3 - p)"
      ]
     },
     "execution_count": 25,
     "metadata": {},
     "output_type": "execute_result"
    }
   ],
   "source": [
    "profit2b = profit2.subs(ne, ne2)\n",
    "profit2b"
   ]
  },
  {
   "cell_type": "markdown",
   "id": "comprehensive-worship",
   "metadata": {},
   "source": [
    "On refait la démarche précédente"
   ]
  },
  {
   "cell_type": "code",
   "execution_count": 26,
   "id": "shared-maine",
   "metadata": {},
   "outputs": [
    {
     "data": {
      "image/png": "[encoded data removed]",
      "text/latex": [
       "$\\displaystyle -\\infty$"
      ],
      "text/plain": [
       "-∞"
      ]
     },
     "execution_count": 26,
     "metadata": {},
     "output_type": "execute_result"
    }
   ],
   "source": [
    "sp.limit(profit2b, p, +sp.oo)"
   ]
  },
  {
   "cell_type": "code",
   "execution_count": 27,
   "id": "static-probe",
   "metadata": {},
   "outputs": [
    {
     "data": {
      "image/png": "[encoded data removed]",
      "text/latex": [
       "$\\displaystyle \\frac{1}{6}$"
      ],
      "text/plain": [
       "1/6"
      ]
     },
     "execution_count": 27,
     "metadata": {},
     "output_type": "execute_result"
    }
   ],
   "source": [
    "pm2b, = sp.solve(sp.diff(profit2b, p), p)\n",
    "pm2b"
   ]
  },
  {
   "cell_type": "code",
   "execution_count": 28,
   "id": "apart-gamma",
   "metadata": {},
   "outputs": [
    {
     "data": {
      "image/png": "[encoded data removed]",
      "text/latex": [
       "$\\displaystyle \\frac{1}{6}$"
      ],
      "text/plain": [
       "1/6"
      ]
     },
     "metadata": {},
     "output_type": "display_data"
    }
   ],
   "source": [
    "nm2 = ne2\n",
    "display(nm2)"
   ]
  },
  {
   "cell_type": "code",
   "execution_count": 29,
   "id": "dress-hypothetical",
   "metadata": {},
   "outputs": [
    {
     "data": {
      "image/png": "[encoded data removed]",
      "text/latex": [
       "$\\displaystyle \\frac{1}{36}$"
      ],
      "text/plain": [
       "1/36"
      ]
     },
     "execution_count": 29,
     "metadata": {},
     "output_type": "execute_result"
    }
   ],
   "source": [
    "pr2 = profit2b.subs(p, pm2b)\n",
    "pr2"
   ]
  },
  {
   "cell_type": "markdown",
   "id": "intellectual-identifier",
   "metadata": {},
   "source": [
    "**ATTENTION** il faudrait argumenter que les points critiques sont bien strictement dans l'intérieur du domaine de maximisation.\n",
    "On peut au moment de la création de symboles rajouter de l'information à priori via des argument nommés de type `positive=True` et `real=True`."
   ]
  },
  {
   "cell_type": "markdown",
   "id": "rough-purple",
   "metadata": {},
   "source": [
    "# Question 3\n",
    "\n",
    "Suppose that consumers first observe price and then form beliefs\n",
    "$$n^e(p)$$ \n",
    "and that beliefs are self-fulfilling; i.e., they are confirmed in the monopoly solution. \n",
    "Determine the monopoly solution under these consumer beliefs."
   ]
  },
  {
   "cell_type": "code",
   "execution_count": 30,
   "id": "removable-algebra",
   "metadata": {},
   "outputs": [
    {
     "data": {
      "image/png": "[encoded data removed]",
      "text/latex": [
       "$\\displaystyle \\frac{n^{e}}{2} - p + \\frac{1}{4}$"
      ],
      "text/plain": [
       "n__e       1\n",
       "──── - p + ─\n",
       " 2         4"
      ]
     },
     "execution_count": 30,
     "metadata": {},
     "output_type": "execute_result"
    }
   ],
   "source": [
    "x3, = sp.solve(utilite_consommateur, x)\n",
    "x3"
   ]
  },
  {
   "cell_type": "code",
   "execution_count": 31,
   "id": "secondary-rochester",
   "metadata": {},
   "outputs": [
    {
     "data": {
      "image/png": "[encoded data removed]",
      "text/latex": [
       "$\\displaystyle \\frac{n^{e}}{2} - p + \\frac{1}{4} = n^{e}$"
      ],
      "text/plain": [
       "n__e       1       \n",
       "──── - p + ─ = n__e\n",
       " 2         4       "
      ]
     },
     "metadata": {},
     "output_type": "display_data"
    },
    {
     "data": {
      "image/png": "[encoded data removed]",
      "text/latex": [
       "$\\displaystyle \\frac{1}{2} - 2 p$"
      ],
      "text/plain": [
       "1/2 - 2⋅p"
      ]
     },
     "metadata": {},
     "output_type": "display_data"
    }
   ],
   "source": [
    "equation3 = sp.Eq(x3, ne)\n",
    "display(equation3)\n",
    "n3, = sp.solve(equation3, ne)\n",
    "display(n3)"
   ]
  },
  {
   "cell_type": "code",
   "execution_count": 32,
   "id": "narrow-variation",
   "metadata": {},
   "outputs": [
    {
     "data": {
      "image/png": "[encoded data removed]",
      "text/latex": [
       "$\\displaystyle p \\left(\\frac{1}{2} - 2 p\\right)$"
      ],
      "text/plain": [
       "p⋅(1/2 - 2⋅p)"
      ]
     },
     "metadata": {},
     "output_type": "display_data"
    },
    {
     "name": "stdout",
     "output_type": "stream",
     "text": [
      "p \\left(\\frac{1}{2} - 2 p\\right)\n"
     ]
    }
   ],
   "source": [
    "profit3 = x3.subs({ne: n3}) * p\n",
    "display(profit3)\n",
    "print(sp.latex(profit3))\n"
   ]
  },
  {
   "cell_type": "markdown",
   "id": "atmospheric-fellow",
   "metadata": {},
   "source": [
    "On cherche à résoudre\n",
    "$$\n",
    "\\underset{p\\geq 0}{\\sup} p \\left(\\frac{1}{2} - 2 p\\right)\n",
    "$$\n",
    "Comme"
   ]
  },
  {
   "cell_type": "code",
   "execution_count": 33,
   "id": "hazardous-segment",
   "metadata": {},
   "outputs": [
    {
     "data": {
      "image/png": "[encoded data removed]",
      "text/latex": [
       "$\\displaystyle -\\infty$"
      ],
      "text/plain": [
       "-∞"
      ]
     },
     "execution_count": 33,
     "metadata": {},
     "output_type": "execute_result"
    }
   ],
   "source": [
    "sp.limit(profit3, p, +sp.oo)"
   ]
  },
  {
   "cell_type": "markdown",
   "id": "simple-nightlife",
   "metadata": {},
   "source": [
    "Le $\\sup$ est en fait un $\\max$.\n",
    "\n",
    "S'il est atteint à l'intérieur c'est forcément un point critique."
   ]
  },
  {
   "cell_type": "code",
   "execution_count": 34,
   "id": "furnished-homeless",
   "metadata": {},
   "outputs": [
    {
     "data": {
      "image/png": "[encoded data removed]",
      "text/latex": [
       "$\\displaystyle \\frac{1}{2} - 4 p = 0$"
      ],
      "text/plain": [
       "1/2 - 4⋅p = 0"
      ]
     },
     "metadata": {},
     "output_type": "display_data"
    },
    {
     "data": {
      "image/png": "[encoded data removed]",
      "text/latex": [
       "$\\displaystyle \\frac{1}{8}$"
      ],
      "text/plain": [
       "1/8"
      ]
     },
     "metadata": {},
     "output_type": "display_data"
    }
   ],
   "source": [
    "equation3b = sp.Eq(sp.diff(profit3, p), 0)\n",
    "display(equation3b)\n",
    "pm3, = sp.solve(equation3b, p)\n",
    "display(pm3)"
   ]
  },
  {
   "cell_type": "markdown",
   "id": "fundamental-radiation",
   "metadata": {},
   "source": [
    "Comme on peut calculer "
   ]
  },
  {
   "cell_type": "code",
   "execution_count": 35,
   "id": "enormous-friend",
   "metadata": {},
   "outputs": [
    {
     "data": {
      "image/png": "[encoded data removed]",
      "text/latex": [
       "$\\displaystyle -4$"
      ],
      "text/plain": [
       "-4"
      ]
     },
     "execution_count": 35,
     "metadata": {},
     "output_type": "execute_result"
    }
   ],
   "source": [
    "sp.diff(profit3, p, p)"
   ]
  },
  {
   "cell_type": "markdown",
   "id": "arranged-remains",
   "metadata": {},
   "source": [
    "La fonction profit est concave dont un point critique est un maximum global.\n",
    "\n",
    "On récupère le profit et la demande correspondante par"
   ]
  },
  {
   "cell_type": "code",
   "execution_count": 36,
   "id": "lightweight-pittsburgh",
   "metadata": {},
   "outputs": [
    {
     "data": {
      "image/png": "[encoded data removed]",
      "text/latex": [
       "$\\displaystyle \\frac{1}{32}$"
      ],
      "text/plain": [
       "1/32"
      ]
     },
     "metadata": {},
     "output_type": "display_data"
    },
    {
     "data": {
      "image/png": "[encoded data removed]",
      "text/latex": [
       "$\\displaystyle \\frac{1}{4}$"
      ],
      "text/plain": [
       "1/4"
      ]
     },
     "metadata": {},
     "output_type": "display_data"
    }
   ],
   "source": [
    "pr3 = profit3.subs(p, pm3)\n",
    "display(pr3)\n",
    "nm3 = x3.subs({p: pm3, ne: n3})\n",
    "display(nm3)"
   ]
  },
  {
   "cell_type": "markdown",
   "id": "packed-roads",
   "metadata": {},
   "source": [
    "**REMARQUE** pour améliorer la présentation on pourrait passer les phrases d'introduction avec du latex dans display avant les objets eux mêmes."
   ]
  },
  {
   "cell_type": "markdown",
   "id": "alive-publicity",
   "metadata": {},
   "source": [
    "# Question 4\n",
    "\n",
    "Compare your findings in parts 2 and 3. Explain what is going on."
   ]
  },
  {
   "cell_type": "code",
   "execution_count": 37,
   "id": "sufficient-radar",
   "metadata": {},
   "outputs": [
    {
     "data": {
      "image/png": "[encoded data removed]",
      "text/latex": [
       "$\\displaystyle - p - x + \\frac{1}{3} = 0$"
      ],
      "text/plain": [
       "-p - x + 1/3 = 0"
      ]
     },
     "metadata": {},
     "output_type": "display_data"
    }
   ],
   "source": [
    "equation_demande_2 = sp.Eq(utilite_consommateur.subs(ne, ne2), 0)\n",
    "display(equation_demande_2)"
   ]
  },
  {
   "cell_type": "code",
   "execution_count": 38,
   "id": "normal-recall",
   "metadata": {},
   "outputs": [
    {
     "data": {
      "image/png": "[encoded data removed]",
      "text/latex": [
       "$\\displaystyle \\frac{1}{2} - 2 p = x$"
      ],
      "text/plain": [
       "1/2 - 2⋅p = x"
      ]
     },
     "metadata": {},
     "output_type": "display_data"
    }
   ],
   "source": [
    "equation_demande_3 = sp.Eq(n3, x)\n",
    "display(equation_demande_3)"
   ]
  },
  {
   "cell_type": "code",
   "execution_count": 39,
   "id": "included-brighton",
   "metadata": {},
   "outputs": [
    {
     "data": {
      "image/png": "[encoded data removed]",
      "text/plain": [
       "<Figure size 864x576 with 1 Axes>"
      ]
     },
     "metadata": {
      "needs_background": "light"
     },
     "output_type": "display_data"
    }
   ],
   "source": [
    "courbe_demande_2 = sp.plot_implicit(\n",
    "    equation_demande_2, \n",
    "    (x, 0, 1), \n",
    "    (p, 0, 0.7),\n",
    "    show=False\n",
    ")\n",
    "courbe_demande_2[0].line_color = \"red\"\n",
    "equilibre_2_y = sp.plot_implicit(sp.Eq(p, pm2b), (x, 0, 1), (p, 0, pm2b), show=False)\n",
    "equilibre_2_x = sp.plot_implicit(sp.Eq(x, nm2), (x, 0, nm2), (p, 0, 0.7), show=False)\n",
    "equilibre_2_y[0].line_color = \"red\"\n",
    "equilibre_2_x[0].line_color = \"red\"\n",
    "courbe_demande_2.extend([equilibre_2_y[0], equilibre_2_x[0]])\n",
    "\n",
    "courbe_demande_3 =  sp.plot_implicit(\n",
    "    equation_demande_3, \n",
    "    (x, 0, 1), \n",
    "    (p, 0, 0.7),\n",
    "    show=False\n",
    ")\n",
    "courbe_demande_2.append(courbe_demande_3[0])\n",
    "\n",
    "equilibre_3_y = sp.plot_implicit(sp.Eq(p, pm3), (x, 0, 1), (p, 0, pm3), show=False)\n",
    "equilibre_3_x = sp.plot_implicit(sp.Eq(x, nm3), (x, 0, nm3), (p, 0, 0.7), show=False)\n",
    "courbe_demande_2.extend([equilibre_3_y[0], equilibre_3_x[0]])\n",
    "\n",
    "courbe_demande_2.show()"
   ]
  },
  {
   "cell_type": "markdown",
   "id": "white-branch",
   "metadata": {},
   "source": [
    "Résumé des questions utiles pour l'affichage"
   ]
  },
  {
   "cell_type": "code",
   "execution_count": 40,
   "id": "divided-terrorist",
   "metadata": {
    "tags": []
   },
   "outputs": [
    {
     "data": {
      "image/png": "[encoded data removed]",
      "text/latex": [
       "$\\displaystyle \\frac{1}{6}$"
      ],
      "text/plain": [
       "1/6"
      ]
     },
     "metadata": {},
     "output_type": "display_data"
    },
    {
     "data": {
      "image/png": "[encoded data removed]",
      "text/latex": [
       "$\\displaystyle \\frac{1}{6}$"
      ],
      "text/plain": [
       "1/6"
      ]
     },
     "metadata": {},
     "output_type": "display_data"
    },
    {
     "data": {
      "image/png": "[encoded data removed]",
      "text/latex": [
       "$\\displaystyle \\frac{1}{36}$"
      ],
      "text/plain": [
       "1/36"
      ]
     },
     "metadata": {},
     "output_type": "display_data"
    },
    {
     "data": {
      "image/png": "[encoded data removed]",
      "text/latex": [
       "$\\displaystyle \\frac{1}{4}$"
      ],
      "text/plain": [
       "1/4"
      ]
     },
     "metadata": {},
     "output_type": "display_data"
    },
    {
     "data": {
      "image/png": "[encoded data removed]",
      "text/latex": [
       "$\\displaystyle \\frac{1}{8}$"
      ],
      "text/plain": [
       "1/8"
      ]
     },
     "metadata": {},
     "output_type": "display_data"
    },
    {
     "data": {
      "image/png": "[encoded data removed]",
      "text/latex": [
       "$\\displaystyle \\frac{1}{32}$"
      ],
      "text/plain": [
       "1/32"
      ]
     },
     "metadata": {},
     "output_type": "display_data"
    },
    {
     "data": {
      "image/png": "[encoded data removed]",
      "text/latex": [
       "$\\displaystyle - p - x + \\frac{1}{3}$"
      ],
      "text/plain": [
       "-p - x + 1/3"
      ]
     },
     "metadata": {},
     "output_type": "display_data"
    },
    {
     "data": {
      "image/png": "[encoded data removed]",
      "text/latex": [
       "$\\displaystyle \\frac{1}{3}$"
      ],
      "text/plain": [
       "1/3"
      ]
     },
     "metadata": {},
     "output_type": "display_data"
    },
    {
     "data": {
      "image/png": "[encoded data removed]",
      "text/latex": [
       "$\\displaystyle - 2 p - x + \\frac{1}{2}$"
      ],
      "text/plain": [
       "-2⋅p - x + 1/2"
      ]
     },
     "metadata": {},
     "output_type": "display_data"
    },
    {
     "data": {
      "image/png": "[encoded data removed]",
      "text/latex": [
       "$\\displaystyle \\frac{1}{2}$"
      ],
      "text/plain": [
       "1/2"
      ]
     },
     "metadata": {},
     "output_type": "display_data"
    }
   ],
   "source": [
    "display(ne2, pm2b, pr2)\n",
    "display(nm3, pm3, pr3)\n",
    "demande2 = utilite_consommateur.subs(ne, ne2)\n",
    "display(demande2)\n",
    "inter2, = sp.solve(demande2.subs(p, 0), x)\n",
    "display(inter2)\n",
    "demande3 = n3 - x\n",
    "display(demande3)\n",
    "inter3, = sp.solve(demande3.subs(p, 0), x)\n",
    "display(inter3)"
   ]
  },
  {
   "cell_type": "code",
   "execution_count": 42,
   "id": "dying-egypt",
   "metadata": {},
   "outputs": [
    {
     "data": {
      "text/plain": [
       "<matplotlib.legend.Legend at 0x7f5898e72f40>"
      ]
     },
     "execution_count": 42,
     "metadata": {},
     "output_type": "execute_result"
    },
    {
     "data": {
      "image/png": "[encoded data removed]",
      "text/plain": [
       "<Figure size 864x576 with 1 Axes>"
      ]
     },
     "metadata": {
      "needs_background": "light"
     },
     "output_type": "display_data"
    }
   ],
   "source": [
    "x_max, p_max = 0.6, 0.4\n",
    "X, P = np.meshgrid(np.linspace(0, x_max), np.linspace(0, p_max))\n",
    "\n",
    "D2 = sp.lambdify(args=(x, p), expr=demande2)(X, P)\n",
    "D3 = sp.lambdify(args=(x, p), expr=demande3)(X, P)\n",
    "\n",
    "figure, repere = plt.subplots()\n",
    "\n",
    "repere.spines[\"left\"].set_position(\"zero\")\n",
    "repere.spines[\"bottom\"].set_position(\"zero\")\n",
    "repere.spines[\"right\"].set_color(\"none\")\n",
    "repere.spines[\"top\"].set_color(\"none\")\n",
    "repere.set_xlabel(\"n\")\n",
    "repere.set_ylabel(\"p\")\n",
    "\n",
    "repere.set_xlim(0, x_max)\n",
    "repere.set_xticks([0, ne2.evalf(), nm3.evalf()])\n",
    "repere.set_xticklabels([0, f\"${sp.latex(ne2)}$\", f\"${sp.latex(nm3)}$\"])\n",
    "repere.set_ylim(0, p_max)\n",
    "repere.set_yticks([0, pm3.evalf(), pm2b.evalf()])\n",
    "repere.set_yticklabels([0, f\"${sp.latex(pm3)}$\", f\"${sp.latex(pm2b)}$\"])\n",
    "\n",
    "repere.plot(\n",
    "    [0, nm3.evalf()], \n",
    "    [pm3.evalf(), pm3.evalf()], \n",
    "    color=\"blue\", \n",
    "    linestyle=\"--\",\n",
    "    label=\"demande partie3\"\n",
    ")\n",
    "repere.plot(\n",
    "    [nm3.evalf(), nm3.evalf()], \n",
    "    [0, pm3.evalf()], \n",
    "    color=\"blue\", \n",
    "    linestyle=\"--\"\n",
    ")\n",
    "\n",
    "repere.plot(\n",
    "    [0, ne2.evalf()], \n",
    "    [pm2b.evalf(), pm2b.evalf()], \n",
    "    color=\"red\", \n",
    "    linestyle=\"--\",\n",
    "    label=\"demande partie2\"\n",
    ")\n",
    "repere.plot(\n",
    "    [ne2.evalf(), \n",
    "     ne2.evalf()], \n",
    "    [0, pm2b.evalf()], \n",
    "    color=\"red\", \n",
    "    linestyle=\"--\"\n",
    ")\n",
    "\n",
    "repere.contour(X, P, D2, levels=[0], colors=\"blue\")\n",
    "repere.contour(X, P, D3, levels=[0], colors=\"red\")\n",
    "\n",
    "repere.annotate(\n",
    "    text=f\"$\\pi={sp.latex(pr2)}$\", \n",
    "    xy=(ne2.evalf(), pm2b.evalf()),\n",
    "    xytext=(1.5 * ne2.evalf(), 1.5 * pm2b.evalf()),\n",
    "    arrowprops=dict(facecolor='red', shrink=0.05),\n",
    "    color=\"red\",\n",
    "    fontsize=\"large\"\n",
    ")\n",
    "repere.annotate(\n",
    "    text=f\"$\\pi={sp.latex(pr3)}$\", \n",
    "    xy=(nm3.evalf(), pm3.evalf()),\n",
    "    xytext=(1.5 * nm3.evalf(), 1.5 * pm3.evalf()),\n",
    "    arrowprops=dict(facecolor='blue', shrink=0.05),\n",
    "    color=\"blue\",\n",
    "    fontsize=\"large\"\n",
    ")\n",
    "\n",
    "ordonne32, = sp.solve(demande3.subs(x, inter2), p)\n",
    "abc = [ne2.evalf(), inter2.evalf(), inter3.evalf()]\n",
    "bas = [pm2b.evalf(), 0, 0]\n",
    "haut = [pm2b.evalf(), ordonne32.evalf(),0]\n",
    "repere.fill_between(\n",
    "    [float(nbr) for nbr in abc],\n",
    "    [float(nbr) for nbr in bas],\n",
    "    [float(nbr) for nbr in haut],\n",
    "    color=\"blue\",\n",
    "    alpha=0.5\n",
    ")\n",
    "\n",
    "repere.annotate(\n",
    "    text=\"Direct Network Effect\",\n",
    "    xy=(0.33, 0.05),\n",
    "    xytext=(0.5, 0.1),\n",
    "    arrowprops=dict(facecolor='black', shrink=0.05),\n",
    "    fontsize=\"large\"\n",
    ")\n",
    "\n",
    "repere.legend()"
   ]
  },
  {
   "cell_type": "markdown",
   "id": "alpine-negotiation",
   "metadata": {},
   "source": [
    "**REMARQUE** on note l'intérêt d'améliorer la nomenclature entre les parties!"
   ]
  },
  {
   "cell_type": "markdown",
   "id": "annoying-radical",
   "metadata": {},
   "source": [
    "**A FAIRE** isoler le code de l'affichage en une fonction dans une librairie avec les variables globales passées en arguments."
   ]
  },
  {
   "cell_type": "markdown",
   "id": "thrown-indicator",
   "metadata": {},
   "source": [
    "# Question 5\n",
    "\n",
    "Suppose that there is a second group of consumers (of mass 1) who also have an opportunity costxthat is uniformly distributed on the unit interval.   The utility of consumerxin this second group is\n",
    "$$1=4+n^e_1(p_1)=2−p_2−x,$$\n",
    "where \n",
    "- $n^e_1(p_1)$ is the expected number of consumers in the first group buying theproduct \n",
    "- price $p_2$ is the price charged to the second group of consumers. \n",
    "\n",
    "Suppose that, similar to part 3, consumers of both groups first observe prices and then form beliefs. \n",
    "Thus, a consumer $x$ in the first group has net utility\n",
    "$$1=4+n^e_1(p_1)=2−p_1−x.$$\n",
    "Suppose that consumers from both groups hold self-fulfilling beliefs. \n",
    "Determine the monopoly solution (prices and quantities) under these consumer beliefs."
   ]
  },
  {
   "cell_type": "markdown",
   "id": "neutral-employee",
   "metadata": {},
   "source": [
    "## Introduction des nouveaux symboles"
   ]
  },
  {
   "cell_type": "code",
   "execution_count": 43,
   "id": "minute-swedish",
   "metadata": {},
   "outputs": [
    {
     "data": {
      "image/png": "[encoded data removed]",
      "text/latex": [
       "$\\displaystyle \\left( p_{1}, \\  p_{2}\\right)$"
      ],
      "text/plain": [
       "(p₁, p₂)"
      ]
     },
     "execution_count": 43,
     "metadata": {},
     "output_type": "execute_result"
    }
   ],
   "source": [
    "p1, p2 = sp.symbols(\"p_1 p_2\")\n",
    "p1, p2"
   ]
  },
  {
   "cell_type": "code",
   "execution_count": 44,
   "id": "devoted-speaker",
   "metadata": {},
   "outputs": [
    {
     "data": {
      "image/png": "[encoded data removed]",
      "text/latex": [
       "$\\displaystyle \\operatorname{n^e_{1}}{\\left(p_{1} \\right)}$"
      ],
      "text/plain": [
       "n_{1}__e(p₁)"
      ]
     },
     "execution_count": 44,
     "metadata": {},
     "output_type": "execute_result"
    }
   ],
   "source": [
    "ne1 = sp.Function(\"n^e_{1}\")(p1)\n",
    "ne1"
   ]
  },
  {
   "cell_type": "code",
   "execution_count": 45,
   "id": "naval-objective",
   "metadata": {},
   "outputs": [
    {
     "data": {
      "image/png": "[encoded data removed]",
      "text/latex": [
       "$\\displaystyle - p_{1} - x + \\frac{\\operatorname{n^e_{1}}{\\left(p_{1} \\right)}}{2} + \\frac{1}{4}$"
      ],
      "text/plain": [
       "          n_{1}__e(p₁)   1\n",
       "-p₁ - x + ──────────── + ─\n",
       "               2         4"
      ]
     },
     "metadata": {},
     "output_type": "display_data"
    },
    {
     "data": {
      "image/png": "[encoded data removed]",
      "text/latex": [
       "$\\displaystyle - p_{2} - x + \\frac{\\operatorname{n^e_{1}}{\\left(p_{1} \\right)}}{2} + \\frac{1}{4}$"
      ],
      "text/plain": [
       "          n_{1}__e(p₁)   1\n",
       "-p₂ - x + ──────────── + ─\n",
       "               2         4"
      ]
     },
     "metadata": {},
     "output_type": "display_data"
    }
   ],
   "source": [
    "utilite1 = sp.S(1) / 4 + ne1 / 2 - p1 - x\n",
    "display(utilite1)\n",
    "utilite2 = sp.S(1) / 4 + ne1 / 2 - p2 - x\n",
    "display(utilite2)"
   ]
  },
  {
   "cell_type": "markdown",
   "id": "logical-orleans",
   "metadata": {},
   "source": [
    "## Calcul avec une fonction inconnue pour la demande du groupe 1 \n",
    "\n",
    "**Gardée pour des raisons historiques**"
   ]
  },
  {
   "cell_type": "code",
   "execution_count": 46,
   "id": "pressing-memorial",
   "metadata": {},
   "outputs": [
    {
     "data": {
      "image/png": "[encoded data removed]",
      "text/latex": [
       "$\\displaystyle - p_{1} + \\frac{\\operatorname{n^e_{1}}{\\left(p_{1} \\right)}}{2} + \\frac{1}{4}$"
      ],
      "text/plain": [
       "      n_{1}__e(p₁)   1\n",
       "-p₁ + ──────────── + ─\n",
       "           2         4"
      ]
     },
     "metadata": {},
     "output_type": "display_data"
    },
    {
     "data": {
      "image/png": "[encoded data removed]",
      "text/latex": [
       "$\\displaystyle - p_{2} + \\frac{\\operatorname{n^e_{1}}{\\left(p_{1} \\right)}}{2} + \\frac{1}{4}$"
      ],
      "text/plain": [
       "      n_{1}__e(p₁)   1\n",
       "-p₂ + ──────────── + ─\n",
       "           2         4"
      ]
     },
     "metadata": {},
     "output_type": "display_data"
    },
    {
     "data": {
      "image/png": "[encoded data removed]",
      "text/latex": [
       "$\\displaystyle p_{1} \\left(- p_{1} + \\frac{\\operatorname{n^e_{1}}{\\left(p_{1} \\right)}}{2} + \\frac{1}{4}\\right) + p_{2} \\left(- p_{2} + \\frac{\\operatorname{n^e_{1}}{\\left(p_{1} \\right)}}{2} + \\frac{1}{4}\\right)$"
      ],
      "text/plain": [
       "   ⎛      n_{1}__e(p₁)   1⎞      ⎛      n_{1}__e(p₁)   1⎞\n",
       "p₁⋅⎜-p₁ + ──────────── + ─⎟ + p₂⋅⎜-p₂ + ──────────── + ─⎟\n",
       "   ⎝           2         4⎠      ⎝           2         4⎠"
      ]
     },
     "metadata": {},
     "output_type": "display_data"
    },
    {
     "name": "stdout",
     "output_type": "stream",
     "text": [
      "p_{1} \\left(- p_{1} + \\frac{\\operatorname{n^e_{1}}{\\left(p_{1} \\right)}}{2} + \\frac{1}{4}\\right) + p_{2} \\left(- p_{2} + \\frac{\\operatorname{n^e_{1}}{\\left(p_{1} \\right)}}{2} + \\frac{1}{4}\\right)\n"
     ]
    }
   ],
   "source": [
    "demande1, = sp.solve(utilite1, x)\n",
    "demande2, = sp.solve(utilite2, x)\n",
    "\n",
    "profit = p1 * demande1 + p2 * demande2\n",
    "display(demande1, demande2, profit)\n",
    "print(sp.latex(profit))"
   ]
  },
  {
   "cell_type": "markdown",
   "id": "focal-blank",
   "metadata": {},
   "source": [
    "On cherche maintenant à effectuer\n",
    "$$\n",
    "\\underset{p_1\\geq 0, p_2\\geq 0}{\\sup} p_{1} \\left(\\frac{n^e_{1}(p_1)}{2} - p_{1} + \\frac{1}{4}\\right) + p_{2} \\left(\\frac{n^e_{1}(p_1)}{2} - p_{2} + \\frac{1}{4}\\right)\n",
    "$$"
   ]
  },
  {
   "cell_type": "code",
   "execution_count": 47,
   "id": "bottom-effect",
   "metadata": {},
   "outputs": [
    {
     "data": {
      "text/latex": [
       "$\\displaystyle \\left[\\begin{matrix}\\frac{p_{1} \\frac{d^{2}}{d p_{1}^{2}} \\operatorname{n^e_{1}}{\\left(p_{1} \\right)}}{2} + \\frac{p_{2} \\frac{d^{2}}{d p_{1}^{2}} \\operatorname{n^e_{1}}{\\left(p_{1} \\right)}}{2} + \\frac{d}{d p_{1}} \\operatorname{n^e_{1}}{\\left(p_{1} \\right)} - 2 & \\frac{\\frac{d}{d p_{1}} \\operatorname{n^e_{1}}{\\left(p_{1} \\right)}}{2}\\\\\\frac{\\frac{d}{d p_{1}} \\operatorname{n^e_{1}}{\\left(p_{1} \\right)}}{2} & -2\\end{matrix}\\right]$"
      ],
      "text/plain": [
       "⎡     2                       2                                               \n",
       "⎢    d                       d                                                \n",
       "⎢p₁⋅────(n_{1}__e(p₁))   p₂⋅────(n_{1}__e(p₁))                           d    \n",
       "⎢      2                       2                                        ───(n_\n",
       "⎢   dp₁                     dp₁                   d                     dp₁   \n",
       "⎢───────────────────── + ───────────────────── + ───(n_{1}__e(p₁)) - 2  ──────\n",
       "⎢          2                       2             dp₁                          \n",
       "⎢                                                                             \n",
       "⎢                           d                                                 \n",
       "⎢                          ───(n_{1}__e(p₁))                                  \n",
       "⎢                          dp₁                                                \n",
       "⎢                          ─────────────────                                  \n",
       "⎣                                  2                                          \n",
       "\n",
       "           ⎤\n",
       "           ⎥\n",
       "           ⎥\n",
       "{1}__e(p₁))⎥\n",
       "           ⎥\n",
       "───────────⎥\n",
       "  2        ⎥\n",
       "           ⎥\n",
       "           ⎥\n",
       "           ⎥\n",
       "           ⎥\n",
       " -2        ⎥\n",
       "           ⎦"
      ]
     },
     "metadata": {},
     "output_type": "display_data"
    }
   ],
   "source": [
    "H = sp.hessian(profit, (p1, p2))\n",
    "display(H)"
   ]
  },
  {
   "cell_type": "markdown",
   "id": "colored-annual",
   "metadata": {},
   "source": [
    "**ATTENTION** Suite à reprendre car $n^e_1$ dépendait de $p_1$!"
   ]
  },
  {
   "cell_type": "code",
   "execution_count": 48,
   "id": "subjective-blink",
   "metadata": {},
   "outputs": [
    {
     "data": {
      "image/png": "[encoded data removed]",
      "text/latex": [
       "$\\displaystyle \\left[ p_{1} \\left(\\frac{\\frac{d}{d p_{1}} \\operatorname{n^e_{1}}{\\left(p_{1} \\right)}}{2} - 1\\right) - p_{1} + \\frac{p_{2} \\frac{d}{d p_{1}} \\operatorname{n^e_{1}}{\\left(p_{1} \\right)}}{2} + \\frac{\\operatorname{n^e_{1}}{\\left(p_{1} \\right)}}{2} + \\frac{1}{4}, \\  - 2 p_{2} + \\frac{\\operatorname{n^e_{1}}{\\left(p_{1} \\right)}}{2} + \\frac{1}{4}\\right]$"
      ],
      "text/plain": [
       "⎡   ⎛ d                   ⎞            d                                      \n",
       "⎢   ⎜───(n_{1}__e(p₁))    ⎟        p₂⋅───(n_{1}__e(p₁))                       \n",
       "⎢   ⎜dp₁                  ⎟           dp₁                 n_{1}__e(p₁)   1    \n",
       "⎢p₁⋅⎜───────────────── - 1⎟ - p₁ + ──────────────────── + ──────────── + ─, -2\n",
       "⎣   ⎝        2            ⎠                 2                  2         4    \n",
       "\n",
       "                      ⎤\n",
       "                      ⎥\n",
       "      n_{1}__e(p₁)   1⎥\n",
       "⋅p₂ + ──────────── + ─⎥\n",
       "           2         4⎦"
      ]
     },
     "metadata": {},
     "output_type": "display_data"
    }
   ],
   "source": [
    "gradient = [sp.diff(profit, p1), sp.diff(profit, p2)]\n",
    "display(gradient)"
   ]
  },
  {
   "cell_type": "markdown",
   "id": "seven-daniel",
   "metadata": {},
   "source": [
    "On voit que le point critique est dans l'intérieur du domaine de maximisation donc grâce à la stricte concavité il s'agit de l'unique maximum global.\n",
    "\n",
    "Comme les consommateurs on des croyances auto-réalisatrices on en déduit"
   ]
  },
  {
   "cell_type": "code",
   "execution_count": 49,
   "id": "lovely-spank",
   "metadata": {},
   "outputs": [
    {
     "data": {
      "image/png": "[encoded data removed]",
      "text/latex": [
       "$\\displaystyle \\frac{1}{2} - 2 p_{1}$"
      ],
      "text/plain": [
       "1/2 - 2⋅p₁"
      ]
     },
     "metadata": {},
     "output_type": "display_data"
    },
    {
     "name": "stderr",
     "output_type": "stream",
     "text": [
      "/home/vincent/miniconda3/lib/python3.8/site-packages/sympy/core/relational.py:492: SymPyDeprecationWarning: \n",
      "\n",
      "Eq(expr) with rhs default to 0 has been deprecated since SymPy 1.5.\n",
      "Use Eq(expr, 0) instead. See\n",
      "https://github.com/sympy/sympy/issues/16587 for more info.\n",
      "\n",
      "  SymPyDeprecationWarning(\n"
     ]
    }
   ],
   "source": [
    "nm31, = sp.solve(sp.Eq(utilite1.subs(x, ne1), 0), ne1)\n",
    "display(nm31)\n",
    "nm32, = sp.solve(sp.Eq(utilite2.subs(x, ne1)))"
   ]
  },
  {
   "cell_type": "markdown",
   "id": "crucial-decimal",
   "metadata": {},
   "source": [
    "## Récupération de la demande espérée du groupe 1\n",
    "\n",
    "En utilisant l'hypothèse que les croyances sont auto-réalisatrice donc\n",
    "\n",
    "$$n_1^e = n = x.$$"
   ]
  },
  {
   "cell_type": "code",
   "execution_count": 50,
   "id": "australian-layer",
   "metadata": {},
   "outputs": [
    {
     "data": {
      "image/png": "[encoded data removed]",
      "text/latex": [
       "$\\displaystyle - p_{1} - \\frac{x}{2} + \\frac{1}{4}$"
      ],
      "text/plain": [
       "      x   1\n",
       "-p₁ - ─ + ─\n",
       "      2   4"
      ]
     },
     "metadata": {},
     "output_type": "display_data"
    }
   ],
   "source": [
    "utilite1_bis = utilite1.subs(ne1, x)\n",
    "display(utilite1_bis)"
   ]
  },
  {
   "cell_type": "code",
   "execution_count": 51,
   "id": "crazy-scientist",
   "metadata": {},
   "outputs": [
    {
     "data": {
      "image/png": "[encoded data removed]",
      "text/latex": [
       "$\\displaystyle \\frac{1}{2} - 2 p_{1}$"
      ],
      "text/plain": [
       "1/2 - 2⋅p₁"
      ]
     },
     "metadata": {},
     "output_type": "display_data"
    }
   ],
   "source": [
    "nm1, = sp.solve(utilite1_bis, x)\n",
    "display(nm1)"
   ]
  },
  {
   "cell_type": "code",
   "execution_count": 62,
   "id": "accredited-medium",
   "metadata": {},
   "outputs": [
    {
     "data": {
      "image/png": "[encoded data removed]",
      "text/latex": [
       "$\\displaystyle - p_{1} - p_{2} + \\frac{1}{2}$"
      ],
      "text/plain": [
       "-p₁ - p₂ + 1/2"
      ]
     },
     "metadata": {},
     "output_type": "display_data"
    }
   ],
   "source": [
    "nm2, = sp.solve(utilite2.subs(ne1, nm1), x)\n",
    "display(nm2)"
   ]
  },
  {
   "cell_type": "markdown",
   "id": "annoying-kernel",
   "metadata": {},
   "source": [
    "## Expression du programme"
   ]
  },
  {
   "cell_type": "code",
   "execution_count": 63,
   "id": "vertical-radio",
   "metadata": {},
   "outputs": [
    {
     "data": {
      "image/png": "[encoded data removed]",
      "text/latex": [
       "$\\displaystyle p_{1} \\left(\\frac{1}{2} - 2 p_{1}\\right) + p_{2} \\left(- p_{1} - p_{2} + \\frac{1}{2}\\right)$"
      ],
      "text/plain": [
       "p₁⋅(1/2 - 2⋅p₁) + p₂⋅(-p₁ - p₂ + 1/2)"
      ]
     },
     "metadata": {},
     "output_type": "display_data"
    }
   ],
   "source": [
    "profit5 = p1 * nm1 + p2 * nm2\n",
    "display(profit5)"
   ]
  },
  {
   "cell_type": "code",
   "execution_count": 64,
   "id": "circular-prefix",
   "metadata": {},
   "outputs": [
    {
     "name": "stdout",
     "output_type": "stream",
     "text": [
      "p_{1} \\left(\\frac{1}{2} - 2 p_{1}\\right) + p_{2} \\left(- p_{1} - p_{2} + \\frac{1}{2}\\right)\n"
     ]
    }
   ],
   "source": [
    "print(sp.latex(profit5))"
   ]
  },
  {
   "cell_type": "markdown",
   "id": "willing-license",
   "metadata": {},
   "source": [
    "Le programme consiste en\n",
    "$$\n",
    "\\underset{p_1,p_2\\geq 0}{\\sup} p_{1} \\left(\\frac{1}{2} - 2 p_{1}\\right) + p_{2} \\left(- p_{1} - p_{2} + \\frac{1}{2}\\right)\n",
    "$$"
   ]
  },
  {
   "cell_type": "markdown",
   "id": "domestic-leonard",
   "metadata": {},
   "source": [
    "## Concavité"
   ]
  },
  {
   "cell_type": "code",
   "execution_count": 65,
   "id": "anonymous-activity",
   "metadata": {},
   "outputs": [
    {
     "data": {
      "text/latex": [
       "$\\displaystyle \\left[\\begin{matrix}-4 & -1\\\\-1 & -2\\end{matrix}\\right]$"
      ],
      "text/plain": [
       "⎡-4  -1⎤\n",
       "⎢      ⎥\n",
       "⎣-1  -2⎦"
      ]
     },
     "metadata": {},
     "output_type": "display_data"
    }
   ],
   "source": [
    "H = sp.hessian(profit5, [p1, p2])\n",
    "display(H)"
   ]
  },
  {
   "cell_type": "code",
   "execution_count": 66,
   "id": "thick-level",
   "metadata": {},
   "outputs": [
    {
     "data": {
      "text/plain": [
       "True"
      ]
     },
     "execution_count": 66,
     "metadata": {},
     "output_type": "execute_result"
    }
   ],
   "source": [
    "H.is_negative_definite"
   ]
  },
  {
   "cell_type": "markdown",
   "id": "ethical-intellectual",
   "metadata": {},
   "source": [
    "La fonction profit est donc strictement concave et tout point critique dans le domaine est forcément un maximum global."
   ]
  },
  {
   "cell_type": "markdown",
   "id": "threaded-sharing",
   "metadata": {},
   "source": [
    "## Points critiques"
   ]
  },
  {
   "cell_type": "code",
   "execution_count": 67,
   "id": "convertible-protection",
   "metadata": {},
   "outputs": [
    {
     "data": {
      "image/png": "[encoded data removed]",
      "text/latex": [
       "$\\displaystyle \\left[ - 4 p_{1} - p_{2} + \\frac{1}{2}, \\  - p_{1} - 2 p_{2} + \\frac{1}{2}\\right]$"
      ],
      "text/plain": [
       "[-4⋅p₁ - p₂ + 1/2, -p₁ - 2⋅p₂ + 1/2]"
      ]
     },
     "metadata": {},
     "output_type": "display_data"
    }
   ],
   "source": [
    "gradient = [sp.diff(profit5, v) for v in (p1, p2)]\n",
    "display(gradient)"
   ]
  },
  {
   "cell_type": "code",
   "execution_count": 68,
   "id": "varied-cycling",
   "metadata": {},
   "outputs": [
    {
     "data": {
      "image/png": "[encoded data removed]",
      "text/latex": [
       "$\\displaystyle \\left\\{ p_{1} : \\frac{1}{14}, \\  p_{2} : \\frac{3}{14}\\right\\}$"
      ],
      "text/plain": [
       "{p₁: 1/14, p₂: 3/14}"
      ]
     },
     "metadata": {},
     "output_type": "display_data"
    }
   ],
   "source": [
    "sol, = sp.solve(gradient, (p1, p2), dict=True)\n",
    "display(sol)"
   ]
  },
  {
   "cell_type": "code",
   "execution_count": 69,
   "id": "approximate-ceramic",
   "metadata": {},
   "outputs": [
    {
     "data": {
      "text/latex": [
       "$\\displaystyle \\text{True}$"
      ],
      "text/plain": [
       "True"
      ]
     },
     "execution_count": 69,
     "metadata": {},
     "output_type": "execute_result"
    }
   ],
   "source": [
    "sp.Ge(sol[p1], 0)"
   ]
  },
  {
   "cell_type": "code",
   "execution_count": 70,
   "id": "common-rough",
   "metadata": {},
   "outputs": [
    {
     "data": {
      "text/latex": [
       "$\\displaystyle \\text{True}$"
      ],
      "text/plain": [
       "True"
      ]
     },
     "execution_count": 70,
     "metadata": {},
     "output_type": "execute_result"
    }
   ],
   "source": [
    "sp.Ge(sol[p2], 0)"
   ]
  },
  {
   "cell_type": "markdown",
   "id": "representative-starter",
   "metadata": {},
   "source": [
    "**A FAIRE** exprimer aussi la version non évaluée des inégalités ci-dessus pour améliorer la lisibilité."
   ]
  },
  {
   "cell_type": "markdown",
   "id": "national-advice",
   "metadata": {},
   "source": [
    "Le point critique est bien dans le domaine donc il s'agit du maximum global solution du programme.\n",
    "\n",
    "On peut donc retrouver les quantités d'équilibres."
   ]
  },
  {
   "cell_type": "code",
   "execution_count": 74,
   "id": "julian-riverside",
   "metadata": {},
   "outputs": [
    {
     "data": {
      "image/png": "[encoded data removed]",
      "text/latex": [
       "$\\displaystyle \\frac{5}{14}$"
      ],
      "text/plain": [
       "5/14"
      ]
     },
     "metadata": {},
     "output_type": "display_data"
    }
   ],
   "source": [
    "nm1e = nm1.subs(sol)\n",
    "display(nm1e)"
   ]
  },
  {
   "cell_type": "code",
   "execution_count": 75,
   "id": "exempt-banana",
   "metadata": {},
   "outputs": [
    {
     "data": {
      "image/png": "[encoded data removed]",
      "text/latex": [
       "$\\displaystyle \\frac{3}{14}$"
      ],
      "text/plain": [
       "3/14"
      ]
     },
     "metadata": {},
     "output_type": "display_data"
    }
   ],
   "source": [
    "nm2e = nm2.subs(sol)\n",
    "display(nm2e)"
   ]
  },
  {
   "cell_type": "code",
   "execution_count": 77,
   "id": "contained-capitol",
   "metadata": {},
   "outputs": [
    {
     "data": {
      "image/png": "[encoded data removed]",
      "text/latex": [
       "$\\displaystyle \\frac{1}{14}$"
      ],
      "text/plain": [
       "1/14"
      ]
     },
     "metadata": {},
     "output_type": "display_data"
    }
   ],
   "source": [
    "pr5 = profit5.subs(sol).subs(nm1, nm1e)\n",
    "display(pr5)"
   ]
  },
  {
   "cell_type": "markdown",
   "id": "personal-challenge",
   "metadata": {},
   "source": [
    "# Question 6\n",
    "\n",
    "Within the setting of part 5, suppose that the monopolist is forced to charge the same price to both groups of consumers; i.e.\n",
    "$$p=p_1=p_2.$$\n",
    "Determine the monopoly solution\n"
   ]
  },
  {
   "cell_type": "markdown",
   "id": "tender-rings",
   "metadata": {},
   "source": [
    "## Récupération des demandes"
   ]
  },
  {
   "cell_type": "markdown",
   "id": "continuing-moderator",
   "metadata": {},
   "source": [
    "En utilisant l'aspect auto réalisateur des croyances on a"
   ]
  },
  {
   "cell_type": "code",
   "execution_count": 85,
   "id": "helpful-failure",
   "metadata": {},
   "outputs": [
    {
     "data": {
      "image/png": "[encoded data removed]",
      "text/latex": [
       "$\\displaystyle - p - \\frac{x}{2} + \\frac{1}{4}$"
      ],
      "text/plain": [
       "     x   1\n",
       "-p - ─ + ─\n",
       "     2   4"
      ]
     },
     "metadata": {},
     "output_type": "display_data"
    },
    {
     "data": {
      "image/png": "[encoded data removed]",
      "text/latex": [
       "$\\displaystyle \\frac{1}{2} - 2 p$"
      ],
      "text/plain": [
       "1/2 - 2⋅p"
      ]
     },
     "metadata": {},
     "output_type": "display_data"
    }
   ],
   "source": [
    "utilite1_6 = utilite1.subs(ne1, x).subs(p1, p)\n",
    "display(utilite1_6)\n",
    "nm1_6, = sp.solve(utilite1_6, x)\n",
    "display(nm1_6)"
   ]
  },
  {
   "cell_type": "code",
   "execution_count": 87,
   "id": "adapted-hayes",
   "metadata": {},
   "outputs": [
    {
     "data": {
      "image/png": "[encoded data removed]",
      "text/latex": [
       "$\\displaystyle - 2 p - x + \\frac{1}{2}$"
      ],
      "text/plain": [
       "-2⋅p - x + 1/2"
      ]
     },
     "metadata": {},
     "output_type": "display_data"
    },
    {
     "data": {
      "image/png": "[encoded data removed]",
      "text/latex": [
       "$\\displaystyle \\frac{1}{2} - 2 p$"
      ],
      "text/plain": [
       "1/2 - 2⋅p"
      ]
     },
     "metadata": {},
     "output_type": "display_data"
    }
   ],
   "source": [
    "utilite2_6 = utilite2.subs(ne1, nm1_6).subs(p2, p)\n",
    "display(utilite2_6)\n",
    "nm2_6, = sp.solve(utilite2_6, x)\n",
    "display(nm2_6)"
   ]
  },
  {
   "cell_type": "markdown",
   "id": "decimal-pharmacy",
   "metadata": {},
   "source": [
    "## Expression du programme"
   ]
  },
  {
   "cell_type": "code",
   "execution_count": 94,
   "id": "collective-handy",
   "metadata": {},
   "outputs": [
    {
     "data": {
      "text/latex": [
       "$\\displaystyle \\underset{p\\geq 0}{\\sup}\\pi_6 = p \\left(1 - 4 p\\right)$"
      ],
      "text/plain": [
       "<IPython.core.display.Math object>"
      ]
     },
     "metadata": {},
     "output_type": "display_data"
    }
   ],
   "source": [
    "profit6 = p * (nm1_6 + nm2_6)\n",
    "display(Math(f\"\\\\underset{{p\\\\geq 0}}{{\\\\sup}}\\\\pi_6 = {sp.latex(profit6)}\"))"
   ]
  },
  {
   "cell_type": "code",
   "execution_count": 95,
   "id": "unnecessary-athletics",
   "metadata": {},
   "outputs": [
    {
     "data": {
      "image/png": "[encoded data removed]",
      "text/latex": [
       "$\\displaystyle -8$"
      ],
      "text/plain": [
       "-8"
      ]
     },
     "execution_count": 95,
     "metadata": {},
     "output_type": "execute_result"
    }
   ],
   "source": [
    "sp.diff(profit6, p, 2)"
   ]
  },
  {
   "cell_type": "markdown",
   "id": "stuffed-driver",
   "metadata": {},
   "source": [
    "La fonction profit est strictement concave dont un point critique sera l'unique maximum global."
   ]
  },
  {
   "cell_type": "code",
   "execution_count": 99,
   "id": "offshore-validation",
   "metadata": {},
   "outputs": [
    {
     "data": {
      "image/png": "[encoded data removed]",
      "text/latex": [
       "$\\displaystyle \\frac{1}{8}$"
      ],
      "text/plain": [
       "1/8"
      ]
     },
     "metadata": {},
     "output_type": "display_data"
    },
    {
     "data": {
      "text/latex": [
       "$\\displaystyle \\text{True}$"
      ],
      "text/plain": [
       "True"
      ]
     },
     "execution_count": 99,
     "metadata": {},
     "output_type": "execute_result"
    }
   ],
   "source": [
    "sol, = sp.solve(sp.diff(profit6, p), p)\n",
    "display(sol)\n",
    "sp.Ge(sol, 0)"
   ]
  },
  {
   "cell_type": "code",
   "execution_count": 102,
   "id": "charming-fetish",
   "metadata": {},
   "outputs": [
    {
     "data": {
      "image/png": "[encoded data removed]",
      "text/latex": [
       "$\\displaystyle \\frac{1}{4}$"
      ],
      "text/plain": [
       "1/4"
      ]
     },
     "metadata": {},
     "output_type": "display_data"
    },
    {
     "data": {
      "image/png": "[encoded data removed]",
      "text/latex": [
       "$\\displaystyle \\frac{1}{4}$"
      ],
      "text/plain": [
       "1/4"
      ]
     },
     "metadata": {},
     "output_type": "display_data"
    },
    {
     "data": {
      "image/png": "[encoded data removed]",
      "text/latex": [
       "$\\displaystyle \\frac{1}{16}$"
      ],
      "text/plain": [
       "1/16"
      ]
     },
     "metadata": {},
     "output_type": "display_data"
    }
   ],
   "source": [
    "nm1_6e = nm1_6.subs(p, sol)\n",
    "display(nm1_6e)\n",
    "nm2_6e = nm2_6.subs(p, sol)\n",
    "display(nm2_6e)\n",
    "pr6 = profit6.subs(p, sol)\n",
    "display(pr6)"
   ]
  },
  {
   "cell_type": "markdown",
   "id": "utility-powell",
   "metadata": {},
   "source": [
    "# Question 7\n",
    "\n",
    "Explain your findings in parts 5 and 6. \n",
    "Does the monopolist have an incentive to charge prices $p_1 \\neq p_2$?\n",
    "\n",
    "Why or why not is this the case?"
   ]
  },
  {
   "cell_type": "code",
   "execution_count": 103,
   "id": "heard-racing",
   "metadata": {},
   "outputs": [
    {
     "data": {
      "image/png": "[encoded data removed]",
      "text/latex": [
       "$\\displaystyle - p_{1} - p_{2} + \\frac{1}{2}$"
      ],
      "text/plain": [
       "-p₁ - p₂ + 1/2"
      ]
     },
     "metadata": {},
     "output_type": "display_data"
    }
   ],
   "source": [
    "# Résumé des variables d'intérêt\n",
    "\n",
    "display(nm2)"
   ]
  },
  {
   "cell_type": "code",
   "execution_count": 104,
   "id": "honest-tragedy",
   "metadata": {},
   "outputs": [],
   "source": [
    "def gere_valeur(valeur, expression, p1, p2, P1, P2):\n",
    "    resultat = dict()\n",
    "    resultat[\"grille\"] = sp.lambdify(args=(p1, p2), expr=(expression - valeur))(P1, P2)\n",
    "    resultat[\"p1\"], = sp.solve((expression - valeur).subs(p2, 0), p1)\n",
    "    resultat[\"p2\"], = sp.solve((expression - valeur).subs(p1, 0), p2)\n",
    "    return resultat"
   ]
  },
  {
   "cell_type": "code",
   "execution_count": 132,
   "id": "single-steam",
   "metadata": {},
   "outputs": [
    {
     "data": {
      "text/plain": [
       "Text(0.5, 1.0, 'Variation de $p_2$ en fonction de $p_1$ à $n_2$ donné')"
      ]
     },
     "execution_count": 132,
     "metadata": {},
     "output_type": "execute_result"
    },
    {
     "data": {
      "image/png": "[encoded data removed]",
      "text/plain": [
       "<Figure size 864x576 with 1 Axes>"
      ]
     },
     "metadata": {
      "needs_background": "light"
     },
     "output_type": "display_data"
    }
   ],
   "source": [
    "p1_max, p2_max = 0.6, 0.6\n",
    "P1, P2 = np.meshgrid(np.linspace(0, p1_max, 100), np.linspace(0, p2_max, 100))\n",
    "\n",
    "n2s = [0, sp.S(1) / 8, sp.S(2) / 8,sp.S(3) / 8]\n",
    "\n",
    "donnees = {\n",
    "    val: gere_valeur(\n",
    "        valeur=val, \n",
    "        expression=nm2, \n",
    "        p1=p1, \n",
    "        p2=p2, \n",
    "        P1=P1, \n",
    "        P2=P2\n",
    "    )\n",
    "    for val in n2s\n",
    "}\n",
    "\n",
    "figure, repere = plt.subplots()\n",
    "\n",
    "repere.spines[\"left\"].set_position(\"zero\")\n",
    "repere.spines[\"bottom\"].set_position(\"zero\")\n",
    "repere.spines[\"right\"].set_color(\"none\")\n",
    "repere.spines[\"top\"].set_color(\"none\")\n",
    "repere.set_xlabel(\"$p_1$\")\n",
    "repere.set_ylabel(\"$p_2$\")\n",
    "repere.axis(\"equal\")\n",
    "\n",
    "repere.set_xlim(0, p1_max)\n",
    "repere.set_xticks([donnee[\"p1\"].evalf() for donnee in donnees.values()])\n",
    "repere.set_xticklabels([f'${sp.latex(donnee[\"p1\"])}$' for donnee in donnees.values()])\n",
    "repere.set_ylim(0, p2_max)\n",
    "repere.set_yticks([donnee[\"p2\"].evalf() for donnee in donnees.values()])\n",
    "repere.set_yticklabels([f'${sp.latex(donnee[\"p2\"])}$' for donnee in donnees.values()])\n",
    "\n",
    "for val, donnee in donnees.items():\n",
    "    repere.contour(P1, P2, donnee[\"grille\"], levels=[0], colors=\"blue\")\n",
    "    repere.annotate(\n",
    "        text=f\"$n_2={sp.latex(val)}$\",\n",
    "        xy=(donnee[\"p1\"] / 2, donnee[\"p2\"] / 2),\n",
    "        xytext=(0.02 +  donnee[\"p1\"] / 2, 0.02 + donnee[\"p2\"] / 2),\n",
    "        fontsize=\"large\",\n",
    "        arrowprops=dict(facecolor='black', arrowstyle=\"->\"),\n",
    "    )\n",
    "    \n",
    "x_m, y_m = float(max(repere.get_xticks())), float(max(repere.get_yticks()))\n",
    "repere.fill_between([0, x_m], [0, 0], [y_m, 0], color=\"blue\", alpha=0.5)\n",
    "\n",
    "repere.set_title(\"Variation de $p_2$ en fonction de $p_1$ à $n_2$ donné\")"
   ]
  },
  {
   "cell_type": "code",
   "execution_count": 133,
   "id": "activated-praise",
   "metadata": {},
   "outputs": [],
   "source": [
    "figure.savefig(\"demande.png\", dpi=150)"
   ]
  },
  {
   "cell_type": "markdown",
   "id": "piano-communication",
   "metadata": {},
   "source": [
    "# Pistes d'amélioration\n",
    "\n",
    "\n",
    "- Rajouter des h2 dans les réponses pour séparer les étapes.\n",
    "- Utiliser `display` pour améliorer la lisibilité des affichages en rajoutant des préambules. C'est particulièrement le cas pour la description des programmes. (pas de copier coller!)\n",
    "- Coder des librairies auxiliaires pour filtrer le niveau de détail. (en particulier pour l'affichage)\n",
    "- Gérer les espaces de nom par question et global.\n",
    "- Améliorer la nomenclature des variables python.\n",
    "- Créer des objets résumant par question les variables/expressions qui doivent perdurer, les autres seront effaçés de question en question.\n",
    "- Faire des figures dynamiques avec des widgets et éventuellement pyplot -> bqplot. (alternative plotly)"
   ]
  },
  {
   "cell_type": "code",
   "execution_count": null,
   "id": "stuck-shelf",
   "metadata": {},
   "outputs": [],
   "source": []
  }
 ],
 "metadata": {
  "kernelspec": {
   "display_name": "Python 3",
   "language": "python",
   "name": "python3"
  },
  "language_info": {
   "codemirror_mode": {
    "name": "ipython",
    "version": 3
   },
   "file_extension": ".py",
   "mimetype": "text/x-python",
   "name": "python",
   "nbconvert_exporter": "python",
   "pygments_lexer": "ipython3",
   "version": "3.8.3"
  }
 },
 "nbformat": 4,
 "nbformat_minor": 5
}
