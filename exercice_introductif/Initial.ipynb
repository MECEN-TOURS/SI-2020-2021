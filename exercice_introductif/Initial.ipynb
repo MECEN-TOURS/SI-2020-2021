{
 "cells": [
  {
   "cell_type": "code",
   "execution_count": 2,
   "id": "instant-groove",
   "metadata": {},
   "outputs": [],
   "source": [
    "import sympy as sp\n",
    "import matplotlib.pyplot as plt\n",
    "import numpy as np"
   ]
  },
  {
   "cell_type": "code",
   "execution_count": 57,
   "id": "french-hartford",
   "metadata": {},
   "outputs": [],
   "source": [
    "from IPython.display import display"
   ]
  },
  {
   "cell_type": "code",
   "execution_count": 3,
   "id": "plastic-official",
   "metadata": {},
   "outputs": [],
   "source": [
    "sp.init_printing()\n",
    "\n",
    "%matplotlib inline\n",
    "plt.rcParams[\"figure.figsize\"] = (12, 8)"
   ]
  },
  {
   "cell_type": "markdown",
   "id": "unknown-principle",
   "metadata": {},
   "source": [
    "# Enoncé\n",
    "\n",
    "Consider a monopoly market in which consumers’ opportunity cost $x$ is uniformly distributed on the unit interval; i.e.,$x\\in [0, 1]$. \n",
    "A consumer’s utility of consuming one unit of the good offered by the monopolist relative to the outside option is $\\frac{1}{4} + \\frac{n^e}{2} -p - x$, where \n",
    "- $p$ is the price set by the monopo list \n",
    "- $n^e$ is the expected number of fellow buyers of the good. \n",
    "There is mass one of consumers. \n",
    "The monopolist’s marginal costs are zero."
   ]
  },
  {
   "cell_type": "code",
   "execution_count": 4,
   "id": "editorial-academy",
   "metadata": {},
   "outputs": [
    {
     "data": {
      "image/png": "[encoded data removed]",
      "text/latex": [
       "$\\displaystyle \\left( n^{e}, \\  p, \\  x\\right)$"
      ],
      "text/plain": [
       "(n__e, p, x)"
      ]
     },
     "execution_count": 4,
     "metadata": {},
     "output_type": "execute_result"
    }
   ],
   "source": [
    "ne, p, x = sp.symbols(\"n^e p x\")\n",
    "ne, p, x"
   ]
  },
  {
   "cell_type": "code",
   "execution_count": 5,
   "id": "lovely-toyota",
   "metadata": {},
   "outputs": [
    {
     "data": {
      "image/png": "[encoded data removed]",
      "text/latex": [
       "$\\displaystyle \\frac{n^{e}}{2} - p - x + \\frac{1}{4}$"
      ],
      "text/plain": [
       "n__e           1\n",
       "──── - p - x + ─\n",
       " 2             4"
      ]
     },
     "execution_count": 5,
     "metadata": {},
     "output_type": "execute_result"
    }
   ],
   "source": [
    "utilite_consommateur = sp.S(1) / 4 + ne / 2 - p - x\n",
    "utilite_consommateur"
   ]
  },
  {
   "cell_type": "markdown",
   "id": "narrow-baking",
   "metadata": {},
   "source": [
    "# Question 1\n",
    "\n",
    "Suppose that consumers believe that $n^e = 1$.\n",
    "Determine the monopoly solution under these consumer believes.\n",
    "\n",
    "**TODO** Pourquoi résoud-on $utilite_{consommateur} = 0$?"
   ]
  },
  {
   "cell_type": "code",
   "execution_count": 6,
   "id": "fancy-place",
   "metadata": {},
   "outputs": [
    {
     "data": {
      "image/png": "[encoded data removed]",
      "text/latex": [
       "$\\displaystyle - p - x + \\frac{3}{4} = 0$"
      ],
      "text/plain": [
       "-p - x + 3/4 = 0"
      ]
     },
     "execution_count": 6,
     "metadata": {},
     "output_type": "execute_result"
    }
   ],
   "source": [
    "equation = sp.Eq(utilite_consommateur.subs(ne, 1), 0)\n",
    "equation"
   ]
  },
  {
   "cell_type": "code",
   "execution_count": 8,
   "id": "reflected-number",
   "metadata": {},
   "outputs": [
    {
     "data": {
      "image/png": "[encoded data removed]",
      "text/latex": [
       "$\\displaystyle \\frac{3}{4} - p$"
      ],
      "text/plain": [
       "3/4 - p"
      ]
     },
     "execution_count": 8,
     "metadata": {},
     "output_type": "execute_result"
    }
   ],
   "source": [
    "x1, = sp.solve(equation, x)\n",
    "x1"
   ]
  },
  {
   "cell_type": "code",
   "execution_count": 9,
   "id": "catholic-electron",
   "metadata": {},
   "outputs": [
    {
     "data": {
      "image/png": "[encoded data removed]",
      "text/latex": [
       "$\\displaystyle p \\left(\\frac{3}{4} - p\\right)$"
      ],
      "text/plain": [
       "p⋅(3/4 - p)"
      ]
     },
     "execution_count": 9,
     "metadata": {},
     "output_type": "execute_result"
    }
   ],
   "source": [
    "profit = p * x1\n",
    "profit"
   ]
  },
  {
   "cell_type": "markdown",
   "id": "constitutional-junction",
   "metadata": {},
   "source": [
    "On cherche alors\n",
    "$$ \\underset{p\\in \\mathbb{R}^+}{\\sup} \\mathrm{profit}$$"
   ]
  },
  {
   "cell_type": "markdown",
   "id": "tamil-closing",
   "metadata": {},
   "source": [
    "Comme on a "
   ]
  },
  {
   "cell_type": "code",
   "execution_count": 11,
   "id": "declared-elevation",
   "metadata": {},
   "outputs": [
    {
     "data": {
      "image/png": "[encoded data removed]",
      "text/latex": [
       "$\\displaystyle -\\infty$"
      ],
      "text/plain": [
       "-∞"
      ]
     },
     "execution_count": 11,
     "metadata": {},
     "output_type": "execute_result"
    }
   ],
   "source": [
    "sp.limit(profit, p, +sp.oo)"
   ]
  },
  {
   "cell_type": "markdown",
   "id": "proved-queensland",
   "metadata": {},
   "source": [
    "On en déduit que le $\\sup$ est un $\\max$."
   ]
  },
  {
   "cell_type": "markdown",
   "id": "blond-hospital",
   "metadata": {},
   "source": [
    "Si il est atteint à l'intérieur on a"
   ]
  },
  {
   "cell_type": "code",
   "execution_count": 23,
   "id": "coastal-discretion",
   "metadata": {},
   "outputs": [
    {
     "data": {
      "image/png": "[encoded data removed]",
      "text/latex": [
       "$\\displaystyle \\frac{3}{8}$"
      ],
      "text/plain": [
       "3/8"
      ]
     },
     "execution_count": 23,
     "metadata": {},
     "output_type": "execute_result"
    }
   ],
   "source": [
    "pm, = sp.solve(sp.diff(profit, p), p)\n",
    "pm"
   ]
  },
  {
   "cell_type": "code",
   "execution_count": 27,
   "id": "center-identity",
   "metadata": {},
   "outputs": [
    {
     "data": {
      "image/png": "[encoded data removed]",
      "text/latex": [
       "$\\displaystyle \\frac{3}{8}$"
      ],
      "text/plain": [
       "3/8"
      ]
     },
     "execution_count": 27,
     "metadata": {},
     "output_type": "execute_result"
    }
   ],
   "source": [
    "nm, = sp.solve(utilite_consommateur.subs({ne: 1, p: pm}), x)\n",
    "nm"
   ]
  },
  {
   "cell_type": "code",
   "execution_count": 28,
   "id": "modular-rescue",
   "metadata": {},
   "outputs": [
    {
     "data": {
      "image/png": "[encoded data removed]",
      "text/latex": [
       "$\\displaystyle \\frac{9}{64}$"
      ],
      "text/plain": [
       "9/64"
      ]
     },
     "execution_count": 28,
     "metadata": {},
     "output_type": "execute_result"
    }
   ],
   "source": [
    "profitm = profit.subs(p, pm)\n",
    "profitm"
   ]
  },
  {
   "cell_type": "code",
   "execution_count": 29,
   "id": "assigned-dairy",
   "metadata": {},
   "outputs": [
    {
     "data": {
      "image/png": "[encoded data removed]",
      "text/latex": [
       "$\\displaystyle -2$"
      ],
      "text/plain": [
       "-2"
      ]
     },
     "execution_count": 29,
     "metadata": {},
     "output_type": "execute_result"
    }
   ],
   "source": [
    "sp.diff(profit, p, p)"
   ]
  },
  {
   "cell_type": "markdown",
   "id": "statistical-finland",
   "metadata": {},
   "source": [
    "Le profit est une fonction concave, on en déduit donc qu'un point critique est un maximum global."
   ]
  },
  {
   "cell_type": "markdown",
   "id": "static-greensboro",
   "metadata": {},
   "source": [
    "**REMARQUE** on aurait pu comparer la valeur en ce point avec la valeur au bord et prendre la plus grande des deux."
   ]
  },
  {
   "cell_type": "code",
   "execution_count": 30,
   "id": "czech-mustang",
   "metadata": {},
   "outputs": [
    {
     "data": {
      "image/png": "[encoded data removed]",
      "text/latex": [
       "$\\displaystyle 0$"
      ],
      "text/plain": [
       "0"
      ]
     },
     "execution_count": 30,
     "metadata": {},
     "output_type": "execute_result"
    }
   ],
   "source": [
    "profit.subs(p, 0)"
   ]
  },
  {
   "cell_type": "markdown",
   "id": "identical-ghana",
   "metadata": {},
   "source": [
    "# Question 2\n",
    "\n",
    "Suppose that consumers form beliefs $n^e$ before observing price $p$ and that these beliefs are confirmed in equilibrium; i.e. \n",
    "$$n^e=n^∗.$$ \n",
    "Determine the monopoly solution under these consumer beliefs."
   ]
  },
  {
   "cell_type": "code",
   "execution_count": 31,
   "id": "unique-ranking",
   "metadata": {},
   "outputs": [
    {
     "data": {
      "image/png": "[encoded data removed]",
      "text/latex": [
       "$\\displaystyle \\frac{n^{e}}{2} - p - x + \\frac{1}{4} = 0$"
      ],
      "text/plain": [
       "n__e           1    \n",
       "──── - p - x + ─ = 0\n",
       " 2             4    "
      ]
     },
     "execution_count": 31,
     "metadata": {},
     "output_type": "execute_result"
    }
   ],
   "source": [
    "equation2 = sp.Eq(utilite_consommateur, 0)\n",
    "equation2"
   ]
  },
  {
   "cell_type": "code",
   "execution_count": 32,
   "id": "speaking-signature",
   "metadata": {},
   "outputs": [
    {
     "data": {
      "image/png": "[encoded data removed]",
      "text/latex": [
       "$\\displaystyle \\frac{n^{e}}{2} - p + \\frac{1}{4}$"
      ],
      "text/plain": [
       "n__e       1\n",
       "──── - p + ─\n",
       " 2         4"
      ]
     },
     "execution_count": 32,
     "metadata": {},
     "output_type": "execute_result"
    }
   ],
   "source": [
    "x2, = sp.solve(equation2, x)\n",
    "x2"
   ]
  },
  {
   "cell_type": "code",
   "execution_count": 33,
   "id": "precise-steam",
   "metadata": {},
   "outputs": [
    {
     "data": {
      "image/png": "[encoded data removed]",
      "text/latex": [
       "$\\displaystyle p \\left(\\frac{n^{e}}{2} - p + \\frac{1}{4}\\right)$"
      ],
      "text/plain": [
       "  ⎛n__e       1⎞\n",
       "p⋅⎜──── - p + ─⎟\n",
       "  ⎝ 2         4⎠"
      ]
     },
     "execution_count": 33,
     "metadata": {},
     "output_type": "execute_result"
    }
   ],
   "source": [
    "profit2 = p * x2\n",
    "profit2"
   ]
  },
  {
   "cell_type": "code",
   "execution_count": 34,
   "id": "portable-hormone",
   "metadata": {},
   "outputs": [
    {
     "data": {
      "text/plain": [
       "'p \\\\left(\\\\frac{n^{e}}{2} - p + \\\\frac{1}{4}\\\\right)'"
      ]
     },
     "execution_count": 34,
     "metadata": {},
     "output_type": "execute_result"
    }
   ],
   "source": [
    "sp.latex(profit2)"
   ]
  },
  {
   "cell_type": "markdown",
   "id": "simplified-klein",
   "metadata": {},
   "source": [
    "On cherche donc à résoudre\n",
    "\n",
    "$$\n",
    "\\underset{p\\geq 0}{\\sup} p \\left(\\frac{n^{e}}{2} - p + \\frac{1}{4}\\right)\n",
    "$$\n",
    "\n",
    "Comme"
   ]
  },
  {
   "cell_type": "code",
   "execution_count": 36,
   "id": "naughty-maximum",
   "metadata": {},
   "outputs": [
    {
     "data": {
      "image/png": "[encoded data removed]",
      "text/latex": [
       "$\\displaystyle -\\infty$"
      ],
      "text/plain": [
       "-∞"
      ]
     },
     "execution_count": 36,
     "metadata": {},
     "output_type": "execute_result"
    }
   ],
   "source": [
    "sp.limit(profit2, p, + sp.oo)"
   ]
  },
  {
   "cell_type": "markdown",
   "id": "underlying-auckland",
   "metadata": {},
   "source": [
    "Le $\\sup$ est atteint, et on a un $\\max$."
   ]
  },
  {
   "cell_type": "markdown",
   "id": "varied-companion",
   "metadata": {},
   "source": [
    "Si il est atteint en un point intérieur on a forcément un point critique:"
   ]
  },
  {
   "cell_type": "code",
   "execution_count": 38,
   "id": "recorded-license",
   "metadata": {},
   "outputs": [
    {
     "data": {
      "image/png": "[encoded data removed]",
      "text/latex": [
       "$\\displaystyle \\frac{n^{e}}{4} + \\frac{1}{8}$"
      ],
      "text/plain": [
       "n__e   1\n",
       "──── + ─\n",
       " 4     8"
      ]
     },
     "execution_count": 38,
     "metadata": {},
     "output_type": "execute_result"
    }
   ],
   "source": [
    "pm2, = sp.solve(sp.diff(profit2, p), p)\n",
    "pm2"
   ]
  },
  {
   "cell_type": "code",
   "execution_count": 40,
   "id": "approximate-colony",
   "metadata": {},
   "outputs": [
    {
     "data": {
      "image/png": "[encoded data removed]",
      "text/latex": [
       "$\\displaystyle \\frac{n^{e}}{4} + \\frac{1}{8}$"
      ],
      "text/plain": [
       "n__e   1\n",
       "──── + ─\n",
       " 4     8"
      ]
     },
     "execution_count": 40,
     "metadata": {},
     "output_type": "execute_result"
    }
   ],
   "source": [
    "ns, = sp.solve(utilite_consommateur.subs({p: pm2}), x)\n",
    "ns"
   ]
  },
  {
   "cell_type": "markdown",
   "id": "reasonable-basin",
   "metadata": {},
   "source": [
    "Comme on a"
   ]
  },
  {
   "cell_type": "code",
   "execution_count": 46,
   "id": "interested-linux",
   "metadata": {},
   "outputs": [
    {
     "data": {
      "image/png": "[encoded data removed]",
      "text/latex": [
       "$\\displaystyle -2$"
      ],
      "text/plain": [
       "-2"
      ]
     },
     "execution_count": 46,
     "metadata": {},
     "output_type": "execute_result"
    }
   ],
   "source": [
    "sp.diff(profit2, p, p)"
   ]
  },
  {
   "cell_type": "markdown",
   "id": "young-purchase",
   "metadata": {},
   "source": [
    "Le profit est concave par rapport à $p$ et un point critique est forcément un maximum global."
   ]
  },
  {
   "cell_type": "markdown",
   "id": "weighted-admission",
   "metadata": {},
   "source": [
    "Comme par hypothèse $n^* = n^e$ on a "
   ]
  },
  {
   "cell_type": "code",
   "execution_count": 41,
   "id": "major-yellow",
   "metadata": {},
   "outputs": [
    {
     "data": {
      "image/png": "[encoded data removed]",
      "text/latex": [
       "$\\displaystyle \\frac{n^{e}}{4} + \\frac{1}{8} = n^{e}$"
      ],
      "text/plain": [
       "n__e   1       \n",
       "──── + ─ = n__e\n",
       " 4     8       "
      ]
     },
     "execution_count": 41,
     "metadata": {},
     "output_type": "execute_result"
    }
   ],
   "source": [
    "equation2b = sp.Eq(ns, ne)\n",
    "equation2b"
   ]
  },
  {
   "cell_type": "code",
   "execution_count": 43,
   "id": "environmental-vacation",
   "metadata": {},
   "outputs": [
    {
     "data": {
      "image/png": "[encoded data removed]",
      "text/latex": [
       "$\\displaystyle \\frac{1}{6}$"
      ],
      "text/plain": [
       "1/6"
      ]
     },
     "execution_count": 43,
     "metadata": {},
     "output_type": "execute_result"
    }
   ],
   "source": [
    "ne2, = sp.solve(equation2b, ne)\n",
    "ne2"
   ]
  },
  {
   "cell_type": "code",
   "execution_count": 45,
   "id": "moral-knitting",
   "metadata": {},
   "outputs": [
    {
     "data": {
      "image/png": "[encoded data removed]",
      "text/latex": [
       "$\\displaystyle p \\left(\\frac{1}{3} - p\\right)$"
      ],
      "text/plain": [
       "p⋅(1/3 - p)"
      ]
     },
     "execution_count": 45,
     "metadata": {},
     "output_type": "execute_result"
    }
   ],
   "source": [
    "profit2b = profit2.subs(ne, ne2)\n",
    "profit2b"
   ]
  },
  {
   "cell_type": "markdown",
   "id": "egyptian-headset",
   "metadata": {},
   "source": [
    "On refait la démarche précédente"
   ]
  },
  {
   "cell_type": "code",
   "execution_count": 47,
   "id": "colored-attitude",
   "metadata": {},
   "outputs": [
    {
     "data": {
      "image/png": "[encoded data removed]",
      "text/latex": [
       "$\\displaystyle -\\infty$"
      ],
      "text/plain": [
       "-∞"
      ]
     },
     "execution_count": 47,
     "metadata": {},
     "output_type": "execute_result"
    }
   ],
   "source": [
    "sp.limit(profit2b, p, +sp.oo)"
   ]
  },
  {
   "cell_type": "code",
   "execution_count": 49,
   "id": "large-volume",
   "metadata": {},
   "outputs": [
    {
     "data": {
      "image/png": "[encoded data removed]",
      "text/latex": [
       "$\\displaystyle \\frac{1}{6}$"
      ],
      "text/plain": [
       "1/6"
      ]
     },
     "execution_count": 49,
     "metadata": {},
     "output_type": "execute_result"
    }
   ],
   "source": [
    "pm2b, = sp.solve(sp.diff(profit2b, p), p)\n",
    "pm2b"
   ]
  },
  {
   "cell_type": "code",
   "execution_count": 90,
   "id": "modified-starter",
   "metadata": {},
   "outputs": [
    {
     "data": {
      "image/png": "[encoded data removed]",
      "text/latex": [
       "$\\displaystyle \\frac{1}{6}$"
      ],
      "text/plain": [
       "1/6"
      ]
     },
     "metadata": {},
     "output_type": "display_data"
    }
   ],
   "source": [
    "nm2 = ne2\n",
    "display(nm2)"
   ]
  },
  {
   "cell_type": "code",
   "execution_count": 50,
   "id": "activated-suffering",
   "metadata": {},
   "outputs": [
    {
     "data": {
      "image/png": "[encoded data removed]",
      "text/latex": [
       "$\\displaystyle \\frac{1}{36}$"
      ],
      "text/plain": [
       "1/36"
      ]
     },
     "execution_count": 50,
     "metadata": {},
     "output_type": "execute_result"
    }
   ],
   "source": [
    "profit2b.subs(p, pm2b)"
   ]
  },
  {
   "cell_type": "markdown",
   "id": "standing-concrete",
   "metadata": {},
   "source": [
    "**ATTENTION** il faudrait argumenter que les points critiques sont bien strictement dans l'intérieur du domaine de maximisation.\n",
    "On peut au moment de la création de symboles rajouter de l'information à priori via des argument nommés de type `positive=True` et `real=True`."
   ]
  },
  {
   "cell_type": "markdown",
   "id": "quality-glory",
   "metadata": {},
   "source": [
    "# Question 3\n",
    "\n",
    "Suppose that consumers first observe price and then form beliefs\n",
    "$$n^e(p)$$ \n",
    "and that beliefs are self-fulfilling; i.e., they are confirmed in the monopoly solution. \n",
    "Determine the monopoly solution under these consumer beliefs."
   ]
  },
  {
   "cell_type": "code",
   "execution_count": 71,
   "id": "former-prompt",
   "metadata": {},
   "outputs": [
    {
     "data": {
      "image/png": "[encoded data removed]",
      "text/latex": [
       "$\\displaystyle \\frac{n^{e}}{2} - p + \\frac{1}{4}$"
      ],
      "text/plain": [
       "n__e       1\n",
       "──── - p + ─\n",
       " 2         4"
      ]
     },
     "execution_count": 71,
     "metadata": {},
     "output_type": "execute_result"
    }
   ],
   "source": [
    "x3, = sp.solve(utilite_consommateur, x)\n",
    "x3"
   ]
  },
  {
   "cell_type": "code",
   "execution_count": 72,
   "id": "herbal-warrior",
   "metadata": {},
   "outputs": [
    {
     "data": {
      "image/png": "[encoded data removed]",
      "text/latex": [
       "$\\displaystyle \\frac{n^{e}}{2} - p + \\frac{1}{4} = n^{e}$"
      ],
      "text/plain": [
       "n__e       1       \n",
       "──── - p + ─ = n__e\n",
       " 2         4       "
      ]
     },
     "metadata": {},
     "output_type": "display_data"
    },
    {
     "data": {
      "image/png": "[encoded data removed]",
      "text/latex": [
       "$\\displaystyle \\frac{1}{2} - 2 p$"
      ],
      "text/plain": [
       "1/2 - 2⋅p"
      ]
     },
     "metadata": {},
     "output_type": "display_data"
    }
   ],
   "source": [
    "equation3 = sp.Eq(x3, ne)\n",
    "display(equation3)\n",
    "n3, = sp.solve(equation3, ne)\n",
    "display(n3)"
   ]
  },
  {
   "cell_type": "code",
   "execution_count": 73,
   "id": "sunrise-jacksonville",
   "metadata": {},
   "outputs": [
    {
     "data": {
      "image/png": "[encoded data removed]",
      "text/latex": [
       "$\\displaystyle p \\left(\\frac{1}{2} - 2 p\\right)$"
      ],
      "text/plain": [
       "p⋅(1/2 - 2⋅p)"
      ]
     },
     "metadata": {},
     "output_type": "display_data"
    },
    {
     "name": "stdout",
     "output_type": "stream",
     "text": [
      "p \\left(\\frac{1}{2} - 2 p\\right)\n"
     ]
    }
   ],
   "source": [
    "profit3 = x3.subs({ne: n3}) * p\n",
    "display(profit3)\n",
    "print(sp.latex(profit3))\n"
   ]
  },
  {
   "cell_type": "markdown",
   "id": "guided-intensity",
   "metadata": {},
   "source": [
    "On cherche à résoudre\n",
    "$$\n",
    "\\underset{p\\geq 0}{\\sup} p \\left(\\frac{1}{2} - 2 p\\right)\n",
    "$$\n",
    "Comme"
   ]
  },
  {
   "cell_type": "code",
   "execution_count": 74,
   "id": "inappropriate-italic",
   "metadata": {},
   "outputs": [
    {
     "data": {
      "image/png": "[encoded data removed]",
      "text/latex": [
       "$\\displaystyle -\\infty$"
      ],
      "text/plain": [
       "-∞"
      ]
     },
     "execution_count": 74,
     "metadata": {},
     "output_type": "execute_result"
    }
   ],
   "source": [
    "sp.limit(profit3, p, +sp.oo)"
   ]
  },
  {
   "cell_type": "markdown",
   "id": "demanding-remove",
   "metadata": {},
   "source": [
    "Le $\\sup$ est en fait un $\\max$.\n",
    "S'il est atteint à l'intérieur c'est forcément un point critique."
   ]
  },
  {
   "cell_type": "code",
   "execution_count": 75,
   "id": "serious-entrepreneur",
   "metadata": {},
   "outputs": [
    {
     "data": {
      "image/png": "[encoded data removed]",
      "text/latex": [
       "$\\displaystyle \\frac{1}{2} - 4 p = 0$"
      ],
      "text/plain": [
       "1/2 - 4⋅p = 0"
      ]
     },
     "metadata": {},
     "output_type": "display_data"
    },
    {
     "data": {
      "image/png": "[encoded data removed]",
      "text/latex": [
       "$\\displaystyle \\frac{1}{8}$"
      ],
      "text/plain": [
       "1/8"
      ]
     },
     "metadata": {},
     "output_type": "display_data"
    }
   ],
   "source": [
    "equation3b = sp.Eq(sp.diff(profit3, p), 0)\n",
    "display(equation3b)\n",
    "pm3, = sp.solve(equation3b, p)\n",
    "display(pm3)"
   ]
  },
  {
   "cell_type": "markdown",
   "id": "occupational-active",
   "metadata": {},
   "source": [
    "Comme on peut calculer "
   ]
  },
  {
   "cell_type": "code",
   "execution_count": 76,
   "id": "competent-savage",
   "metadata": {},
   "outputs": [
    {
     "data": {
      "image/png": "[encoded data removed]",
      "text/latex": [
       "$\\displaystyle -4$"
      ],
      "text/plain": [
       "-4"
      ]
     },
     "execution_count": 76,
     "metadata": {},
     "output_type": "execute_result"
    }
   ],
   "source": [
    "sp.diff(profit3, p, p)"
   ]
  },
  {
   "cell_type": "markdown",
   "id": "synthetic-width",
   "metadata": {},
   "source": [
    "La fonction profit est concave dont un point critique est un maximum global.\n",
    "\n",
    "On récupère le profit et la demande correspondante par"
   ]
  },
  {
   "cell_type": "code",
   "execution_count": 79,
   "id": "sunset-laugh",
   "metadata": {},
   "outputs": [
    {
     "data": {
      "image/png": "[encoded data removed]",
      "text/latex": [
       "$\\displaystyle \\frac{1}{32}$"
      ],
      "text/plain": [
       "1/32"
      ]
     },
     "metadata": {},
     "output_type": "display_data"
    },
    {
     "data": {
      "image/png": "[encoded data removed]",
      "text/latex": [
       "$\\displaystyle \\frac{1}{4}$"
      ],
      "text/plain": [
       "1/4"
      ]
     },
     "metadata": {},
     "output_type": "display_data"
    }
   ],
   "source": [
    "display(profit3.subs(p, pm3))\n",
    "nm3 = demande.subs({p: pm3, ne: n3})\n",
    "display(nm3)"
   ]
  },
  {
   "cell_type": "markdown",
   "id": "announced-killer",
   "metadata": {},
   "source": [
    "**REMARQUE** pour améliorer la présentation on pourrait passer les phrases d'introduction avec du latex dans display avant les objets eux mêmes."
   ]
  },
  {
   "cell_type": "markdown",
   "id": "minor-cambridge",
   "metadata": {},
   "source": [
    "# Question 4\n",
    "\n",
    "Compare your findings in parts 2 and 3. Explain what is going on."
   ]
  },
  {
   "cell_type": "code",
   "execution_count": 81,
   "id": "velvet-reducing",
   "metadata": {},
   "outputs": [
    {
     "data": {
      "image/png": "[encoded data removed]",
      "text/latex": [
       "$\\displaystyle - p - x + \\frac{1}{3} = 0$"
      ],
      "text/plain": [
       "-p - x + 1/3 = 0"
      ]
     },
     "metadata": {},
     "output_type": "display_data"
    }
   ],
   "source": [
    "equation_demande_2 = sp.Eq(utilite_consommateur.subs(ne, ne2), 0)\n",
    "display(equation_demande_2)"
   ]
  },
  {
   "cell_type": "code",
   "execution_count": 86,
   "id": "integral-reconstruction",
   "metadata": {},
   "outputs": [
    {
     "data": {
      "image/png": "[encoded data removed]",
      "text/latex": [
       "$\\displaystyle \\frac{1}{2} - 2 p = x$"
      ],
      "text/plain": [
       "1/2 - 2⋅p = x"
      ]
     },
     "metadata": {},
     "output_type": "display_data"
    }
   ],
   "source": [
    "equation_demande_3 = sp.Eq(n3, x)\n",
    "display(equation_demande_3)"
   ]
  },
  {
   "cell_type": "code",
   "execution_count": 96,
   "id": "conservative-quality",
   "metadata": {},
   "outputs": [
    {
     "data": {
      "image/png": "[encoded data removed]",
      "text/plain": [
       "<Figure size 864x576 with 1 Axes>"
      ]
     },
     "metadata": {
      "needs_background": "light"
     },
     "output_type": "display_data"
    }
   ],
   "source": [
    "courbe_demande_2 = sp.plot_implicit(\n",
    "    equation_demande_2, \n",
    "    (x, 0, 1), \n",
    "    (p, 0, 0.7),\n",
    "    show=False\n",
    ")\n",
    "courbe_demande_2[0].line_color = \"red\"\n",
    "equilibre_2_y = sp.plot_implicit(sp.Eq(p, pm2b), (x, 0, 1), (p, 0, pm2b), show=False)\n",
    "equilibre_2_x = sp.plot_implicit(sp.Eq(x, nm2), (x, 0, nm2), (p, 0, 0.7), show=False)\n",
    "equilibre_2_y[0].line_color = \"red\"\n",
    "equilibre_2_x[0].line_color = \"red\"\n",
    "courbe_demande_2.extend([equilibre_2_y[0], equilibre_2_x[0]])\n",
    "\n",
    "courbe_demande_3 =  sp.plot_implicit(\n",
    "    equation_demande_3, \n",
    "    (x, 0, 1), \n",
    "    (p, 0, 0.7),\n",
    "    show=False\n",
    ")\n",
    "courbe_demande_2.append(courbe_demande_3[0])\n",
    "\n",
    "equilibre_3_y = sp.plot_implicit(sp.Eq(p, pm3), (x, 0, 1), (p, 0, pm3), show=False)\n",
    "equilibre_3_x = sp.plot_implicit(sp.Eq(x, nm3), (x, 0, nm3), (p, 0, 0.7), show=False)\n",
    "courbe_demande_2.extend([equilibre_3_y[0], equilibre_3_x[0]])\n",
    "\n",
    "courbe_demande_2.show()"
   ]
  },
  {
   "cell_type": "markdown",
   "id": "incoming-softball",
   "metadata": {},
   "source": [
    "**REMARQUE** on note l'intérêt d'améliorer la nomenclature entre les parties!"
   ]
  },
  {
   "cell_type": "markdown",
   "id": "sought-point",
   "metadata": {},
   "source": [
    "# Question 5\n",
    "\n",
    "Suppose that there is a second group of consumers (of mass 1) who also have an opportunity costxthat is uniformly distributed on the unit interval.   The utility of consumerxin this second group is\n",
    "$$1=4+n^e_1(p_1)=2−p_2−x,$$\n",
    "where \n",
    "- $n^e_1(p_1)$ is the expected number of consumers in the first group buying theproduct \n",
    "- price $p_2$ is the price charged to the second group of consumers. \n",
    "\n",
    "Suppose that, similar to part 3, consumers of both groups first observe prices and then form beliefs. \n",
    "Thus, a consumer $x$ in the first group has net utility\n",
    "$$1=4+n^e_1(p_1)=2−p_1−x.$$\n",
    "Suppose that consumers from both groups hold self-fulfilling beliefs. \n",
    "Determine the monopoly solution (prices and quantities) under these consumer beliefs."
   ]
  },
  {
   "cell_type": "code",
   "execution_count": null,
   "id": "presidential-capability",
   "metadata": {},
   "outputs": [],
   "source": []
  },
  {
   "cell_type": "markdown",
   "id": "burning-method",
   "metadata": {},
   "source": [
    "# Question 6\n",
    "\n",
    "Within the setting of part 5, suppose that the monopolist is forced to charge the same price to both groups of consumers; i.e.\n",
    "$$p=p_1=p_2.$$\n",
    "Determine the monopoly solution\n"
   ]
  },
  {
   "cell_type": "markdown",
   "id": "positive-lithuania",
   "metadata": {},
   "source": [
    "# Question 7\n",
    "\n",
    "Explain your findings in parts 5 and 6. \n",
    "Does the monopolist have an incentive to charge prices $p_1 \\neq p_2$?\n",
    "\n",
    "Why or why not is this the case?"
   ]
  }
 ],
 "metadata": {
  "kernelspec": {
   "display_name": "Python 3",
   "language": "python",
   "name": "python3"
  },
  "language_info": {
   "codemirror_mode": {
    "name": "ipython",
    "version": 3
   },
   "file_extension": ".py",
   "mimetype": "text/x-python",
   "name": "python",
   "nbconvert_exporter": "python",
   "pygments_lexer": "ipython3",
   "version": "3.8.3"
  }
 },
 "nbformat": 4,
 "nbformat_minor": 5
}
