{
 "cells": [
  {
   "cell_type": "code",
   "execution_count": 2,
   "id": "legislative-villa",
   "metadata": {},
   "outputs": [],
   "source": [
    "import sympy as sp\n",
    "import matplotlib.pyplot as plt\n",
    "import numpy as np"
   ]
  },
  {
   "cell_type": "code",
   "execution_count": 57,
   "id": "skilled-measure",
   "metadata": {},
   "outputs": [],
   "source": [
    "from IPython.display import display"
   ]
  },
  {
   "cell_type": "code",
   "execution_count": 3,
   "id": "fifth-comfort",
   "metadata": {},
   "outputs": [],
   "source": [
    "sp.init_printing()\n",
    "\n",
    "%matplotlib inline\n",
    "plt.rcParams[\"figure.figsize\"] = (12, 8)"
   ]
  },
  {
   "cell_type": "markdown",
   "id": "accepted-price",
   "metadata": {},
   "source": [
    "# Enoncé\n",
    "\n",
    "Consider a monopoly market in which consumers’ opportunity cost $x$ is uniformly distributed on the unit interval; i.e.,$x\\in [0, 1]$. \n",
    "A consumer’s utility of consuming one unit of the good offered by the monopolist relative to the outside option is $\\frac{1}{4} + \\frac{n^e}{2} -p - x$, where \n",
    "- $p$ is the price set by the monopo list \n",
    "- $n^e$ is the expected number of fellow buyers of the good. \n",
    "There is mass one of consumers. \n",
    "The monopolist’s marginal costs are zero."
   ]
  },
  {
   "cell_type": "code",
   "execution_count": 4,
   "id": "given-myrtle",
   "metadata": {},
   "outputs": [
    {
     "data": {
      "image/png": "[encoded data removed]",
      "text/latex": [
       "$\\displaystyle \\left( n^{e}, \\  p, \\  x\\right)$"
      ],
      "text/plain": [
       "(n__e, p, x)"
      ]
     },
     "execution_count": 4,
     "metadata": {},
     "output_type": "execute_result"
    }
   ],
   "source": [
    "ne, p, x = sp.symbols(\"n^e p x\")\n",
    "ne, p, x"
   ]
  },
  {
   "cell_type": "code",
   "execution_count": 5,
   "id": "stainless-corruption",
   "metadata": {},
   "outputs": [
    {
     "data": {
      "image/png": "[encoded data removed]",
      "text/latex": [
       "$\\displaystyle \\frac{n^{e}}{2} - p - x + \\frac{1}{4}$"
      ],
      "text/plain": [
       "n__e           1\n",
       "──── - p - x + ─\n",
       " 2             4"
      ]
     },
     "execution_count": 5,
     "metadata": {},
     "output_type": "execute_result"
    }
   ],
   "source": [
    "utilite_consommateur = sp.S(1) / 4 + ne / 2 - p - x\n",
    "utilite_consommateur"
   ]
  },
  {
   "cell_type": "markdown",
   "id": "sized-telephone",
   "metadata": {},
   "source": [
    "# Question 1\n",
    "\n",
    "Suppose that consumers believe that $n^e = 1$.\n",
    "Determine the monopoly solution under these consumer believes.\n",
    "\n",
    "**TODO** Pourquoi résoud-on $utilite_{consommateur} = 0$?"
   ]
  },
  {
   "cell_type": "code",
   "execution_count": 6,
   "id": "split-replica",
   "metadata": {},
   "outputs": [
    {
     "data": {
      "image/png": "[encoded data removed]",
      "text/latex": [
       "$\\displaystyle - p - x + \\frac{3}{4} = 0$"
      ],
      "text/plain": [
       "-p - x + 3/4 = 0"
      ]
     },
     "execution_count": 6,
     "metadata": {},
     "output_type": "execute_result"
    }
   ],
   "source": [
    "equation = sp.Eq(utilite_consommateur.subs(ne, 1), 0)\n",
    "equation"
   ]
  },
  {
   "cell_type": "code",
   "execution_count": 8,
   "id": "intensive-trinity",
   "metadata": {},
   "outputs": [
    {
     "data": {
      "image/png": "[encoded data removed]",
      "text/latex": [
       "$\\displaystyle \\frac{3}{4} - p$"
      ],
      "text/plain": [
       "3/4 - p"
      ]
     },
     "execution_count": 8,
     "metadata": {},
     "output_type": "execute_result"
    }
   ],
   "source": [
    "x1, = sp.solve(equation, x)\n",
    "x1"
   ]
  },
  {
   "cell_type": "code",
   "execution_count": 9,
   "id": "biological-islam",
   "metadata": {},
   "outputs": [
    {
     "data": {
      "image/png": "[encoded data removed]",
      "text/latex": [
       "$\\displaystyle p \\left(\\frac{3}{4} - p\\right)$"
      ],
      "text/plain": [
       "p⋅(3/4 - p)"
      ]
     },
     "execution_count": 9,
     "metadata": {},
     "output_type": "execute_result"
    }
   ],
   "source": [
    "profit = p * x1\n",
    "profit"
   ]
  },
  {
   "cell_type": "markdown",
   "id": "sized-enforcement",
   "metadata": {},
   "source": [
    "On cherche alors\n",
    "$$ \\underset{p\\in \\mathbb{R}^+}{\\sup} \\mathrm{profit}$$"
   ]
  },
  {
   "cell_type": "markdown",
   "id": "ambient-update",
   "metadata": {},
   "source": [
    "Comme on a "
   ]
  },
  {
   "cell_type": "code",
   "execution_count": 11,
   "id": "natural-military",
   "metadata": {},
   "outputs": [
    {
     "data": {
      "image/png": "[encoded data removed]",
      "text/latex": [
       "$\\displaystyle -\\infty$"
      ],
      "text/plain": [
       "-∞"
      ]
     },
     "execution_count": 11,
     "metadata": {},
     "output_type": "execute_result"
    }
   ],
   "source": [
    "sp.limit(profit, p, +sp.oo)"
   ]
  },
  {
   "cell_type": "markdown",
   "id": "operational-crisis",
   "metadata": {},
   "source": [
    "On en déduit que le $\\sup$ est un $\\max$."
   ]
  },
  {
   "cell_type": "markdown",
   "id": "aging-twist",
   "metadata": {},
   "source": [
    "Si il est atteint à l'intérieur on a"
   ]
  },
  {
   "cell_type": "code",
   "execution_count": 23,
   "id": "suburban-debut",
   "metadata": {},
   "outputs": [
    {
     "data": {
      "image/png": "[encoded data removed]",
      "text/latex": [
       "$\\displaystyle \\frac{3}{8}$"
      ],
      "text/plain": [
       "3/8"
      ]
     },
     "execution_count": 23,
     "metadata": {},
     "output_type": "execute_result"
    }
   ],
   "source": [
    "pm, = sp.solve(sp.diff(profit, p), p)\n",
    "pm"
   ]
  },
  {
   "cell_type": "code",
   "execution_count": 27,
   "id": "touched-corpus",
   "metadata": {},
   "outputs": [
    {
     "data": {
      "image/png": "[encoded data removed]",
      "text/latex": [
       "$\\displaystyle \\frac{3}{8}$"
      ],
      "text/plain": [
       "3/8"
      ]
     },
     "execution_count": 27,
     "metadata": {},
     "output_type": "execute_result"
    }
   ],
   "source": [
    "nm, = sp.solve(utilite_consommateur.subs({ne: 1, p: pm}), x)\n",
    "nm"
   ]
  },
  {
   "cell_type": "code",
   "execution_count": 28,
   "id": "surrounded-share",
   "metadata": {},
   "outputs": [
    {
     "data": {
      "image/png": "[encoded data removed]",
      "text/latex": [
       "$\\displaystyle \\frac{9}{64}$"
      ],
      "text/plain": [
       "9/64"
      ]
     },
     "execution_count": 28,
     "metadata": {},
     "output_type": "execute_result"
    }
   ],
   "source": [
    "profitm = profit.subs(p, pm)\n",
    "profitm"
   ]
  },
  {
   "cell_type": "code",
   "execution_count": 29,
   "id": "passive-prairie",
   "metadata": {},
   "outputs": [
    {
     "data": {
      "image/png": "[encoded data removed]",
      "text/latex": [
       "$\\displaystyle -2$"
      ],
      "text/plain": [
       "-2"
      ]
     },
     "execution_count": 29,
     "metadata": {},
     "output_type": "execute_result"
    }
   ],
   "source": [
    "sp.diff(profit, p, p)"
   ]
  },
  {
   "cell_type": "markdown",
   "id": "pursuant-sculpture",
   "metadata": {},
   "source": [
    "Le profit est une fonction concave, on en déduit donc qu'un point critique est un maximum global."
   ]
  },
  {
   "cell_type": "markdown",
   "id": "grateful-cruise",
   "metadata": {},
   "source": [
    "**REMARQUE** on aurait pu comparer la valeur en ce point avec la valeur au bord et prendre la plus grande des deux."
   ]
  },
  {
   "cell_type": "code",
   "execution_count": 30,
   "id": "alone-hacker",
   "metadata": {},
   "outputs": [
    {
     "data": {
      "image/png": "[encoded data removed]",
      "text/latex": [
       "$\\displaystyle 0$"
      ],
      "text/plain": [
       "0"
      ]
     },
     "execution_count": 30,
     "metadata": {},
     "output_type": "execute_result"
    }
   ],
   "source": [
    "profit.subs(p, 0)"
   ]
  },
  {
   "cell_type": "markdown",
   "id": "incorporated-running",
   "metadata": {},
   "source": [
    "# Question 2\n",
    "\n",
    "Suppose that consumers form beliefs $n^e$ before observing price $p$ and that these beliefs are confirmed in equilibrium; i.e. \n",
    "$$n^e=n^∗.$$ \n",
    "Determine the monopoly solution under these consumer beliefs."
   ]
  },
  {
   "cell_type": "code",
   "execution_count": 31,
   "id": "balanced-fortune",
   "metadata": {},
   "outputs": [
    {
     "data": {
      "image/png": "[encoded data removed]",
      "text/latex": [
       "$\\displaystyle \\frac{n^{e}}{2} - p - x + \\frac{1}{4} = 0$"
      ],
      "text/plain": [
       "n__e           1    \n",
       "──── - p - x + ─ = 0\n",
       " 2             4    "
      ]
     },
     "execution_count": 31,
     "metadata": {},
     "output_type": "execute_result"
    }
   ],
   "source": [
    "equation2 = sp.Eq(utilite_consommateur, 0)\n",
    "equation2"
   ]
  },
  {
   "cell_type": "code",
   "execution_count": 32,
   "id": "champion-diagnosis",
   "metadata": {},
   "outputs": [
    {
     "data": {
      "image/png": "[encoded data removed]",
      "text/latex": [
       "$\\displaystyle \\frac{n^{e}}{2} - p + \\frac{1}{4}$"
      ],
      "text/plain": [
       "n__e       1\n",
       "──── - p + ─\n",
       " 2         4"
      ]
     },
     "execution_count": 32,
     "metadata": {},
     "output_type": "execute_result"
    }
   ],
   "source": [
    "x2, = sp.solve(equation2, x)\n",
    "x2"
   ]
  },
  {
   "cell_type": "code",
   "execution_count": 33,
   "id": "wanted-making",
   "metadata": {},
   "outputs": [
    {
     "data": {
      "image/png": "[encoded data removed]",
      "text/latex": [
       "$\\displaystyle p \\left(\\frac{n^{e}}{2} - p + \\frac{1}{4}\\right)$"
      ],
      "text/plain": [
       "  ⎛n__e       1⎞\n",
       "p⋅⎜──── - p + ─⎟\n",
       "  ⎝ 2         4⎠"
      ]
     },
     "execution_count": 33,
     "metadata": {},
     "output_type": "execute_result"
    }
   ],
   "source": [
    "profit2 = p * x2\n",
    "profit2"
   ]
  },
  {
   "cell_type": "code",
   "execution_count": 34,
   "id": "unusual-olympus",
   "metadata": {},
   "outputs": [
    {
     "data": {
      "text/plain": [
       "'p \\\\left(\\\\frac{n^{e}}{2} - p + \\\\frac{1}{4}\\\\right)'"
      ]
     },
     "execution_count": 34,
     "metadata": {},
     "output_type": "execute_result"
    }
   ],
   "source": [
    "sp.latex(profit2)"
   ]
  },
  {
   "cell_type": "markdown",
   "id": "after-computer",
   "metadata": {},
   "source": [
    "On cherche donc à résoudre\n",
    "\n",
    "$$\n",
    "\\underset{p\\geq 0}{\\sup} p \\left(\\frac{n^{e}}{2} - p + \\frac{1}{4}\\right)\n",
    "$$\n",
    "\n",
    "Comme"
   ]
  },
  {
   "cell_type": "code",
   "execution_count": 36,
   "id": "touched-combining",
   "metadata": {},
   "outputs": [
    {
     "data": {
      "image/png": "[encoded data removed]",
      "text/latex": [
       "$\\displaystyle -\\infty$"
      ],
      "text/plain": [
       "-∞"
      ]
     },
     "execution_count": 36,
     "metadata": {},
     "output_type": "execute_result"
    }
   ],
   "source": [
    "sp.limit(profit2, p, + sp.oo)"
   ]
  },
  {
   "cell_type": "markdown",
   "id": "better-momentum",
   "metadata": {},
   "source": [
    "Le $\\sup$ est atteint, et on a un $\\max$."
   ]
  },
  {
   "cell_type": "markdown",
   "id": "exact-netscape",
   "metadata": {},
   "source": [
    "Si il est atteint en un point intérieur on a forcément un point critique:"
   ]
  },
  {
   "cell_type": "code",
   "execution_count": 38,
   "id": "incorporate-investigation",
   "metadata": {},
   "outputs": [
    {
     "data": {
      "image/png": "[encoded data removed]",
      "text/latex": [
       "$\\displaystyle \\frac{n^{e}}{4} + \\frac{1}{8}$"
      ],
      "text/plain": [
       "n__e   1\n",
       "──── + ─\n",
       " 4     8"
      ]
     },
     "execution_count": 38,
     "metadata": {},
     "output_type": "execute_result"
    }
   ],
   "source": [
    "pm2, = sp.solve(sp.diff(profit2, p), p)\n",
    "pm2"
   ]
  },
  {
   "cell_type": "code",
   "execution_count": 40,
   "id": "found-farming",
   "metadata": {},
   "outputs": [
    {
     "data": {
      "image/png": "[encoded data removed]",
      "text/latex": [
       "$\\displaystyle \\frac{n^{e}}{4} + \\frac{1}{8}$"
      ],
      "text/plain": [
       "n__e   1\n",
       "──── + ─\n",
       " 4     8"
      ]
     },
     "execution_count": 40,
     "metadata": {},
     "output_type": "execute_result"
    }
   ],
   "source": [
    "ns, = sp.solve(utilite_consommateur.subs({p: pm2}), x)\n",
    "ns"
   ]
  },
  {
   "cell_type": "markdown",
   "id": "unnecessary-trader",
   "metadata": {},
   "source": [
    "Comme on a"
   ]
  },
  {
   "cell_type": "code",
   "execution_count": 46,
   "id": "reasonable-demand",
   "metadata": {},
   "outputs": [
    {
     "data": {
      "image/png": "[encoded data removed]",
      "text/latex": [
       "$\\displaystyle -2$"
      ],
      "text/plain": [
       "-2"
      ]
     },
     "execution_count": 46,
     "metadata": {},
     "output_type": "execute_result"
    }
   ],
   "source": [
    "sp.diff(profit2, p, p)"
   ]
  },
  {
   "cell_type": "markdown",
   "id": "primary-ranch",
   "metadata": {},
   "source": [
    "Le profit est concave par rapport à $p$ et un point critique est forcément un maximum global."
   ]
  },
  {
   "cell_type": "markdown",
   "id": "cosmetic-senator",
   "metadata": {},
   "source": [
    "Comme par hypothèse $n^* = n^e$ on a "
   ]
  },
  {
   "cell_type": "code",
   "execution_count": 41,
   "id": "former-dating",
   "metadata": {},
   "outputs": [
    {
     "data": {
      "image/png": "[encoded data removed]",
      "text/latex": [
       "$\\displaystyle \\frac{n^{e}}{4} + \\frac{1}{8} = n^{e}$"
      ],
      "text/plain": [
       "n__e   1       \n",
       "──── + ─ = n__e\n",
       " 4     8       "
      ]
     },
     "execution_count": 41,
     "metadata": {},
     "output_type": "execute_result"
    }
   ],
   "source": [
    "equation2b = sp.Eq(ns, ne)\n",
    "equation2b"
   ]
  },
  {
   "cell_type": "code",
   "execution_count": 43,
   "id": "periodic-window",
   "metadata": {},
   "outputs": [
    {
     "data": {
      "image/png": "[encoded data removed]",
      "text/latex": [
       "$\\displaystyle \\frac{1}{6}$"
      ],
      "text/plain": [
       "1/6"
      ]
     },
     "execution_count": 43,
     "metadata": {},
     "output_type": "execute_result"
    }
   ],
   "source": [
    "ne2, = sp.solve(equation2b, ne)\n",
    "ne2"
   ]
  },
  {
   "cell_type": "code",
   "execution_count": 45,
   "id": "voluntary-dancing",
   "metadata": {},
   "outputs": [
    {
     "data": {
      "image/png": "[encoded data removed]",
      "text/latex": [
       "$\\displaystyle p \\left(\\frac{1}{3} - p\\right)$"
      ],
      "text/plain": [
       "p⋅(1/3 - p)"
      ]
     },
     "execution_count": 45,
     "metadata": {},
     "output_type": "execute_result"
    }
   ],
   "source": [
    "profit2b = profit2.subs(ne, ne2)\n",
    "profit2b"
   ]
  },
  {
   "cell_type": "markdown",
   "id": "empirical-cream",
   "metadata": {},
   "source": [
    "On refait la démarche précédente"
   ]
  },
  {
   "cell_type": "code",
   "execution_count": 47,
   "id": "square-wiring",
   "metadata": {},
   "outputs": [
    {
     "data": {
      "image/png": "[encoded data removed]",
      "text/latex": [
       "$\\displaystyle -\\infty$"
      ],
      "text/plain": [
       "-∞"
      ]
     },
     "execution_count": 47,
     "metadata": {},
     "output_type": "execute_result"
    }
   ],
   "source": [
    "sp.limit(profit2b, p, +sp.oo)"
   ]
  },
  {
   "cell_type": "code",
   "execution_count": 49,
   "id": "dated-chapter",
   "metadata": {},
   "outputs": [
    {
     "data": {
      "image/png": "[encoded data removed]",
      "text/latex": [
       "$\\displaystyle \\frac{1}{6}$"
      ],
      "text/plain": [
       "1/6"
      ]
     },
     "execution_count": 49,
     "metadata": {},
     "output_type": "execute_result"
    }
   ],
   "source": [
    "pm2b, = sp.solve(sp.diff(profit2b, p), p)\n",
    "pm2b"
   ]
  },
  {
   "cell_type": "code",
   "execution_count": 90,
   "id": "combined-essex",
   "metadata": {},
   "outputs": [
    {
     "data": {
      "image/png": "[encoded data removed]",
      "text/latex": [
       "$\\displaystyle \\frac{1}{6}$"
      ],
      "text/plain": [
       "1/6"
      ]
     },
     "metadata": {},
     "output_type": "display_data"
    }
   ],
   "source": [
    "nm2 = ne2\n",
    "display(nm2)"
   ]
  },
  {
   "cell_type": "code",
   "execution_count": 50,
   "id": "naughty-hypothetical",
   "metadata": {},
   "outputs": [
    {
     "data": {
      "image/png": "[encoded data removed]",
      "text/latex": [
       "$\\displaystyle \\frac{1}{36}$"
      ],
      "text/plain": [
       "1/36"
      ]
     },
     "execution_count": 50,
     "metadata": {},
     "output_type": "execute_result"
    }
   ],
   "source": [
    "profit2b.subs(p, pm2b)"
   ]
  },
  {
   "cell_type": "markdown",
   "id": "coupled-conjunction",
   "metadata": {},
   "source": [
    "**ATTENTION** il faudrait argumenter que les points critiques sont bien strictement dans l'intérieur du domaine de maximisation.\n",
    "On peut au moment de la création de symboles rajouter de l'information à priori via des argument nommés de type `positive=True` et `real=True`."
   ]
  },
  {
   "cell_type": "markdown",
   "id": "loved-copying",
   "metadata": {},
   "source": [
    "# Question 3\n",
    "\n",
    "Suppose that consumers first observe price and then form beliefs\n",
    "$$n^e(p)$$ \n",
    "and that beliefs are self-fulfilling; i.e., they are confirmed in the monopoly solution. \n",
    "Determine the monopoly solution under these consumer beliefs."
   ]
  },
  {
   "cell_type": "code",
   "execution_count": 71,
   "id": "painted-setting",
   "metadata": {},
   "outputs": [
    {
     "data": {
      "image/png": "[encoded data removed]",
      "text/latex": [
       "$\\displaystyle \\frac{n^{e}}{2} - p + \\frac{1}{4}$"
      ],
      "text/plain": [
       "n__e       1\n",
       "──── - p + ─\n",
       " 2         4"
      ]
     },
     "execution_count": 71,
     "metadata": {},
     "output_type": "execute_result"
    }
   ],
   "source": [
    "x3, = sp.solve(utilite_consommateur, x)\n",
    "x3"
   ]
  },
  {
   "cell_type": "code",
   "execution_count": 72,
   "id": "favorite-vietnamese",
   "metadata": {},
   "outputs": [
    {
     "data": {
      "image/png": "[encoded data removed]",
      "text/latex": [
       "$\\displaystyle \\frac{n^{e}}{2} - p + \\frac{1}{4} = n^{e}$"
      ],
      "text/plain": [
       "n__e       1       \n",
       "──── - p + ─ = n__e\n",
       " 2         4       "
      ]
     },
     "metadata": {},
     "output_type": "display_data"
    },
    {
     "data": {
      "image/png": "[encoded data removed]",
      "text/latex": [
       "$\\displaystyle \\frac{1}{2} - 2 p$"
      ],
      "text/plain": [
       "1/2 - 2⋅p"
      ]
     },
     "metadata": {},
     "output_type": "display_data"
    }
   ],
   "source": [
    "equation3 = sp.Eq(x3, ne)\n",
    "display(equation3)\n",
    "n3, = sp.solve(equation3, ne)\n",
    "display(n3)"
   ]
  },
  {
   "cell_type": "code",
   "execution_count": 73,
   "id": "classical-switzerland",
   "metadata": {},
   "outputs": [
    {
     "data": {
      "image/png": "[encoded data removed]",
      "text/latex": [
       "$\\displaystyle p \\left(\\frac{1}{2} - 2 p\\right)$"
      ],
      "text/plain": [
       "p⋅(1/2 - 2⋅p)"
      ]
     },
     "metadata": {},
     "output_type": "display_data"
    },
    {
     "name": "stdout",
     "output_type": "stream",
     "text": [
      "p \\left(\\frac{1}{2} - 2 p\\right)\n"
     ]
    }
   ],
   "source": [
    "profit3 = x3.subs({ne: n3}) * p\n",
    "display(profit3)\n",
    "print(sp.latex(profit3))\n"
   ]
  },
  {
   "cell_type": "markdown",
   "id": "surgical-kuwait",
   "metadata": {},
   "source": [
    "On cherche à résoudre\n",
    "$$\n",
    "\\underset{p\\geq 0}{\\sup} p \\left(\\frac{1}{2} - 2 p\\right)\n",
    "$$\n",
    "Comme"
   ]
  },
  {
   "cell_type": "code",
   "execution_count": 74,
   "id": "wanted-ozone",
   "metadata": {},
   "outputs": [
    {
     "data": {
      "image/png": "[encoded data removed]",
      "text/latex": [
       "$\\displaystyle -\\infty$"
      ],
      "text/plain": [
       "-∞"
      ]
     },
     "execution_count": 74,
     "metadata": {},
     "output_type": "execute_result"
    }
   ],
   "source": [
    "sp.limit(profit3, p, +sp.oo)"
   ]
  },
  {
   "cell_type": "markdown",
   "id": "available-august",
   "metadata": {},
   "source": [
    "Le $\\sup$ est en fait un $\\max$.\n",
    "S'il est atteint à l'intérieur c'est forcément un point critique."
   ]
  },
  {
   "cell_type": "code",
   "execution_count": 75,
   "id": "encouraging-classic",
   "metadata": {},
   "outputs": [
    {
     "data": {
      "image/png": "[encoded data removed]",
      "text/latex": [
       "$\\displaystyle \\frac{1}{2} - 4 p = 0$"
      ],
      "text/plain": [
       "1/2 - 4⋅p = 0"
      ]
     },
     "metadata": {},
     "output_type": "display_data"
    },
    {
     "data": {
      "image/png": "[encoded data removed]",
      "text/latex": [
       "$\\displaystyle \\frac{1}{8}$"
      ],
      "text/plain": [
       "1/8"
      ]
     },
     "metadata": {},
     "output_type": "display_data"
    }
   ],
   "source": [
    "equation3b = sp.Eq(sp.diff(profit3, p), 0)\n",
    "display(equation3b)\n",
    "pm3, = sp.solve(equation3b, p)\n",
    "display(pm3)"
   ]
  },
  {
   "cell_type": "markdown",
   "id": "creative-seven",
   "metadata": {},
   "source": [
    "Comme on peut calculer "
   ]
  },
  {
   "cell_type": "code",
   "execution_count": 76,
   "id": "timely-moral",
   "metadata": {},
   "outputs": [
    {
     "data": {
      "image/png": "[encoded data removed]",
      "text/latex": [
       "$\\displaystyle -4$"
      ],
      "text/plain": [
       "-4"
      ]
     },
     "execution_count": 76,
     "metadata": {},
     "output_type": "execute_result"
    }
   ],
   "source": [
    "sp.diff(profit3, p, p)"
   ]
  },
  {
   "cell_type": "markdown",
   "id": "fantastic-effectiveness",
   "metadata": {},
   "source": [
    "La fonction profit est concave dont un point critique est un maximum global.\n",
    "\n",
    "On récupère le profit et la demande correspondante par"
   ]
  },
  {
   "cell_type": "code",
   "execution_count": 79,
   "id": "coordinate-duration",
   "metadata": {},
   "outputs": [
    {
     "data": {
      "image/png": "[encoded data removed]",
      "text/latex": [
       "$\\displaystyle \\frac{1}{32}$"
      ],
      "text/plain": [
       "1/32"
      ]
     },
     "metadata": {},
     "output_type": "display_data"
    },
    {
     "data": {
      "image/png": "[encoded data removed]",
      "text/latex": [
       "$\\displaystyle \\frac{1}{4}$"
      ],
      "text/plain": [
       "1/4"
      ]
     },
     "metadata": {},
     "output_type": "display_data"
    }
   ],
   "source": [
    "display(profit3.subs(p, pm3))\n",
    "nm3 = demande.subs({p: pm3, ne: n3})\n",
    "display(nm3)"
   ]
  },
  {
   "cell_type": "markdown",
   "id": "signal-rescue",
   "metadata": {},
   "source": [
    "**REMARQUE** pour améliorer la présentation on pourrait passer les phrases d'introduction avec du latex dans display avant les objets eux mêmes."
   ]
  },
  {
   "cell_type": "markdown",
   "id": "administrative-anaheim",
   "metadata": {},
   "source": [
    "# Question 4\n",
    "\n",
    "Compare your findings in parts 2 and 3. Explain what is going on."
   ]
  },
  {
   "cell_type": "code",
   "execution_count": 81,
   "id": "handled-international",
   "metadata": {},
   "outputs": [
    {
     "data": {
      "image/png": "[encoded data removed]",
      "text/latex": [
       "$\\displaystyle - p - x + \\frac{1}{3} = 0$"
      ],
      "text/plain": [
       "-p - x + 1/3 = 0"
      ]
     },
     "metadata": {},
     "output_type": "display_data"
    }
   ],
   "source": [
    "equation_demande_2 = sp.Eq(utilite_consommateur.subs(ne, ne2), 0)\n",
    "display(equation_demande_2)"
   ]
  },
  {
   "cell_type": "code",
   "execution_count": 86,
   "id": "moved-wichita",
   "metadata": {},
   "outputs": [
    {
     "data": {
      "image/png": "[encoded data removed]",
      "text/latex": [
       "$\\displaystyle \\frac{1}{2} - 2 p = x$"
      ],
      "text/plain": [
       "1/2 - 2⋅p = x"
      ]
     },
     "metadata": {},
     "output_type": "display_data"
    }
   ],
   "source": [
    "equation_demande_3 = sp.Eq(n3, x)\n",
    "display(equation_demande_3)"
   ]
  },
  {
   "cell_type": "code",
   "execution_count": 96,
   "id": "trained-enterprise",
   "metadata": {},
   "outputs": [
    {
     "data": {
      "image/png": "[encoded data removed]",
      "text/plain": [
       "<Figure size 864x576 with 1 Axes>"
      ]
     },
     "metadata": {
      "needs_background": "light"
     },
     "output_type": "display_data"
    }
   ],
   "source": [
    "courbe_demande_2 = sp.plot_implicit(\n",
    "    equation_demande_2, \n",
    "    (x, 0, 1), \n",
    "    (p, 0, 0.7),\n",
    "    show=False\n",
    ")\n",
    "courbe_demande_2[0].line_color = \"red\"\n",
    "equilibre_2_y = sp.plot_implicit(sp.Eq(p, pm2b), (x, 0, 1), (p, 0, pm2b), show=False)\n",
    "equilibre_2_x = sp.plot_implicit(sp.Eq(x, nm2), (x, 0, nm2), (p, 0, 0.7), show=False)\n",
    "equilibre_2_y[0].line_color = \"red\"\n",
    "equilibre_2_x[0].line_color = \"red\"\n",
    "courbe_demande_2.extend([equilibre_2_y[0], equilibre_2_x[0]])\n",
    "\n",
    "courbe_demande_3 =  sp.plot_implicit(\n",
    "    equation_demande_3, \n",
    "    (x, 0, 1), \n",
    "    (p, 0, 0.7),\n",
    "    show=False\n",
    ")\n",
    "courbe_demande_2.append(courbe_demande_3[0])\n",
    "\n",
    "equilibre_3_y = sp.plot_implicit(sp.Eq(p, pm3), (x, 0, 1), (p, 0, pm3), show=False)\n",
    "equilibre_3_x = sp.plot_implicit(sp.Eq(x, nm3), (x, 0, nm3), (p, 0, 0.7), show=False)\n",
    "courbe_demande_2.extend([equilibre_3_y[0], equilibre_3_x[0]])\n",
    "\n",
    "courbe_demande_2.show()"
   ]
  },
  {
   "cell_type": "markdown",
   "id": "classical-thickness",
   "metadata": {},
   "source": [
    "**REMARQUE** on note l'intérêt d'améliorer la nomenclature entre les parties!"
   ]
  },
  {
   "cell_type": "markdown",
   "id": "deadly-infection",
   "metadata": {},
   "source": [
    "# Question 5\n",
    "\n",
    "Suppose that there is a second group of consumers (of mass 1) who also have an opportunity costxthat is uniformly distributed on the unit interval.   The utility of consumerxin this second group is\n",
    "$$1=4+n^e_1(p_1)=2−p_2−x,$$\n",
    "where \n",
    "- $n^e_1(p_1)$ is the expected number of consumers in the first group buying theproduct \n",
    "- price $p_2$ is the price charged to the second group of consumers. \n",
    "\n",
    "Suppose that, similar to part 3, consumers of both groups first observe prices and then form beliefs. \n",
    "Thus, a consumer $x$ in the first group has net utility\n",
    "$$1=4+n^e_1(p_1)=2−p_1−x.$$\n",
    "Suppose that consumers from both groups hold self-fulfilling beliefs. \n",
    "Determine the monopoly solution (prices and quantities) under these consumer beliefs."
   ]
  },
  {
   "cell_type": "code",
   "execution_count": 97,
   "id": "changing-affiliation",
   "metadata": {},
   "outputs": [
    {
     "data": {
      "image/png": "[encoded data removed]",
      "text/latex": [
       "$\\displaystyle \\left( p_{1}, \\  p_{2}\\right)$"
      ],
      "text/plain": [
       "(p₁, p₂)"
      ]
     },
     "execution_count": 97,
     "metadata": {},
     "output_type": "execute_result"
    }
   ],
   "source": [
    "p1, p2 = sp.symbols(\"p_1 p_2\")\n",
    "p1, p2"
   ]
  },
  {
   "cell_type": "code",
   "execution_count": 115,
   "id": "capable-allah",
   "metadata": {},
   "outputs": [
    {
     "data": {
      "image/png": "[encoded data removed]",
      "text/latex": [
       "$\\displaystyle \\operatorname{n^e_{1}}{\\left(p_{1} \\right)}$"
      ],
      "text/plain": [
       "n_{1}__e(p₁)"
      ]
     },
     "execution_count": 115,
     "metadata": {},
     "output_type": "execute_result"
    }
   ],
   "source": [
    "ne1 = sp.Function(\"n^e_{1}\")(p1)\n",
    "ne1"
   ]
  },
  {
   "cell_type": "code",
   "execution_count": 116,
   "id": "serial-reconstruction",
   "metadata": {},
   "outputs": [
    {
     "data": {
      "image/png": "[encoded data removed]",
      "text/latex": [
       "$\\displaystyle - p_{1} - x + \\frac{\\operatorname{n^e_{1}}{\\left(p_{1} \\right)}}{2} + \\frac{1}{4}$"
      ],
      "text/plain": [
       "          n_{1}__e(p₁)   1\n",
       "-p₁ - x + ──────────── + ─\n",
       "               2         4"
      ]
     },
     "metadata": {},
     "output_type": "display_data"
    },
    {
     "data": {
      "image/png": "[encoded data removed]",
      "text/latex": [
       "$\\displaystyle - p_{2} - x + \\frac{\\operatorname{n^e_{1}}{\\left(p_{1} \\right)}}{2} + \\frac{1}{4}$"
      ],
      "text/plain": [
       "          n_{1}__e(p₁)   1\n",
       "-p₂ - x + ──────────── + ─\n",
       "               2         4"
      ]
     },
     "metadata": {},
     "output_type": "display_data"
    }
   ],
   "source": [
    "utilite1 = sp.S(1) / 4 + ne1 / 2 - p1 - x\n",
    "display(utilite1)\n",
    "utilite2 = sp.S(1) / 4 + ne1 / 2 - p2 - x\n",
    "display(utilite2)"
   ]
  },
  {
   "cell_type": "code",
   "execution_count": 117,
   "id": "loaded-south",
   "metadata": {},
   "outputs": [
    {
     "data": {
      "image/png": "[encoded data removed]",
      "text/latex": [
       "$\\displaystyle - p_{1} + \\frac{\\operatorname{n^e_{1}}{\\left(p_{1} \\right)}}{2} + \\frac{1}{4}$"
      ],
      "text/plain": [
       "      n_{1}__e(p₁)   1\n",
       "-p₁ + ──────────── + ─\n",
       "           2         4"
      ]
     },
     "metadata": {},
     "output_type": "display_data"
    },
    {
     "data": {
      "image/png": "[encoded data removed]",
      "text/latex": [
       "$\\displaystyle - p_{2} + \\frac{\\operatorname{n^e_{1}}{\\left(p_{1} \\right)}}{2} + \\frac{1}{4}$"
      ],
      "text/plain": [
       "      n_{1}__e(p₁)   1\n",
       "-p₂ + ──────────── + ─\n",
       "           2         4"
      ]
     },
     "metadata": {},
     "output_type": "display_data"
    },
    {
     "data": {
      "image/png": "[encoded data removed]",
      "text/latex": [
       "$\\displaystyle p_{1} \\left(- p_{1} + \\frac{\\operatorname{n^e_{1}}{\\left(p_{1} \\right)}}{2} + \\frac{1}{4}\\right) + p_{2} \\left(- p_{2} + \\frac{\\operatorname{n^e_{1}}{\\left(p_{1} \\right)}}{2} + \\frac{1}{4}\\right)$"
      ],
      "text/plain": [
       "   ⎛      n_{1}__e(p₁)   1⎞      ⎛      n_{1}__e(p₁)   1⎞\n",
       "p₁⋅⎜-p₁ + ──────────── + ─⎟ + p₂⋅⎜-p₂ + ──────────── + ─⎟\n",
       "   ⎝           2         4⎠      ⎝           2         4⎠"
      ]
     },
     "metadata": {},
     "output_type": "display_data"
    },
    {
     "name": "stdout",
     "output_type": "stream",
     "text": [
      "p_{1} \\left(- p_{1} + \\frac{\\operatorname{n^e_{1}}{\\left(p_{1} \\right)}}{2} + \\frac{1}{4}\\right) + p_{2} \\left(- p_{2} + \\frac{\\operatorname{n^e_{1}}{\\left(p_{1} \\right)}}{2} + \\frac{1}{4}\\right)\n"
     ]
    }
   ],
   "source": [
    "demande1, = sp.solve(utilite1, x)\n",
    "demande2, = sp.solve(utilite2, x)\n",
    "\n",
    "profit = p1 * demande1 + p2 * demande2\n",
    "display(demande1, demande2, profit)\n",
    "print(sp.latex(profit))"
   ]
  },
  {
   "cell_type": "markdown",
   "id": "appointed-intake",
   "metadata": {},
   "source": [
    "On cherche maintenant à effectuer\n",
    "$$\n",
    "\\underset{p_1\\geq 0, p_2\\geq 0}{\\sup} p_{1} \\left(\\frac{n^e_{1}(p_1)}{2} - p_{1} + \\frac{1}{4}\\right) + p_{2} \\left(\\frac{n^e_{1}(p_1)}{2} - p_{2} + \\frac{1}{4}\\right)\n",
    "$$"
   ]
  },
  {
   "cell_type": "code",
   "execution_count": 118,
   "id": "promotional-abraham",
   "metadata": {},
   "outputs": [
    {
     "data": {
      "text/latex": [
       "$\\displaystyle \\left[\\begin{matrix}\\frac{p_{1} \\frac{d^{2}}{d p_{1}^{2}} \\operatorname{n^e_{1}}{\\left(p_{1} \\right)}}{2} + \\frac{p_{2} \\frac{d^{2}}{d p_{1}^{2}} \\operatorname{n^e_{1}}{\\left(p_{1} \\right)}}{2} + \\frac{d}{d p_{1}} \\operatorname{n^e_{1}}{\\left(p_{1} \\right)} - 2 & \\frac{\\frac{d}{d p_{1}} \\operatorname{n^e_{1}}{\\left(p_{1} \\right)}}{2}\\\\\\frac{\\frac{d}{d p_{1}} \\operatorname{n^e_{1}}{\\left(p_{1} \\right)}}{2} & -2\\end{matrix}\\right]$"
      ],
      "text/plain": [
       "⎡     2                       2                                               \n",
       "⎢    d                       d                                                \n",
       "⎢p₁⋅────(n_{1}__e(p₁))   p₂⋅────(n_{1}__e(p₁))                           d    \n",
       "⎢      2                       2                                        ───(n_\n",
       "⎢   dp₁                     dp₁                   d                     dp₁   \n",
       "⎢───────────────────── + ───────────────────── + ───(n_{1}__e(p₁)) - 2  ──────\n",
       "⎢          2                       2             dp₁                          \n",
       "⎢                                                                             \n",
       "⎢                           d                                                 \n",
       "⎢                          ───(n_{1}__e(p₁))                                  \n",
       "⎢                          dp₁                                                \n",
       "⎢                          ─────────────────                                  \n",
       "⎣                                  2                                          \n",
       "\n",
       "           ⎤\n",
       "           ⎥\n",
       "           ⎥\n",
       "{1}__e(p₁))⎥\n",
       "           ⎥\n",
       "───────────⎥\n",
       "  2        ⎥\n",
       "           ⎥\n",
       "           ⎥\n",
       "           ⎥\n",
       "           ⎥\n",
       " -2        ⎥\n",
       "           ⎦"
      ]
     },
     "metadata": {},
     "output_type": "display_data"
    }
   ],
   "source": [
    "H = sp.hessian(profit, (p1, p2))\n",
    "display(H)"
   ]
  },
  {
   "cell_type": "markdown",
   "id": "micro-religious",
   "metadata": {},
   "source": [
    "**ATTENTION** Suite à reprendre car $n^e_1$ dépendait de $n_"
   ]
  },
  {
   "cell_type": "code",
   "execution_count": 107,
   "id": "central-confirmation",
   "metadata": {},
   "outputs": [
    {
     "data": {
      "image/png": "[encoded data removed]",
      "text/latex": [
       "$\\displaystyle \\left[ \\frac{n^e_{1}(p_1)}{2} - 2 p_{1} + \\frac{1}{4}, \\  \\frac{n^e_{1}(p_1)}{2} - 2 p_{2} + \\frac{1}{4}\\right]$"
      ],
      "text/plain": [
       "⎡n_{1}(p_1)__e          1  n_{1}(p_1)__e          1⎤\n",
       "⎢───────────── - 2⋅p₁ + ─, ───────────── - 2⋅p₂ + ─⎥\n",
       "⎣      2                4        2                4⎦"
      ]
     },
     "metadata": {},
     "output_type": "display_data"
    }
   ],
   "source": [
    "gradient = [sp.diff(profit, p1), sp.diff(profit, p2)]\n",
    "display(gradient)"
   ]
  },
  {
   "cell_type": "code",
   "execution_count": 110,
   "id": "oriental-arrangement",
   "metadata": {},
   "outputs": [
    {
     "data": {
      "image/png": "[encoded data removed]",
      "text/latex": [
       "$\\displaystyle \\left\\{ p_{1} : \\frac{n^e_{1}(p_1)}{4} + \\frac{1}{8}, \\  p_{2} : \\frac{n^e_{1}(p_1)}{4} + \\frac{1}{8}\\right\\}$"
      ],
      "text/plain": [
       "⎧    n_{1}(p_1)__e   1      n_{1}(p_1)__e   1⎫\n",
       "⎨p₁: ───────────── + ─, p₂: ───────────── + ─⎬\n",
       "⎩          4         8            4         8⎭"
      ]
     },
     "metadata": {},
     "output_type": "display_data"
    }
   ],
   "source": [
    "sol, = sp.solve(gradient, (p1, p2), dict=True)\n",
    "display(sol)"
   ]
  },
  {
   "cell_type": "markdown",
   "id": "starting-glasgow",
   "metadata": {},
   "source": [
    "On voit que le point critique est dans l'intérieur du domaine de maximisation donc grâce à la stricte concavité il s'agit de l'unique maximum global.\n",
    "\n",
    "Comme les consommateurs on des croyances auto-réalisatrices on en déduit"
   ]
  },
  {
   "cell_type": "code",
   "execution_count": 111,
   "id": "detected-deposit",
   "metadata": {},
   "outputs": [
    {
     "data": {
      "image/png": "[encoded data removed]",
      "text/latex": [
       "$\\displaystyle \\left[ \\frac{1}{2} - 2 p_{1}\\right]$"
      ],
      "text/plain": [
       "[1/2 - 2⋅p₁]"
      ]
     },
     "execution_count": 111,
     "metadata": {},
     "output_type": "execute_result"
    }
   ],
   "source": [
    "nm31, = sp.solve(sp.Eq(utilite1.subs(x, ne1), 0), ne1)\n",
    "display(nm31)\n",
    "nm32, = sp.solve(sp.Eq(utilite2.subs(x, ne1)))"
   ]
  },
  {
   "cell_type": "markdown",
   "id": "direct-attack",
   "metadata": {},
   "source": []
  },
  {
   "cell_type": "markdown",
   "id": "played-department",
   "metadata": {},
   "source": [
    "# Question 6\n",
    "\n",
    "Within the setting of part 5, suppose that the monopolist is forced to charge the same price to both groups of consumers; i.e.\n",
    "$$p=p_1=p_2.$$\n",
    "Determine the monopoly solution\n"
   ]
  },
  {
   "cell_type": "markdown",
   "id": "occupied-copper",
   "metadata": {},
   "source": [
    "# Question 7\n",
    "\n",
    "Explain your findings in parts 5 and 6. \n",
    "Does the monopolist have an incentive to charge prices $p_1 \\neq p_2$?\n",
    "\n",
    "Why or why not is this the case?"
   ]
  }
 ],
 "metadata": {
  "kernelspec": {
   "display_name": "Python 3",
   "language": "python",
   "name": "python3"
  },
  "language_info": {
   "codemirror_mode": {
    "name": "ipython",
    "version": 3
   },
   "file_extension": ".py",
   "mimetype": "text/x-python",
   "name": "python",
   "nbconvert_exporter": "python",
   "pygments_lexer": "ipython3",
   "version": "3.8.3"
  }
 },
 "nbformat": 4,
 "nbformat_minor": 5
}
