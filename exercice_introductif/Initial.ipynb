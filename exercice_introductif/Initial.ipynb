{
 "cells": [
  {
   "cell_type": "code",
   "execution_count": 2,
   "id": "considered-blame",
   "metadata": {},
   "outputs": [],
   "source": [
    "import sympy as sp\n",
    "import matplotlib.pyplot as plt\n",
    "import numpy as np"
   ]
  },
  {
   "cell_type": "code",
   "execution_count": 3,
   "id": "found-desktop",
   "metadata": {},
   "outputs": [],
   "source": [
    "sp.init_printing()\n",
    "\n",
    "%matplotlib inline\n",
    "plt.rcParams[\"figure.figsize\"] = (12, 8)"
   ]
  },
  {
   "cell_type": "markdown",
   "id": "moral-appraisal",
   "metadata": {},
   "source": [
    "# Enoncé\n",
    "\n",
    "Consider a monopoly market in which consumers’ opportunity cost $x$ is uniformly distributed on the unit interval; i.e.,$x\\in [0, 1]$. \n",
    "A consumer’s utility of consuming one unit of the good offered by the monopolist relative to the outside option is $\\frac{1}{4} + \\frac{n^e}{2} -p - x$, where \n",
    "- $p$ is the price set by the monopo list \n",
    "- $n^e$ is the expected number of fellow buyers of the good. \n",
    "There is mass one of consumers. \n",
    "The monopolist’s marginal costs are zero."
   ]
  },
  {
   "cell_type": "code",
   "execution_count": 4,
   "id": "large-recipient",
   "metadata": {},
   "outputs": [
    {
     "data": {
      "image/png": "[encoded data removed]",
      "text/latex": [
       "$\\displaystyle \\left( n^{e}, \\  p, \\  x\\right)$"
      ],
      "text/plain": [
       "(n__e, p, x)"
      ]
     },
     "execution_count": 4,
     "metadata": {},
     "output_type": "execute_result"
    }
   ],
   "source": [
    "ne, p, x = sp.symbols(\"n^e p x\")\n",
    "ne, p, x"
   ]
  },
  {
   "cell_type": "code",
   "execution_count": 5,
   "id": "mighty-services",
   "metadata": {},
   "outputs": [
    {
     "data": {
      "image/png": "[encoded data removed]",
      "text/latex": [
       "$\\displaystyle \\frac{n^{e}}{2} - p - x + \\frac{1}{4}$"
      ],
      "text/plain": [
       "n__e           1\n",
       "──── - p - x + ─\n",
       " 2             4"
      ]
     },
     "execution_count": 5,
     "metadata": {},
     "output_type": "execute_result"
    }
   ],
   "source": [
    "utilite_consommateur = sp.S(1) / 4 + ne / 2 - p - x\n",
    "utilite_consommateur"
   ]
  },
  {
   "cell_type": "markdown",
   "id": "sixth-innocent",
   "metadata": {},
   "source": [
    "# Question 1\n",
    "\n",
    "Suppose that consumers believe that $n^e = 1$.\n",
    "Determine the monopoly solution under these consumer believes.\n",
    "\n",
    "**TODO** Pourquoi résoud-on $utilite_{consommateur} = 0$?"
   ]
  },
  {
   "cell_type": "code",
   "execution_count": 6,
   "id": "willing-portland",
   "metadata": {},
   "outputs": [
    {
     "data": {
      "image/png": "[encoded data removed]",
      "text/latex": [
       "$\\displaystyle - p - x + \\frac{3}{4} = 0$"
      ],
      "text/plain": [
       "-p - x + 3/4 = 0"
      ]
     },
     "execution_count": 6,
     "metadata": {},
     "output_type": "execute_result"
    }
   ],
   "source": [
    "equation = sp.Eq(utilite_consommateur.subs(ne, 1), 0)\n",
    "equation"
   ]
  },
  {
   "cell_type": "code",
   "execution_count": 8,
   "id": "entertaining-saturn",
   "metadata": {},
   "outputs": [
    {
     "data": {
      "image/png": "[encoded data removed]",
      "text/latex": [
       "$\\displaystyle \\frac{3}{4} - p$"
      ],
      "text/plain": [
       "3/4 - p"
      ]
     },
     "execution_count": 8,
     "metadata": {},
     "output_type": "execute_result"
    }
   ],
   "source": [
    "x1, = sp.solve(equation, x)\n",
    "x1"
   ]
  },
  {
   "cell_type": "code",
   "execution_count": 9,
   "id": "instructional-johnson",
   "metadata": {},
   "outputs": [
    {
     "data": {
      "image/png": "[encoded data removed]",
      "text/latex": [
       "$\\displaystyle p \\left(\\frac{3}{4} - p\\right)$"
      ],
      "text/plain": [
       "p⋅(3/4 - p)"
      ]
     },
     "execution_count": 9,
     "metadata": {},
     "output_type": "execute_result"
    }
   ],
   "source": [
    "profit = p * x1\n",
    "profit"
   ]
  },
  {
   "cell_type": "markdown",
   "id": "fallen-humanity",
   "metadata": {},
   "source": [
    "On cherche alors\n",
    "$$ \\underset{p\\in \\mathbb{R}^+}{\\sup} \\mathrm{profit}$$"
   ]
  },
  {
   "cell_type": "markdown",
   "id": "residential-admission",
   "metadata": {},
   "source": [
    "Comme on a "
   ]
  },
  {
   "cell_type": "code",
   "execution_count": 11,
   "id": "front-invitation",
   "metadata": {},
   "outputs": [
    {
     "data": {
      "image/png": "[encoded data removed]",
      "text/latex": [
       "$\\displaystyle -\\infty$"
      ],
      "text/plain": [
       "-∞"
      ]
     },
     "execution_count": 11,
     "metadata": {},
     "output_type": "execute_result"
    }
   ],
   "source": [
    "sp.limit(profit, p, +sp.oo)"
   ]
  },
  {
   "cell_type": "markdown",
   "id": "protective-black",
   "metadata": {},
   "source": [
    "On en déduit que le $\\sup$ est un $\\max$."
   ]
  },
  {
   "cell_type": "markdown",
   "id": "baking-northwest",
   "metadata": {},
   "source": [
    "Si il est atteint à l'intérieur on a"
   ]
  },
  {
   "cell_type": "code",
   "execution_count": 23,
   "id": "meaningful-chancellor",
   "metadata": {},
   "outputs": [
    {
     "data": {
      "image/png": "[encoded data removed]",
      "text/latex": [
       "$\\displaystyle \\frac{3}{8}$"
      ],
      "text/plain": [
       "3/8"
      ]
     },
     "execution_count": 23,
     "metadata": {},
     "output_type": "execute_result"
    }
   ],
   "source": [
    "pm, = sp.solve(sp.diff(profit, p), p)\n",
    "pm"
   ]
  },
  {
   "cell_type": "code",
   "execution_count": 27,
   "id": "assured-pencil",
   "metadata": {},
   "outputs": [
    {
     "data": {
      "image/png": "[encoded data removed]",
      "text/latex": [
       "$\\displaystyle \\frac{3}{8}$"
      ],
      "text/plain": [
       "3/8"
      ]
     },
     "execution_count": 27,
     "metadata": {},
     "output_type": "execute_result"
    }
   ],
   "source": [
    "nm, = sp.solve(utilite_consommateur.subs({ne: 1, p: pm}), x)\n",
    "nm"
   ]
  },
  {
   "cell_type": "code",
   "execution_count": 28,
   "id": "lucky-reservoir",
   "metadata": {},
   "outputs": [
    {
     "data": {
      "image/png": "[encoded data removed]",
      "text/latex": [
       "$\\displaystyle \\frac{9}{64}$"
      ],
      "text/plain": [
       "9/64"
      ]
     },
     "execution_count": 28,
     "metadata": {},
     "output_type": "execute_result"
    }
   ],
   "source": [
    "profitm = profit.subs(p, pm)\n",
    "profitm"
   ]
  },
  {
   "cell_type": "code",
   "execution_count": 29,
   "id": "unsigned-petroleum",
   "metadata": {},
   "outputs": [
    {
     "data": {
      "image/png": "[encoded data removed]",
      "text/latex": [
       "$\\displaystyle -2$"
      ],
      "text/plain": [
       "-2"
      ]
     },
     "execution_count": 29,
     "metadata": {},
     "output_type": "execute_result"
    }
   ],
   "source": [
    "sp.diff(profit, p, p)"
   ]
  },
  {
   "cell_type": "markdown",
   "id": "proud-messaging",
   "metadata": {},
   "source": [
    "Le profit est une fonction concave, on en déduit donc qu'un point critique est un maximum global."
   ]
  },
  {
   "cell_type": "markdown",
   "id": "understood-howard",
   "metadata": {},
   "source": [
    "**REMARQUE** on aurait pu comparer la valeur en ce point avec la valeur au bord et prendre la plus grande des deux."
   ]
  },
  {
   "cell_type": "code",
   "execution_count": 30,
   "id": "worth-coalition",
   "metadata": {},
   "outputs": [
    {
     "data": {
      "image/png": "[encoded data removed]",
      "text/latex": [
       "$\\displaystyle 0$"
      ],
      "text/plain": [
       "0"
      ]
     },
     "execution_count": 30,
     "metadata": {},
     "output_type": "execute_result"
    }
   ],
   "source": [
    "profit.subs(p, 0)"
   ]
  },
  {
   "cell_type": "markdown",
   "id": "overhead-occasions",
   "metadata": {},
   "source": [
    "# Question 2\n",
    "\n",
    "Suppose that consumers form beliefs $n^e$ before observing price $p$ and that these beliefs are confirmed in equilibrium; i.e. \n",
    "$$n^e=n^∗.$$ \n",
    "Determine the monopoly solution under these consumer beliefs."
   ]
  },
  {
   "cell_type": "markdown",
   "id": "exterior-census",
   "metadata": {},
   "source": [
    "# Question 3\n",
    "\n",
    "Suppose that consumers first observe price and then form beliefs\n",
    "$$n^e(p)$$ \n",
    "and that beliefs are self-fulfilling; i.e., they are confirmed in the monopoly solution. \n",
    "Determine the monopoly solution under these consumer beliefs."
   ]
  },
  {
   "cell_type": "markdown",
   "id": "limited-infrastructure",
   "metadata": {},
   "source": [
    "# Question 4\n",
    "\n",
    "Compare your findings in parts 2 and 3. Explain what is going on."
   ]
  },
  {
   "cell_type": "markdown",
   "id": "sustainable-federal",
   "metadata": {},
   "source": [
    "# Question 5\n",
    "\n",
    "Suppose that there is a second group of consumers (of mass 1) who also have an opportunity costxthat is uniformly distributed on the unit interval.   The utility of consumerxin this second group is\n",
    "$$1=4+n^e_1(p_1)=2−p_2−x,$$\n",
    "where \n",
    "- $n^e_1(p_1)$ is the expected number of consumers in the first group buying theproduct \n",
    "- price $p_2$ is the price charged to the second group of consumers. \n",
    "\n",
    "Suppose that, similar to part 3, consumers of both groups first observe prices and then form beliefs. \n",
    "Thus, a consumer $x$ in the first group has net utility\n",
    "$$1=4+n^e_1(p_1)=2−p_1−x.$$\n",
    "Suppose that consumers from both groups hold self-fulfilling beliefs. \n",
    "Determine the monopoly solution (prices and quantities) under these consumer beliefs."
   ]
  },
  {
   "cell_type": "markdown",
   "id": "marine-repair",
   "metadata": {},
   "source": [
    "# Question 6\n",
    "\n",
    "Within the setting of part 5, suppose that the monopolist is forced to charge the same price to both groups of consumers; i.e.\n",
    "$$p=p_1=p_2.$$\n",
    "Determine the monopoly solution\n"
   ]
  },
  {
   "cell_type": "markdown",
   "id": "alternate-trance",
   "metadata": {},
   "source": [
    "# Question 7\n",
    "\n",
    "Explain your findings in parts 5 and 6. \n",
    "Does the monopolist have an incentive to charge prices $p_1 \\neq p_2$?\n",
    "\n",
    "Why or why not is this the case?"
   ]
  }
 ],
 "metadata": {
  "kernelspec": {
   "display_name": "Python 3",
   "language": "python",
   "name": "python3"
  },
  "language_info": {
   "codemirror_mode": {
    "name": "ipython",
    "version": 3
   },
   "file_extension": ".py",
   "mimetype": "text/x-python",
   "name": "python",
   "nbconvert_exporter": "python",
   "pygments_lexer": "ipython3",
   "version": "3.8.3"
  }
 },
 "nbformat": 4,
 "nbformat_minor": 5
}
