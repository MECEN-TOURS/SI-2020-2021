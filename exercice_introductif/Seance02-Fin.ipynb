{
 "cells": [
  {
   "cell_type": "code",
   "execution_count": 1,
   "id": "acting-reserve",
   "metadata": {},
   "outputs": [],
   "source": [
    "import sympy as sp\n",
    "import matplotlib.pyplot as plt\n",
    "import numpy as np"
   ]
  },
  {
   "cell_type": "code",
   "execution_count": 2,
   "id": "square-nelson",
   "metadata": {},
   "outputs": [],
   "source": [
    "from IPython.display import display, Math"
   ]
  },
  {
   "cell_type": "code",
   "execution_count": 3,
   "id": "surrounded-suite",
   "metadata": {},
   "outputs": [],
   "source": [
    "sp.init_printing()\n",
    "\n",
    "%matplotlib inline\n",
    "plt.rcParams[\"figure.figsize\"] = (12, 8)"
   ]
  },
  {
   "cell_type": "markdown",
   "id": "biblical-screw",
   "metadata": {},
   "source": [
    "# Enoncé\n",
    "\n",
    "Consider a monopoly market in which consumers’ opportunity cost $x$ is uniformly distributed on the unit interval; i.e.,$x\\in [0, 1]$. \n",
    "A consumer’s utility of consuming one unit of the good offered by the monopolist relative to the outside option is $\\frac{1}{4} + \\frac{n^e}{2} -p - x$, where \n",
    "- $p$ is the price set by the monopolist \n",
    "- $n^e$ is the expected number of fellow buyers of the good. \n",
    "There is mass one of consumers. \n",
    "The monopolist’s marginal costs are zero."
   ]
  },
  {
   "cell_type": "markdown",
   "id": "worse-homework",
   "metadata": {},
   "source": [
    "## Introduction des symboles et expressions correspondantes"
   ]
  },
  {
   "cell_type": "code",
   "execution_count": 4,
   "id": "copyrighted-volunteer",
   "metadata": {},
   "outputs": [
    {
     "data": {
      "image/png": "[encoded data removed]",
      "text/latex": [
       "$\\displaystyle \\left( n^{e}, \\  p, \\  x\\right)$"
      ],
      "text/plain": [
       "(n__e, p, x)"
      ]
     },
     "execution_count": 4,
     "metadata": {},
     "output_type": "execute_result"
    }
   ],
   "source": [
    "ne, p, x = sp.symbols(\"n^e p x\")\n",
    "ne, p, x"
   ]
  },
  {
   "cell_type": "code",
   "execution_count": 5,
   "id": "transparent-rogers",
   "metadata": {},
   "outputs": [
    {
     "data": {
      "text/latex": [
       "$\\displaystyle U=\\frac{n^{e}}{2} - p - x + \\frac{1}{4}$"
      ],
      "text/plain": [
       "<IPython.core.display.Math object>"
      ]
     },
     "metadata": {},
     "output_type": "display_data"
    }
   ],
   "source": [
    "utilite_consommateur = sp.S(1) / 4 + ne / 2 - p - x\n",
    "display(Math(f\"U={sp.latex(utilite_consommateur)}\"))"
   ]
  },
  {
   "cell_type": "markdown",
   "id": "superb-representative",
   "metadata": {},
   "source": [
    "# Question 1\n",
    "\n",
    "Suppose that consumers believe that $n^e = 1$.\n",
    "Determine the monopoly solution under these consumer believes."
   ]
  },
  {
   "cell_type": "markdown",
   "id": "foreign-coupon",
   "metadata": {},
   "source": [
    "## Récupération de la demande\n",
    "\n",
    "\n",
    "**A FAIRE** Pourquoi résout-on $\\text{utilite_consommateur} = 0$?"
   ]
  },
  {
   "cell_type": "code",
   "execution_count": 6,
   "id": "noticed-bargain",
   "metadata": {},
   "outputs": [
    {
     "data": {
      "image/png": "[encoded data removed]",
      "text/latex": [
       "$\\displaystyle - p - x + \\frac{3}{4} = 0$"
      ],
      "text/plain": [
       "-p - x + 3/4 = 0"
      ]
     },
     "execution_count": 6,
     "metadata": {},
     "output_type": "execute_result"
    }
   ],
   "source": [
    "equation = sp.Eq(utilite_consommateur.subs(ne, 1), 0)\n",
    "equation"
   ]
  },
  {
   "cell_type": "code",
   "execution_count": 7,
   "id": "bored-observer",
   "metadata": {},
   "outputs": [
    {
     "data": {
      "image/png": "[encoded data removed]",
      "text/latex": [
       "$\\displaystyle \\frac{3}{4} - p$"
      ],
      "text/plain": [
       "3/4 - p"
      ]
     },
     "execution_count": 7,
     "metadata": {},
     "output_type": "execute_result"
    }
   ],
   "source": [
    "x1, = sp.solve(equation, x)\n",
    "x1"
   ]
  },
  {
   "cell_type": "markdown",
   "id": "excited-pasta",
   "metadata": {},
   "source": [
    "## Expression du programme"
   ]
  },
  {
   "cell_type": "code",
   "execution_count": 8,
   "id": "removable-trunk",
   "metadata": {},
   "outputs": [
    {
     "data": {
      "image/png": "[encoded data removed]",
      "text/latex": [
       "$\\displaystyle p \\left(\\frac{3}{4} - p\\right)$"
      ],
      "text/plain": [
       "p⋅(3/4 - p)"
      ]
     },
     "execution_count": 8,
     "metadata": {},
     "output_type": "execute_result"
    }
   ],
   "source": [
    "profit = p * x1\n",
    "profit"
   ]
  },
  {
   "cell_type": "markdown",
   "id": "external-capital",
   "metadata": {},
   "source": [
    "On cherche alors\n",
    "$$ \\underset{p\\in \\mathbb{R}^+}{\\sup} \\mathrm{profit}$$"
   ]
  },
  {
   "cell_type": "markdown",
   "id": "silent-shelf",
   "metadata": {},
   "source": [
    "## Existence\n",
    "\n",
    "Comme on a "
   ]
  },
  {
   "cell_type": "code",
   "execution_count": 9,
   "id": "facial-network",
   "metadata": {},
   "outputs": [
    {
     "data": {
      "image/png": "[encoded data removed]",
      "text/latex": [
       "$\\displaystyle -\\infty$"
      ],
      "text/plain": [
       "-∞"
      ]
     },
     "execution_count": 9,
     "metadata": {},
     "output_type": "execute_result"
    }
   ],
   "source": [
    "sp.limit(profit, p, +sp.oo)"
   ]
  },
  {
   "cell_type": "markdown",
   "id": "cutting-sculpture",
   "metadata": {},
   "source": [
    "On en déduit que le $\\sup$ est un $\\max$."
   ]
  },
  {
   "cell_type": "markdown",
   "id": "available-frederick",
   "metadata": {},
   "source": [
    "## Calcul des points critiques\n",
    "\n",
    "Si il est atteint à l'intérieur on a"
   ]
  },
  {
   "cell_type": "code",
   "execution_count": 10,
   "id": "stylish-wyoming",
   "metadata": {},
   "outputs": [
    {
     "data": {
      "image/png": "[encoded data removed]",
      "text/latex": [
       "$\\displaystyle \\frac{3}{8}$"
      ],
      "text/plain": [
       "3/8"
      ]
     },
     "execution_count": 10,
     "metadata": {},
     "output_type": "execute_result"
    }
   ],
   "source": [
    "pm, = sp.solve(sp.diff(profit, p), p)\n",
    "pm"
   ]
  },
  {
   "cell_type": "code",
   "execution_count": 11,
   "id": "french-class",
   "metadata": {},
   "outputs": [
    {
     "data": {
      "image/png": "[encoded data removed]",
      "text/latex": [
       "$\\displaystyle \\frac{3}{8}$"
      ],
      "text/plain": [
       "3/8"
      ]
     },
     "execution_count": 11,
     "metadata": {},
     "output_type": "execute_result"
    }
   ],
   "source": [
    "nm, = sp.solve(utilite_consommateur.subs({ne: 1, p: pm}), x)\n",
    "nm"
   ]
  },
  {
   "cell_type": "code",
   "execution_count": 12,
   "id": "comparable-input",
   "metadata": {},
   "outputs": [
    {
     "data": {
      "image/png": "[encoded data removed]",
      "text/latex": [
       "$\\displaystyle \\frac{9}{64}$"
      ],
      "text/plain": [
       "9/64"
      ]
     },
     "execution_count": 12,
     "metadata": {},
     "output_type": "execute_result"
    }
   ],
   "source": [
    "profitm = profit.subs(p, pm)\n",
    "profitm"
   ]
  },
  {
   "cell_type": "markdown",
   "id": "opposed-great",
   "metadata": {},
   "source": [
    "## Gestion du bord\n",
    "\n",
    "Le profit est une fonction concave, on en déduit donc qu'un point critique est un maximum global."
   ]
  },
  {
   "cell_type": "code",
   "execution_count": 13,
   "id": "romantic-status",
   "metadata": {},
   "outputs": [
    {
     "data": {
      "image/png": "[encoded data removed]",
      "text/latex": [
       "$\\displaystyle -2$"
      ],
      "text/plain": [
       "-2"
      ]
     },
     "execution_count": 13,
     "metadata": {},
     "output_type": "execute_result"
    }
   ],
   "source": [
    "sp.diff(profit, p, p)"
   ]
  },
  {
   "cell_type": "markdown",
   "id": "unexpected-greene",
   "metadata": {},
   "source": [
    "**REMARQUE** on aurait pu comparer la valeur en ce point avec la valeur au bord et prendre la plus grande des deux."
   ]
  },
  {
   "cell_type": "code",
   "execution_count": 37,
   "id": "hairy-humidity",
   "metadata": {},
   "outputs": [
    {
     "data": {
      "text/latex": [
       "$\\displaystyle \\text{True}$"
      ],
      "text/plain": [
       "True"
      ]
     },
     "execution_count": 37,
     "metadata": {},
     "output_type": "execute_result"
    }
   ],
   "source": [
    "sp.Lt(profit.subs(p, 0), profitm)"
   ]
  },
  {
   "cell_type": "markdown",
   "id": "graphic-sandwich",
   "metadata": {},
   "source": [
    "# Question 2\n",
    "\n",
    "Suppose that consumers form beliefs $n^e$ before observing price $p$ and that these beliefs are confirmed in equilibrium; i.e. \n",
    "$$n^e=n^∗.$$ \n",
    "Determine the monopoly solution under these consumer beliefs."
   ]
  },
  {
   "cell_type": "markdown",
   "id": "august-coverage",
   "metadata": {},
   "source": [
    "## Récupération de la demande"
   ]
  },
  {
   "cell_type": "code",
   "execution_count": 15,
   "id": "appreciated-thumb",
   "metadata": {},
   "outputs": [
    {
     "data": {
      "image/png": "[encoded data removed]",
      "text/latex": [
       "$\\displaystyle \\frac{n^{e}}{2} - p - x + \\frac{1}{4} = 0$"
      ],
      "text/plain": [
       "n__e           1    \n",
       "──── - p - x + ─ = 0\n",
       " 2             4    "
      ]
     },
     "execution_count": 15,
     "metadata": {},
     "output_type": "execute_result"
    }
   ],
   "source": [
    "equation2 = sp.Eq(utilite_consommateur, 0)\n",
    "equation2"
   ]
  },
  {
   "cell_type": "code",
   "execution_count": 16,
   "id": "virtual-cameroon",
   "metadata": {},
   "outputs": [
    {
     "data": {
      "image/png": "[encoded data removed]",
      "text/latex": [
       "$\\displaystyle \\frac{n^{e}}{2} - p + \\frac{1}{4}$"
      ],
      "text/plain": [
       "n__e       1\n",
       "──── - p + ─\n",
       " 2         4"
      ]
     },
     "execution_count": 16,
     "metadata": {},
     "output_type": "execute_result"
    }
   ],
   "source": [
    "x2, = sp.solve(equation2, x)\n",
    "x2"
   ]
  },
  {
   "cell_type": "markdown",
   "id": "anticipated-greene",
   "metadata": {},
   "source": [
    "## Expression du programme"
   ]
  },
  {
   "cell_type": "code",
   "execution_count": 17,
   "id": "anonymous-bahamas",
   "metadata": {},
   "outputs": [
    {
     "data": {
      "image/png": "[encoded data removed]",
      "text/latex": [
       "$\\displaystyle p \\left(\\frac{n^{e}}{2} - p + \\frac{1}{4}\\right)$"
      ],
      "text/plain": [
       "  ⎛n__e       1⎞\n",
       "p⋅⎜──── - p + ─⎟\n",
       "  ⎝ 2         4⎠"
      ]
     },
     "execution_count": 17,
     "metadata": {},
     "output_type": "execute_result"
    }
   ],
   "source": [
    "profit2 = p * x2\n",
    "profit2"
   ]
  },
  {
   "cell_type": "code",
   "execution_count": 18,
   "id": "nervous-sarah",
   "metadata": {},
   "outputs": [
    {
     "data": {
      "text/plain": [
       "'p \\\\left(\\\\frac{n^{e}}{2} - p + \\\\frac{1}{4}\\\\right)'"
      ]
     },
     "execution_count": 18,
     "metadata": {},
     "output_type": "execute_result"
    }
   ],
   "source": [
    "sp.latex(profit2)"
   ]
  },
  {
   "cell_type": "markdown",
   "id": "daily-abuse",
   "metadata": {},
   "source": [
    "On cherche donc à résoudre\n",
    "\n",
    "$$\n",
    "\\underset{p\\geq 0}{\\sup} p \\left(\\frac{n^{e}}{2} - p + \\frac{1}{4}\\right)\n",
    "$$\n"
   ]
  },
  {
   "cell_type": "markdown",
   "id": "challenging-hazard",
   "metadata": {},
   "source": [
    "## Existence\n",
    "\n",
    "Comme"
   ]
  },
  {
   "cell_type": "code",
   "execution_count": 19,
   "id": "appreciated-lender",
   "metadata": {},
   "outputs": [
    {
     "data": {
      "image/png": "[encoded data removed]",
      "text/latex": [
       "$\\displaystyle -\\infty$"
      ],
      "text/plain": [
       "-∞"
      ]
     },
     "execution_count": 19,
     "metadata": {},
     "output_type": "execute_result"
    }
   ],
   "source": [
    "sp.limit(profit2, p, + sp.oo)"
   ]
  },
  {
   "cell_type": "markdown",
   "id": "ideal-camcorder",
   "metadata": {},
   "source": [
    "La fonction est coercive, le $\\sup$ est atteint, et on a un $\\max$."
   ]
  },
  {
   "cell_type": "markdown",
   "id": "efficient-great",
   "metadata": {},
   "source": [
    "## Recherche des points critiques"
   ]
  },
  {
   "cell_type": "markdown",
   "id": "touched-retrieval",
   "metadata": {},
   "source": [
    "Si il est atteint en un point intérieur on a forcément un point critique:"
   ]
  },
  {
   "cell_type": "code",
   "execution_count": 20,
   "id": "attached-orchestra",
   "metadata": {},
   "outputs": [
    {
     "data": {
      "image/png": "[encoded data removed]",
      "text/latex": [
       "$\\displaystyle \\frac{n^{e}}{4} + \\frac{1}{8}$"
      ],
      "text/plain": [
       "n__e   1\n",
       "──── + ─\n",
       " 4     8"
      ]
     },
     "execution_count": 20,
     "metadata": {},
     "output_type": "execute_result"
    }
   ],
   "source": [
    "pm2, = sp.solve(sp.diff(profit2, p), p)\n",
    "pm2"
   ]
  },
  {
   "cell_type": "code",
   "execution_count": 21,
   "id": "auburn-efficiency",
   "metadata": {},
   "outputs": [
    {
     "data": {
      "image/png": "[encoded data removed]",
      "text/latex": [
       "$\\displaystyle \\frac{n^{e}}{4} + \\frac{1}{8}$"
      ],
      "text/plain": [
       "n__e   1\n",
       "──── + ─\n",
       " 4     8"
      ]
     },
     "execution_count": 21,
     "metadata": {},
     "output_type": "execute_result"
    }
   ],
   "source": [
    "ns, = sp.solve(utilite_consommateur.subs({p: pm2}), x)\n",
    "ns"
   ]
  },
  {
   "cell_type": "markdown",
   "id": "metallic-witness",
   "metadata": {},
   "source": [
    "## Gestion du bord\n",
    "\n",
    "Comme on a"
   ]
  },
  {
   "cell_type": "code",
   "execution_count": 22,
   "id": "architectural-support",
   "metadata": {},
   "outputs": [
    {
     "data": {
      "image/png": "[encoded data removed]",
      "text/latex": [
       "$\\displaystyle -2$"
      ],
      "text/plain": [
       "-2"
      ]
     },
     "execution_count": 22,
     "metadata": {},
     "output_type": "execute_result"
    }
   ],
   "source": [
    "sp.diff(profit2, p, p)"
   ]
  },
  {
   "cell_type": "markdown",
   "id": "sacred-appointment",
   "metadata": {},
   "source": [
    "Le profit est concave par rapport à $p$ et un point critique est forcément un maximum global."
   ]
  },
  {
   "cell_type": "markdown",
   "id": "foster-motel",
   "metadata": {},
   "source": [
    "## ??\n",
    "\n",
    "Comme par hypothèse $n^* = n^e$ on a "
   ]
  },
  {
   "cell_type": "code",
   "execution_count": 23,
   "id": "parallel-valuable",
   "metadata": {},
   "outputs": [
    {
     "data": {
      "image/png": "[encoded data removed]",
      "text/latex": [
       "$\\displaystyle \\frac{n^{e}}{4} + \\frac{1}{8} = n^{e}$"
      ],
      "text/plain": [
       "n__e   1       \n",
       "──── + ─ = n__e\n",
       " 4     8       "
      ]
     },
     "execution_count": 23,
     "metadata": {},
     "output_type": "execute_result"
    }
   ],
   "source": [
    "equation2b = sp.Eq(ns, ne)\n",
    "equation2b"
   ]
  },
  {
   "cell_type": "code",
   "execution_count": 24,
   "id": "recovered-crime",
   "metadata": {},
   "outputs": [
    {
     "data": {
      "image/png": "[encoded data removed]",
      "text/latex": [
       "$\\displaystyle \\frac{1}{6}$"
      ],
      "text/plain": [
       "1/6"
      ]
     },
     "execution_count": 24,
     "metadata": {},
     "output_type": "execute_result"
    }
   ],
   "source": [
    "ne2, = sp.solve(equation2b, ne)\n",
    "ne2"
   ]
  },
  {
   "cell_type": "code",
   "execution_count": 25,
   "id": "ancient-tampa",
   "metadata": {},
   "outputs": [
    {
     "data": {
      "image/png": "[encoded data removed]",
      "text/latex": [
       "$\\displaystyle p \\left(\\frac{1}{3} - p\\right)$"
      ],
      "text/plain": [
       "p⋅(1/3 - p)"
      ]
     },
     "execution_count": 25,
     "metadata": {},
     "output_type": "execute_result"
    }
   ],
   "source": [
    "profit2b = profit2.subs(ne, ne2)\n",
    "profit2b"
   ]
  },
  {
   "cell_type": "markdown",
   "id": "perceived-universe",
   "metadata": {},
   "source": [
    "On refait la démarche précédente"
   ]
  },
  {
   "cell_type": "code",
   "execution_count": 26,
   "id": "supposed-dress",
   "metadata": {},
   "outputs": [
    {
     "data": {
      "image/png": "[encoded data removed]",
      "text/latex": [
       "$\\displaystyle -\\infty$"
      ],
      "text/plain": [
       "-∞"
      ]
     },
     "execution_count": 26,
     "metadata": {},
     "output_type": "execute_result"
    }
   ],
   "source": [
    "sp.limit(profit2b, p, +sp.oo)"
   ]
  },
  {
   "cell_type": "code",
   "execution_count": 27,
   "id": "light-train",
   "metadata": {},
   "outputs": [
    {
     "data": {
      "image/png": "[encoded data removed]",
      "text/latex": [
       "$\\displaystyle \\frac{1}{6}$"
      ],
      "text/plain": [
       "1/6"
      ]
     },
     "execution_count": 27,
     "metadata": {},
     "output_type": "execute_result"
    }
   ],
   "source": [
    "pm2b, = sp.solve(sp.diff(profit2b, p), p)\n",
    "pm2b"
   ]
  },
  {
   "cell_type": "code",
   "execution_count": 28,
   "id": "exceptional-track",
   "metadata": {},
   "outputs": [
    {
     "data": {
      "image/png": "[encoded data removed]",
      "text/latex": [
       "$\\displaystyle \\frac{1}{6}$"
      ],
      "text/plain": [
       "1/6"
      ]
     },
     "metadata": {},
     "output_type": "display_data"
    }
   ],
   "source": [
    "nm2 = ne2\n",
    "display(nm2)"
   ]
  },
  {
   "cell_type": "code",
   "execution_count": 57,
   "id": "muslim-membrane",
   "metadata": {},
   "outputs": [
    {
     "data": {
      "image/png": "[encoded data removed]",
      "text/latex": [
       "$\\displaystyle \\frac{1}{36}$"
      ],
      "text/plain": [
       "1/36"
      ]
     },
     "execution_count": 57,
     "metadata": {},
     "output_type": "execute_result"
    }
   ],
   "source": [
    "pr2 = profit2b.subs(p, pm2b)\n",
    "pr2"
   ]
  },
  {
   "cell_type": "markdown",
   "id": "surface-submission",
   "metadata": {},
   "source": [
    "**ATTENTION** il faudrait argumenter que les points critiques sont bien strictement dans l'intérieur du domaine de maximisation.\n",
    "On peut au moment de la création de symboles rajouter de l'information à priori via des argument nommés de type `positive=True` et `real=True`."
   ]
  },
  {
   "cell_type": "markdown",
   "id": "extended-decade",
   "metadata": {},
   "source": [
    "# Question 3\n",
    "\n",
    "Suppose that consumers first observe price and then form beliefs\n",
    "$$n^e(p)$$ \n",
    "and that beliefs are self-fulfilling; i.e., they are confirmed in the monopoly solution. \n",
    "Determine the monopoly solution under these consumer beliefs."
   ]
  },
  {
   "cell_type": "code",
   "execution_count": 30,
   "id": "supreme-bradford",
   "metadata": {},
   "outputs": [
    {
     "data": {
      "image/png": "[encoded data removed]",
      "text/latex": [
       "$\\displaystyle \\frac{n^{e}}{2} - p + \\frac{1}{4}$"
      ],
      "text/plain": [
       "n__e       1\n",
       "──── - p + ─\n",
       " 2         4"
      ]
     },
     "execution_count": 30,
     "metadata": {},
     "output_type": "execute_result"
    }
   ],
   "source": [
    "x3, = sp.solve(utilite_consommateur, x)\n",
    "x3"
   ]
  },
  {
   "cell_type": "code",
   "execution_count": 31,
   "id": "specific-parade",
   "metadata": {},
   "outputs": [
    {
     "data": {
      "image/png": "[encoded data removed]",
      "text/latex": [
       "$\\displaystyle \\frac{n^{e}}{2} - p + \\frac{1}{4} = n^{e}$"
      ],
      "text/plain": [
       "n__e       1       \n",
       "──── - p + ─ = n__e\n",
       " 2         4       "
      ]
     },
     "metadata": {},
     "output_type": "display_data"
    },
    {
     "data": {
      "image/png": "[encoded data removed]",
      "text/latex": [
       "$\\displaystyle \\frac{1}{2} - 2 p$"
      ],
      "text/plain": [
       "1/2 - 2⋅p"
      ]
     },
     "metadata": {},
     "output_type": "display_data"
    }
   ],
   "source": [
    "equation3 = sp.Eq(x3, ne)\n",
    "display(equation3)\n",
    "n3, = sp.solve(equation3, ne)\n",
    "display(n3)"
   ]
  },
  {
   "cell_type": "code",
   "execution_count": 32,
   "id": "identical-blowing",
   "metadata": {},
   "outputs": [
    {
     "data": {
      "image/png": "[encoded data removed]",
      "text/latex": [
       "$\\displaystyle p \\left(\\frac{1}{2} - 2 p\\right)$"
      ],
      "text/plain": [
       "p⋅(1/2 - 2⋅p)"
      ]
     },
     "metadata": {},
     "output_type": "display_data"
    },
    {
     "name": "stdout",
     "output_type": "stream",
     "text": [
      "p \\left(\\frac{1}{2} - 2 p\\right)\n"
     ]
    }
   ],
   "source": [
    "profit3 = x3.subs({ne: n3}) * p\n",
    "display(profit3)\n",
    "print(sp.latex(profit3))\n"
   ]
  },
  {
   "cell_type": "markdown",
   "id": "earned-sellers",
   "metadata": {},
   "source": [
    "On cherche à résoudre\n",
    "$$\n",
    "\\underset{p\\geq 0}{\\sup} p \\left(\\frac{1}{2} - 2 p\\right)\n",
    "$$\n",
    "Comme"
   ]
  },
  {
   "cell_type": "code",
   "execution_count": 33,
   "id": "coral-serve",
   "metadata": {},
   "outputs": [
    {
     "data": {
      "image/png": "[encoded data removed]",
      "text/latex": [
       "$\\displaystyle -\\infty$"
      ],
      "text/plain": [
       "-∞"
      ]
     },
     "execution_count": 33,
     "metadata": {},
     "output_type": "execute_result"
    }
   ],
   "source": [
    "sp.limit(profit3, p, +sp.oo)"
   ]
  },
  {
   "cell_type": "markdown",
   "id": "broken-enzyme",
   "metadata": {},
   "source": [
    "Le $\\sup$ est en fait un $\\max$.\n",
    "\n",
    "S'il est atteint à l'intérieur c'est forcément un point critique."
   ]
  },
  {
   "cell_type": "code",
   "execution_count": 34,
   "id": "beginning-listening",
   "metadata": {},
   "outputs": [
    {
     "data": {
      "image/png": "[encoded data removed]",
      "text/latex": [
       "$\\displaystyle \\frac{1}{2} - 4 p = 0$"
      ],
      "text/plain": [
       "1/2 - 4⋅p = 0"
      ]
     },
     "metadata": {},
     "output_type": "display_data"
    },
    {
     "data": {
      "image/png": "[encoded data removed]",
      "text/latex": [
       "$\\displaystyle \\frac{1}{8}$"
      ],
      "text/plain": [
       "1/8"
      ]
     },
     "metadata": {},
     "output_type": "display_data"
    }
   ],
   "source": [
    "equation3b = sp.Eq(sp.diff(profit3, p), 0)\n",
    "display(equation3b)\n",
    "pm3, = sp.solve(equation3b, p)\n",
    "display(pm3)"
   ]
  },
  {
   "cell_type": "markdown",
   "id": "manual-peripheral",
   "metadata": {},
   "source": [
    "Comme on peut calculer "
   ]
  },
  {
   "cell_type": "code",
   "execution_count": 35,
   "id": "annoying-memorial",
   "metadata": {},
   "outputs": [
    {
     "data": {
      "image/png": "[encoded data removed]",
      "text/latex": [
       "$\\displaystyle -4$"
      ],
      "text/plain": [
       "-4"
      ]
     },
     "execution_count": 35,
     "metadata": {},
     "output_type": "execute_result"
    }
   ],
   "source": [
    "sp.diff(profit3, p, p)"
   ]
  },
  {
   "cell_type": "markdown",
   "id": "regulated-green",
   "metadata": {},
   "source": [
    "La fonction profit est concave dont un point critique est un maximum global.\n",
    "\n",
    "On récupère le profit et la demande correspondante par"
   ]
  },
  {
   "cell_type": "code",
   "execution_count": 59,
   "id": "atomic-drove",
   "metadata": {},
   "outputs": [
    {
     "data": {
      "image/png": "[encoded data removed]",
      "text/latex": [
       "$\\displaystyle \\frac{1}{32}$"
      ],
      "text/plain": [
       "1/32"
      ]
     },
     "metadata": {},
     "output_type": "display_data"
    },
    {
     "data": {
      "image/png": "[encoded data removed]",
      "text/latex": [
       "$\\displaystyle \\frac{1}{4}$"
      ],
      "text/plain": [
       "1/4"
      ]
     },
     "metadata": {},
     "output_type": "display_data"
    }
   ],
   "source": [
    "pr3 = profit3.subs(p, pm3)\n",
    "display(pr3)\n",
    "nm3 = x3.subs({p: pm3, ne: n3})\n",
    "display(nm3)"
   ]
  },
  {
   "cell_type": "markdown",
   "id": "prime-reception",
   "metadata": {},
   "source": [
    "**REMARQUE** pour améliorer la présentation on pourrait passer les phrases d'introduction avec du latex dans display avant les objets eux mêmes."
   ]
  },
  {
   "cell_type": "markdown",
   "id": "confidential-blank",
   "metadata": {},
   "source": [
    "# Question 4\n",
    "\n",
    "Compare your findings in parts 2 and 3. Explain what is going on."
   ]
  },
  {
   "cell_type": "code",
   "execution_count": 39,
   "id": "abstract-current",
   "metadata": {},
   "outputs": [
    {
     "data": {
      "image/png": "[encoded data removed]",
      "text/latex": [
       "$\\displaystyle - p - x + \\frac{1}{3} = 0$"
      ],
      "text/plain": [
       "-p - x + 1/3 = 0"
      ]
     },
     "metadata": {},
     "output_type": "display_data"
    }
   ],
   "source": [
    "equation_demande_2 = sp.Eq(utilite_consommateur.subs(ne, ne2), 0)\n",
    "display(equation_demande_2)"
   ]
  },
  {
   "cell_type": "code",
   "execution_count": 40,
   "id": "funky-variance",
   "metadata": {},
   "outputs": [
    {
     "data": {
      "image/png": "[encoded data removed]",
      "text/latex": [
       "$\\displaystyle \\frac{1}{2} - 2 p = x$"
      ],
      "text/plain": [
       "1/2 - 2⋅p = x"
      ]
     },
     "metadata": {},
     "output_type": "display_data"
    }
   ],
   "source": [
    "equation_demande_3 = sp.Eq(n3, x)\n",
    "display(equation_demande_3)"
   ]
  },
  {
   "cell_type": "code",
   "execution_count": 41,
   "id": "surprised-gardening",
   "metadata": {},
   "outputs": [
    {
     "data": {
      "image/png": "[encoded data removed]",
      "text/plain": [
       "<Figure size 864x576 with 1 Axes>"
      ]
     },
     "metadata": {
      "needs_background": "light"
     },
     "output_type": "display_data"
    }
   ],
   "source": [
    "courbe_demande_2 = sp.plot_implicit(\n",
    "    equation_demande_2, \n",
    "    (x, 0, 1), \n",
    "    (p, 0, 0.7),\n",
    "    show=False\n",
    ")\n",
    "courbe_demande_2[0].line_color = \"red\"\n",
    "equilibre_2_y = sp.plot_implicit(sp.Eq(p, pm2b), (x, 0, 1), (p, 0, pm2b), show=False)\n",
    "equilibre_2_x = sp.plot_implicit(sp.Eq(x, nm2), (x, 0, nm2), (p, 0, 0.7), show=False)\n",
    "equilibre_2_y[0].line_color = \"red\"\n",
    "equilibre_2_x[0].line_color = \"red\"\n",
    "courbe_demande_2.extend([equilibre_2_y[0], equilibre_2_x[0]])\n",
    "\n",
    "courbe_demande_3 =  sp.plot_implicit(\n",
    "    equation_demande_3, \n",
    "    (x, 0, 1), \n",
    "    (p, 0, 0.7),\n",
    "    show=False\n",
    ")\n",
    "courbe_demande_2.append(courbe_demande_3[0])\n",
    "\n",
    "equilibre_3_y = sp.plot_implicit(sp.Eq(p, pm3), (x, 0, 1), (p, 0, pm3), show=False)\n",
    "equilibre_3_x = sp.plot_implicit(sp.Eq(x, nm3), (x, 0, nm3), (p, 0, 0.7), show=False)\n",
    "courbe_demande_2.extend([equilibre_3_y[0], equilibre_3_x[0]])\n",
    "\n",
    "courbe_demande_2.show()"
   ]
  },
  {
   "cell_type": "code",
   "execution_count": 95,
   "id": "polyphonic-accused",
   "metadata": {
    "tags": []
   },
   "outputs": [
    {
     "data": {
      "image/png": "[encoded data removed]",
      "text/latex": [
       "$\\displaystyle \\frac{1}{6}$"
      ],
      "text/plain": [
       "1/6"
      ]
     },
     "metadata": {},
     "output_type": "display_data"
    },
    {
     "data": {
      "image/png": "[encoded data removed]",
      "text/latex": [
       "$\\displaystyle \\frac{1}{6}$"
      ],
      "text/plain": [
       "1/6"
      ]
     },
     "metadata": {},
     "output_type": "display_data"
    },
    {
     "data": {
      "image/png": "[encoded data removed]",
      "text/latex": [
       "$\\displaystyle \\frac{1}{36}$"
      ],
      "text/plain": [
       "1/36"
      ]
     },
     "metadata": {},
     "output_type": "display_data"
    },
    {
     "data": {
      "image/png": "[encoded data removed]",
      "text/latex": [
       "$\\displaystyle \\frac{1}{4}$"
      ],
      "text/plain": [
       "1/4"
      ]
     },
     "metadata": {},
     "output_type": "display_data"
    },
    {
     "data": {
      "image/png": "[encoded data removed]",
      "text/latex": [
       "$\\displaystyle \\frac{1}{8}$"
      ],
      "text/plain": [
       "1/8"
      ]
     },
     "metadata": {},
     "output_type": "display_data"
    },
    {
     "data": {
      "image/png": "[encoded data removed]",
      "text/latex": [
       "$\\displaystyle \\frac{1}{32}$"
      ],
      "text/plain": [
       "1/32"
      ]
     },
     "metadata": {},
     "output_type": "display_data"
    },
    {
     "data": {
      "image/png": "[encoded data removed]",
      "text/latex": [
       "$\\displaystyle - p - x + \\frac{1}{3}$"
      ],
      "text/plain": [
       "-p - x + 1/3"
      ]
     },
     "metadata": {},
     "output_type": "display_data"
    },
    {
     "data": {
      "image/png": "[encoded data removed]",
      "text/latex": [
       "$\\displaystyle \\frac{1}{3}$"
      ],
      "text/plain": [
       "1/3"
      ]
     },
     "metadata": {},
     "output_type": "display_data"
    },
    {
     "data": {
      "image/png": "[encoded data removed]",
      "text/latex": [
       "$\\displaystyle - 2 p - x + \\frac{1}{2}$"
      ],
      "text/plain": [
       "-2⋅p - x + 1/2"
      ]
     },
     "metadata": {},
     "output_type": "display_data"
    },
    {
     "data": {
      "image/png": "[encoded data removed]",
      "text/latex": [
       "$\\displaystyle \\frac{1}{2}$"
      ],
      "text/plain": [
       "1/2"
      ]
     },
     "metadata": {},
     "output_type": "display_data"
    }
   ],
   "source": [
    "display(ne2, pm2b, pr2)\n",
    "display(nm3, pm3, pr3)\n",
    "demande2 = utilite_consommateur.subs(ne, ne2)\n",
    "display(demande2)\n",
    "inter2, = sp.solve(demande2.subs(p, 0), x)\n",
    "display(inter2)\n",
    "demande3 = n3 - x\n",
    "display(demande3)\n",
    "inter3, = sp.solve(demande3.subs(p, 0), x)\n",
    "display(inter3)"
   ]
  },
  {
   "cell_type": "code",
   "execution_count": 107,
   "id": "immune-settle",
   "metadata": {},
   "outputs": [
    {
     "data": {
      "text/plain": [
       "<matplotlib.legend.Legend at 0x7f8afbff1880>"
      ]
     },
     "execution_count": 107,
     "metadata": {},
     "output_type": "execute_result"
    },
    {
     "data": {
      "image/png": "[encoded data removed]",
      "text/plain": [
       "<Figure size 864x576 with 1 Axes>"
      ]
     },
     "metadata": {
      "needs_background": "light"
     },
     "output_type": "display_data"
    }
   ],
   "source": [
    "x_max, p_max = 0.6, 0.4\n",
    "X, P = np.meshgrid(np.linspace(0, x_max), np.linspace(0, y_max))\n",
    "\n",
    "D2 = sp.lambdify(args=(x, p), expr=demande2)(X, P)\n",
    "D3 = sp.lambdify(args=(x, p), expr=demande3)(X, P)\n",
    "\n",
    "figure, repere = plt.subplots()\n",
    "\n",
    "repere.spines[\"left\"].set_position(\"zero\")\n",
    "repere.spines[\"bottom\"].set_position(\"zero\")\n",
    "repere.spines[\"right\"].set_color(\"none\")\n",
    "repere.spines[\"top\"].set_color(\"none\")\n",
    "repere.set_xlabel(\"n\")\n",
    "repere.set_ylabel(\"p\")\n",
    "\n",
    "repere.set_xlim(0, x_max)\n",
    "repere.set_xticks([0, ne2.evalf(), nm3.evalf()])\n",
    "repere.set_xticklabels([0, f\"${sp.latex(ne2)}$\", f\"${sp.latex(nm3)}$\"])\n",
    "repere.set_ylim(0, p_max)\n",
    "repere.set_yticks([0, pm3.evalf(), pm2b.evalf()])\n",
    "repere.set_yticklabels([0, f\"${sp.latex(pm3)}$\", f\"${sp.latex(pm2b)}$\"])\n",
    "\n",
    "repere.plot(\n",
    "    [0, nm3.evalf()], \n",
    "    [pm3.evalf(), pm3.evalf()], \n",
    "    color=\"blue\", \n",
    "    linestyle=\"--\",\n",
    "    label=\"demande partie3\"\n",
    ")\n",
    "repere.plot(\n",
    "    [nm3.evalf(), nm3.evalf()], \n",
    "    [0, pm3.evalf()], \n",
    "    color=\"blue\", \n",
    "    linestyle=\"--\"\n",
    ")\n",
    "\n",
    "repere.plot(\n",
    "    [0, ne2.evalf()], \n",
    "    [pm2b.evalf(), pm2b.evalf()], \n",
    "    color=\"red\", \n",
    "    linestyle=\"--\",\n",
    "    label=\"demande partie2\"\n",
    ")\n",
    "repere.plot(\n",
    "    [ne2.evalf(), \n",
    "     ne2.evalf()], \n",
    "    [0, pm2b.evalf()], \n",
    "    color=\"red\", \n",
    "    linestyle=\"--\"\n",
    ")\n",
    "\n",
    "repere.contour(X, P, D2, levels=[0], colors=\"blue\")\n",
    "repere.contour(X, P, D3, levels=[0], colors=\"red\")\n",
    "\n",
    "repere.annotate(\n",
    "    text=f\"$\\pi={sp.latex(pr2)}$\", \n",
    "    xy=(ne2.evalf(), pm2b.evalf()),\n",
    "    xytext=(1.5 * ne2.evalf(), 1.5 * pm2b.evalf()),\n",
    "    arrowprops=dict(facecolor='red', shrink=0.05),\n",
    "    color=\"red\",\n",
    "    fontsize=\"large\"\n",
    ")\n",
    "repere.annotate(\n",
    "    text=f\"$\\pi={sp.latex(pr3)}$\", \n",
    "    xy=(nm3.evalf(), pm3.evalf()),\n",
    "    xytext=(1.5 * nm3.evalf(), 1.5 * pm3.evalf()),\n",
    "    arrowprops=dict(facecolor='blue', shrink=0.05),\n",
    "    color=\"blue\",\n",
    "    fontsize=\"large\"\n",
    ")\n",
    "\n",
    "ordonne32, = sp.solve(demande3.subs(x, inter2), p)\n",
    "abc = [ne2.evalf(), inter2.evalf(), inter3.evalf()]\n",
    "bas = [pm2b.evalf(), 0, 0]\n",
    "haut = [pm2b.evalf(), ordonne32.evalf(),0]\n",
    "repere.fill_between(\n",
    "    [float(nbr) for nbr in abc],\n",
    "    [float(nbr) for nbr in bas],\n",
    "    [float(nbr) for nbr in haut],\n",
    "    color=\"blue\",\n",
    "    alpha=0.5\n",
    ")\n",
    "\n",
    "repere.annotate(\n",
    "    text=\"Direct Network Effect\",\n",
    "    xy=(0.33, 0.05),\n",
    "    xytext=(0.5, 0.1),\n",
    "    arrowprops=dict(facecolor='black', shrink=0.05),\n",
    "    fontsize=\"large\"\n",
    ")\n",
    "\n",
    "repere.legend()"
   ]
  },
  {
   "cell_type": "markdown",
   "id": "stone-intensity",
   "metadata": {},
   "source": [
    "**REMARQUE** on note l'intérêt d'améliorer la nomenclature entre les parties!"
   ]
  },
  {
   "cell_type": "markdown",
   "id": "gentle-singles",
   "metadata": {},
   "source": [
    "# Question 5\n",
    "\n",
    "Suppose that there is a second group of consumers (of mass 1) who also have an opportunity costxthat is uniformly distributed on the unit interval.   The utility of consumerxin this second group is\n",
    "$$1=4+n^e_1(p_1)=2−p_2−x,$$\n",
    "where \n",
    "- $n^e_1(p_1)$ is the expected number of consumers in the first group buying theproduct \n",
    "- price $p_2$ is the price charged to the second group of consumers. \n",
    "\n",
    "Suppose that, similar to part 3, consumers of both groups first observe prices and then form beliefs. \n",
    "Thus, a consumer $x$ in the first group has net utility\n",
    "$$1=4+n^e_1(p_1)=2−p_1−x.$$\n",
    "Suppose that consumers from both groups hold self-fulfilling beliefs. \n",
    "Determine the monopoly solution (prices and quantities) under these consumer beliefs."
   ]
  },
  {
   "cell_type": "code",
   "execution_count": 42,
   "id": "sexual-treasurer",
   "metadata": {},
   "outputs": [
    {
     "data": {
      "image/png": "[encoded data removed]",
      "text/latex": [
       "$\\displaystyle \\left( p_{1}, \\  p_{2}\\right)$"
      ],
      "text/plain": [
       "(p₁, p₂)"
      ]
     },
     "execution_count": 42,
     "metadata": {},
     "output_type": "execute_result"
    }
   ],
   "source": [
    "p1, p2 = sp.symbols(\"p_1 p_2\")\n",
    "p1, p2"
   ]
  },
  {
   "cell_type": "code",
   "execution_count": 43,
   "id": "exclusive-peter",
   "metadata": {},
   "outputs": [
    {
     "data": {
      "image/png": "[encoded data removed]",
      "text/latex": [
       "$\\displaystyle \\operatorname{n^e_{1}}{\\left(p_{1} \\right)}$"
      ],
      "text/plain": [
       "n_{1}__e(p₁)"
      ]
     },
     "execution_count": 43,
     "metadata": {},
     "output_type": "execute_result"
    }
   ],
   "source": [
    "ne1 = sp.Function(\"n^e_{1}\")(p1)\n",
    "ne1"
   ]
  },
  {
   "cell_type": "code",
   "execution_count": 44,
   "id": "exceptional-security",
   "metadata": {},
   "outputs": [
    {
     "data": {
      "image/png": "[encoded data removed]",
      "text/latex": [
       "$\\displaystyle - p_{1} - x + \\frac{\\operatorname{n^e_{1}}{\\left(p_{1} \\right)}}{2} + \\frac{1}{4}$"
      ],
      "text/plain": [
       "          n_{1}__e(p₁)   1\n",
       "-p₁ - x + ──────────── + ─\n",
       "               2         4"
      ]
     },
     "metadata": {},
     "output_type": "display_data"
    },
    {
     "data": {
      "image/png": "[encoded data removed]",
      "text/latex": [
       "$\\displaystyle - p_{2} - x + \\frac{\\operatorname{n^e_{1}}{\\left(p_{1} \\right)}}{2} + \\frac{1}{4}$"
      ],
      "text/plain": [
       "          n_{1}__e(p₁)   1\n",
       "-p₂ - x + ──────────── + ─\n",
       "               2         4"
      ]
     },
     "metadata": {},
     "output_type": "display_data"
    }
   ],
   "source": [
    "utilite1 = sp.S(1) / 4 + ne1 / 2 - p1 - x\n",
    "display(utilite1)\n",
    "utilite2 = sp.S(1) / 4 + ne1 / 2 - p2 - x\n",
    "display(utilite2)"
   ]
  },
  {
   "cell_type": "code",
   "execution_count": 45,
   "id": "broad-persian",
   "metadata": {},
   "outputs": [
    {
     "data": {
      "image/png": "[encoded data removed]",
      "text/latex": [
       "$\\displaystyle - p_{1} + \\frac{\\operatorname{n^e_{1}}{\\left(p_{1} \\right)}}{2} + \\frac{1}{4}$"
      ],
      "text/plain": [
       "      n_{1}__e(p₁)   1\n",
       "-p₁ + ──────────── + ─\n",
       "           2         4"
      ]
     },
     "metadata": {},
     "output_type": "display_data"
    },
    {
     "data": {
      "image/png": "[encoded data removed]",
      "text/latex": [
       "$\\displaystyle - p_{2} + \\frac{\\operatorname{n^e_{1}}{\\left(p_{1} \\right)}}{2} + \\frac{1}{4}$"
      ],
      "text/plain": [
       "      n_{1}__e(p₁)   1\n",
       "-p₂ + ──────────── + ─\n",
       "           2         4"
      ]
     },
     "metadata": {},
     "output_type": "display_data"
    },
    {
     "data": {
      "image/png": "[encoded data removed]",
      "text/latex": [
       "$\\displaystyle p_{1} \\left(- p_{1} + \\frac{\\operatorname{n^e_{1}}{\\left(p_{1} \\right)}}{2} + \\frac{1}{4}\\right) + p_{2} \\left(- p_{2} + \\frac{\\operatorname{n^e_{1}}{\\left(p_{1} \\right)}}{2} + \\frac{1}{4}\\right)$"
      ],
      "text/plain": [
       "   ⎛      n_{1}__e(p₁)   1⎞      ⎛      n_{1}__e(p₁)   1⎞\n",
       "p₁⋅⎜-p₁ + ──────────── + ─⎟ + p₂⋅⎜-p₂ + ──────────── + ─⎟\n",
       "   ⎝           2         4⎠      ⎝           2         4⎠"
      ]
     },
     "metadata": {},
     "output_type": "display_data"
    },
    {
     "name": "stdout",
     "output_type": "stream",
     "text": [
      "p_{1} \\left(- p_{1} + \\frac{\\operatorname{n^e_{1}}{\\left(p_{1} \\right)}}{2} + \\frac{1}{4}\\right) + p_{2} \\left(- p_{2} + \\frac{\\operatorname{n^e_{1}}{\\left(p_{1} \\right)}}{2} + \\frac{1}{4}\\right)\n"
     ]
    }
   ],
   "source": [
    "demande1, = sp.solve(utilite1, x)\n",
    "demande2, = sp.solve(utilite2, x)\n",
    "\n",
    "profit = p1 * demande1 + p2 * demande2\n",
    "display(demande1, demande2, profit)\n",
    "print(sp.latex(profit))"
   ]
  },
  {
   "cell_type": "markdown",
   "id": "hearing-assembly",
   "metadata": {},
   "source": [
    "On cherche maintenant à effectuer\n",
    "$$\n",
    "\\underset{p_1\\geq 0, p_2\\geq 0}{\\sup} p_{1} \\left(\\frac{n^e_{1}(p_1)}{2} - p_{1} + \\frac{1}{4}\\right) + p_{2} \\left(\\frac{n^e_{1}(p_1)}{2} - p_{2} + \\frac{1}{4}\\right)\n",
    "$$"
   ]
  },
  {
   "cell_type": "code",
   "execution_count": 46,
   "id": "nasty-praise",
   "metadata": {},
   "outputs": [
    {
     "data": {
      "text/latex": [
       "$\\displaystyle \\left[\\begin{matrix}\\frac{p_{1} \\frac{d^{2}}{d p_{1}^{2}} \\operatorname{n^e_{1}}{\\left(p_{1} \\right)}}{2} + \\frac{p_{2} \\frac{d^{2}}{d p_{1}^{2}} \\operatorname{n^e_{1}}{\\left(p_{1} \\right)}}{2} + \\frac{d}{d p_{1}} \\operatorname{n^e_{1}}{\\left(p_{1} \\right)} - 2 & \\frac{\\frac{d}{d p_{1}} \\operatorname{n^e_{1}}{\\left(p_{1} \\right)}}{2}\\\\\\frac{\\frac{d}{d p_{1}} \\operatorname{n^e_{1}}{\\left(p_{1} \\right)}}{2} & -2\\end{matrix}\\right]$"
      ],
      "text/plain": [
       "⎡     2                       2                                               \n",
       "⎢    d                       d                                                \n",
       "⎢p₁⋅────(n_{1}__e(p₁))   p₂⋅────(n_{1}__e(p₁))                           d    \n",
       "⎢      2                       2                                        ───(n_\n",
       "⎢   dp₁                     dp₁                   d                     dp₁   \n",
       "⎢───────────────────── + ───────────────────── + ───(n_{1}__e(p₁)) - 2  ──────\n",
       "⎢          2                       2             dp₁                          \n",
       "⎢                                                                             \n",
       "⎢                           d                                                 \n",
       "⎢                          ───(n_{1}__e(p₁))                                  \n",
       "⎢                          dp₁                                                \n",
       "⎢                          ─────────────────                                  \n",
       "⎣                                  2                                          \n",
       "\n",
       "           ⎤\n",
       "           ⎥\n",
       "           ⎥\n",
       "{1}__e(p₁))⎥\n",
       "           ⎥\n",
       "───────────⎥\n",
       "  2        ⎥\n",
       "           ⎥\n",
       "           ⎥\n",
       "           ⎥\n",
       "           ⎥\n",
       " -2        ⎥\n",
       "           ⎦"
      ]
     },
     "metadata": {},
     "output_type": "display_data"
    }
   ],
   "source": [
    "H = sp.hessian(profit, (p1, p2))\n",
    "display(H)"
   ]
  },
  {
   "cell_type": "markdown",
   "id": "under-stockholm",
   "metadata": {},
   "source": [
    "**ATTENTION** Suite à reprendre car $n^e_1$ dépendait de $p_1$!"
   ]
  },
  {
   "cell_type": "code",
   "execution_count": 47,
   "id": "latter-gentleman",
   "metadata": {},
   "outputs": [
    {
     "data": {
      "image/png": "[encoded data removed]",
      "text/latex": [
       "$\\displaystyle \\left[ p_{1} \\left(\\frac{\\frac{d}{d p_{1}} \\operatorname{n^e_{1}}{\\left(p_{1} \\right)}}{2} - 1\\right) - p_{1} + \\frac{p_{2} \\frac{d}{d p_{1}} \\operatorname{n^e_{1}}{\\left(p_{1} \\right)}}{2} + \\frac{\\operatorname{n^e_{1}}{\\left(p_{1} \\right)}}{2} + \\frac{1}{4}, \\  - 2 p_{2} + \\frac{\\operatorname{n^e_{1}}{\\left(p_{1} \\right)}}{2} + \\frac{1}{4}\\right]$"
      ],
      "text/plain": [
       "⎡   ⎛ d                   ⎞            d                                      \n",
       "⎢   ⎜───(n_{1}__e(p₁))    ⎟        p₂⋅───(n_{1}__e(p₁))                       \n",
       "⎢   ⎜dp₁                  ⎟           dp₁                 n_{1}__e(p₁)   1    \n",
       "⎢p₁⋅⎜───────────────── - 1⎟ - p₁ + ──────────────────── + ──────────── + ─, -2\n",
       "⎣   ⎝        2            ⎠                 2                  2         4    \n",
       "\n",
       "                      ⎤\n",
       "                      ⎥\n",
       "      n_{1}__e(p₁)   1⎥\n",
       "⋅p₂ + ──────────── + ─⎥\n",
       "           2         4⎦"
      ]
     },
     "metadata": {},
     "output_type": "display_data"
    }
   ],
   "source": [
    "gradient = [sp.diff(profit, p1), sp.diff(profit, p2)]\n",
    "display(gradient)"
   ]
  },
  {
   "cell_type": "code",
   "execution_count": 48,
   "id": "material-shield",
   "metadata": {},
   "outputs": [
    {
     "ename": "NotImplementedError",
     "evalue": "could not solve 4*_Dummy_27*(n^e_{1}(p_1)/4 + 1/8) + 4*p_1*(_Dummy_27 - 4) + 4*n^e_{1}(p_1) + 2",
     "output_type": "error",
     "traceback": [
      "\u001b[0;31m---------------------------------------------------------------------------\u001b[0m",
      "\u001b[0;31mNotImplementedError\u001b[0m                       Traceback (most recent call last)",
      "\u001b[0;32m<ipython-input-48-e7431f182a80>\u001b[0m in \u001b[0;36m<module>\u001b[0;34m\u001b[0m\n\u001b[0;32m----> 1\u001b[0;31m \u001b[0msol\u001b[0m\u001b[0;34m,\u001b[0m \u001b[0;34m=\u001b[0m \u001b[0msp\u001b[0m\u001b[0;34m.\u001b[0m\u001b[0msolve\u001b[0m\u001b[0;34m(\u001b[0m\u001b[0mgradient\u001b[0m\u001b[0;34m,\u001b[0m \u001b[0;34m(\u001b[0m\u001b[0mp1\u001b[0m\u001b[0;34m,\u001b[0m \u001b[0mp2\u001b[0m\u001b[0;34m)\u001b[0m\u001b[0;34m,\u001b[0m \u001b[0mdict\u001b[0m\u001b[0;34m=\u001b[0m\u001b[0;32mTrue\u001b[0m\u001b[0;34m)\u001b[0m\u001b[0;34m\u001b[0m\u001b[0;34m\u001b[0m\u001b[0m\n\u001b[0m\u001b[1;32m      2\u001b[0m \u001b[0mdisplay\u001b[0m\u001b[0;34m(\u001b[0m\u001b[0msol\u001b[0m\u001b[0;34m)\u001b[0m\u001b[0;34m\u001b[0m\u001b[0;34m\u001b[0m\u001b[0m\n",
      "\u001b[0;32m~/miniconda3/lib/python3.8/site-packages/sympy/solvers/solvers.py\u001b[0m in \u001b[0;36msolve\u001b[0;34m(f, *symbols, **flags)\u001b[0m\n\u001b[1;32m   1097\u001b[0m         \u001b[0msolution\u001b[0m \u001b[0;34m=\u001b[0m \u001b[0m_solve\u001b[0m\u001b[0;34m(\u001b[0m\u001b[0mf\u001b[0m\u001b[0;34m[\u001b[0m\u001b[0;36m0\u001b[0m\u001b[0;34m]\u001b[0m\u001b[0;34m,\u001b[0m \u001b[0;34m*\u001b[0m\u001b[0msymbols\u001b[0m\u001b[0;34m,\u001b[0m \u001b[0;34m**\u001b[0m\u001b[0mflags\u001b[0m\u001b[0;34m)\u001b[0m\u001b[0;34m\u001b[0m\u001b[0;34m\u001b[0m\u001b[0m\n\u001b[1;32m   1098\u001b[0m     \u001b[0;32melse\u001b[0m\u001b[0;34m:\u001b[0m\u001b[0;34m\u001b[0m\u001b[0;34m\u001b[0m\u001b[0m\n\u001b[0;32m-> 1099\u001b[0;31m         \u001b[0msolution\u001b[0m \u001b[0;34m=\u001b[0m \u001b[0m_solve_system\u001b[0m\u001b[0;34m(\u001b[0m\u001b[0mf\u001b[0m\u001b[0;34m,\u001b[0m \u001b[0msymbols\u001b[0m\u001b[0;34m,\u001b[0m \u001b[0;34m**\u001b[0m\u001b[0mflags\u001b[0m\u001b[0;34m)\u001b[0m\u001b[0;34m\u001b[0m\u001b[0;34m\u001b[0m\u001b[0m\n\u001b[0m\u001b[1;32m   1100\u001b[0m \u001b[0;34m\u001b[0m\u001b[0m\n\u001b[1;32m   1101\u001b[0m     \u001b[0;31m#\u001b[0m\u001b[0;34m\u001b[0m\u001b[0;34m\u001b[0m\u001b[0;34m\u001b[0m\u001b[0m\n",
      "\u001b[0;32m~/miniconda3/lib/python3.8/site-packages/sympy/solvers/solvers.py\u001b[0m in \u001b[0;36m_solve_system\u001b[0;34m(exprs, symbols, **flags)\u001b[0m\n\u001b[1;32m   1955\u001b[0m                     \u001b[0mgot_s\u001b[0m\u001b[0;34m.\u001b[0m\u001b[0madd\u001b[0m\u001b[0;34m(\u001b[0m\u001b[0ms\u001b[0m\u001b[0;34m)\u001b[0m\u001b[0;34m\u001b[0m\u001b[0;34m\u001b[0m\u001b[0m\n\u001b[1;32m   1956\u001b[0m                 \u001b[0;32mif\u001b[0m \u001b[0;32mnot\u001b[0m \u001b[0mhit\u001b[0m\u001b[0;34m:\u001b[0m\u001b[0;34m\u001b[0m\u001b[0;34m\u001b[0m\u001b[0m\n\u001b[0;32m-> 1957\u001b[0;31m                     \u001b[0;32mraise\u001b[0m \u001b[0mNotImplementedError\u001b[0m\u001b[0;34m(\u001b[0m\u001b[0;34m'could not solve %s'\u001b[0m \u001b[0;34m%\u001b[0m \u001b[0meq2\u001b[0m\u001b[0;34m)\u001b[0m\u001b[0;34m\u001b[0m\u001b[0;34m\u001b[0m\u001b[0m\n\u001b[0m\u001b[1;32m   1958\u001b[0m             \u001b[0;32melse\u001b[0m\u001b[0;34m:\u001b[0m\u001b[0;34m\u001b[0m\u001b[0;34m\u001b[0m\u001b[0m\n\u001b[1;32m   1959\u001b[0m                 \u001b[0mresult\u001b[0m \u001b[0;34m=\u001b[0m \u001b[0mnewresult\u001b[0m\u001b[0;34m\u001b[0m\u001b[0;34m\u001b[0m\u001b[0m\n",
      "\u001b[0;31mNotImplementedError\u001b[0m: could not solve 4*_Dummy_27*(n^e_{1}(p_1)/4 + 1/8) + 4*p_1*(_Dummy_27 - 4) + 4*n^e_{1}(p_1) + 2"
     ]
    }
   ],
   "source": [
    "sol, = sp.solve(gradient, (p1, p2), dict=True)\n",
    "display(sol)"
   ]
  },
  {
   "cell_type": "markdown",
   "id": "illegal-competition",
   "metadata": {},
   "source": [
    "On voit que le point critique est dans l'intérieur du domaine de maximisation donc grâce à la stricte concavité il s'agit de l'unique maximum global.\n",
    "\n",
    "Comme les consommateurs on des croyances auto-réalisatrices on en déduit"
   ]
  },
  {
   "cell_type": "code",
   "execution_count": 49,
   "id": "apart-arena",
   "metadata": {},
   "outputs": [
    {
     "data": {
      "image/png": "[encoded data removed]",
      "text/latex": [
       "$\\displaystyle \\frac{1}{2} - 2 p_{1}$"
      ],
      "text/plain": [
       "1/2 - 2⋅p₁"
      ]
     },
     "metadata": {},
     "output_type": "display_data"
    },
    {
     "name": "stderr",
     "output_type": "stream",
     "text": [
      "/home/vincent/miniconda3/lib/python3.8/site-packages/sympy/core/relational.py:492: SymPyDeprecationWarning: \n",
      "\n",
      "Eq(expr) with rhs default to 0 has been deprecated since SymPy 1.5.\n",
      "Use Eq(expr, 0) instead. See\n",
      "https://github.com/sympy/sympy/issues/16587 for more info.\n",
      "\n",
      "  SymPyDeprecationWarning(\n"
     ]
    }
   ],
   "source": [
    "nm31, = sp.solve(sp.Eq(utilite1.subs(x, ne1), 0), ne1)\n",
    "display(nm31)\n",
    "nm32, = sp.solve(sp.Eq(utilite2.subs(x, ne1)))"
   ]
  },
  {
   "cell_type": "markdown",
   "id": "civil-conservation",
   "metadata": {},
   "source": [
    "# Question 6\n",
    "\n",
    "Within the setting of part 5, suppose that the monopolist is forced to charge the same price to both groups of consumers; i.e.\n",
    "$$p=p_1=p_2.$$\n",
    "Determine the monopoly solution\n"
   ]
  },
  {
   "cell_type": "markdown",
   "id": "trained-board",
   "metadata": {},
   "source": [
    "# Question 7\n",
    "\n",
    "Explain your findings in parts 5 and 6. \n",
    "Does the monopolist have an incentive to charge prices $p_1 \\neq p_2$?\n",
    "\n",
    "Why or why not is this the case?"
   ]
  },
  {
   "cell_type": "markdown",
   "id": "subtle-arcade",
   "metadata": {},
   "source": [
    "# Pistes d'amélioration\n",
    "\n",
    "- Améliorer la nomenclature des variables python.\n",
    "- Rajouter des h2 dans les réponses pour séparer les étapes.\n",
    "- Utiliser `display` pour améliorer la lisibilité des affichages en rajoutant des préambules.\n",
    "- Coder des librairies auxiliaires pour filtrer le niveau de détail.\n",
    "- Gérer les espaces de nom par question et global."
   ]
  }
 ],
 "metadata": {
  "kernelspec": {
   "display_name": "Python 3",
   "language": "python",
   "name": "python3"
  },
  "language_info": {
   "codemirror_mode": {
    "name": "ipython",
    "version": 3
   },
   "file_extension": ".py",
   "mimetype": "text/x-python",
   "name": "python",
   "nbconvert_exporter": "python",
   "pygments_lexer": "ipython3",
   "version": "3.8.3"
  }
 },
 "nbformat": 4,
 "nbformat_minor": 5
}
